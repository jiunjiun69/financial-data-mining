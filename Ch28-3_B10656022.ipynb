{
 "cells": [
  {
   "cell_type": "code",
   "execution_count": 5,
   "metadata": {},
   "outputs": [],
   "source": [
    "import pandas as pd\n",
    "from matplotlib.font_manager import FontProperties\n",
    "import warnings\n",
    "warnings.filterwarnings(\"ignore\")\n",
    "from mpl_finance import candlestick_ohlc"
   ]
  },
  {
   "cell_type": "code",
   "execution_count": 6,
   "metadata": {},
   "outputs": [
    {
     "data": {
      "text/html": [
       "<div>\n",
       "<style scoped>\n",
       "    .dataframe tbody tr th:only-of-type {\n",
       "        vertical-align: middle;\n",
       "    }\n",
       "\n",
       "    .dataframe tbody tr th {\n",
       "        vertical-align: top;\n",
       "    }\n",
       "\n",
       "    .dataframe thead th {\n",
       "        text-align: right;\n",
       "    }\n",
       "</style>\n",
       "<table border=\"1\" class=\"dataframe\">\n",
       "  <thead>\n",
       "    <tr style=\"text-align: right;\">\n",
       "      <th></th>\n",
       "      <th>Date</th>\n",
       "      <th>Open</th>\n",
       "      <th>High</th>\n",
       "      <th>Low</th>\n",
       "      <th>Close</th>\n",
       "      <th>Volume</th>\n",
       "    </tr>\n",
       "  </thead>\n",
       "  <tbody>\n",
       "    <tr>\n",
       "      <th>0</th>\n",
       "      <td>2013-01-02</td>\n",
       "      <td>7738.05</td>\n",
       "      <td>7793.48</td>\n",
       "      <td>7715.26</td>\n",
       "      <td>7779.22</td>\n",
       "      <td>3416421</td>\n",
       "    </tr>\n",
       "    <tr>\n",
       "      <th>1</th>\n",
       "      <td>2013-01-03</td>\n",
       "      <td>7826.34</td>\n",
       "      <td>7855.16</td>\n",
       "      <td>7815.29</td>\n",
       "      <td>7836.84</td>\n",
       "      <td>4480963</td>\n",
       "    </tr>\n",
       "    <tr>\n",
       "      <th>2</th>\n",
       "      <td>2013-01-04</td>\n",
       "      <td>7818.27</td>\n",
       "      <td>7818.27</td>\n",
       "      <td>7773.06</td>\n",
       "      <td>7805.99</td>\n",
       "      <td>4172906</td>\n",
       "    </tr>\n",
       "  </tbody>\n",
       "</table>\n",
       "</div>"
      ],
      "text/plain": [
       "         Date     Open     High      Low    Close   Volume\n",
       "0  2013-01-02  7738.05  7793.48  7715.26  7779.22  3416421\n",
       "1  2013-01-03  7826.34  7855.16  7815.29  7836.84  4480963\n",
       "2  2013-01-04  7818.27  7818.27  7773.06  7805.99  4172906"
      ]
     },
     "execution_count": 6,
     "metadata": {},
     "output_type": "execute_result"
    }
   ],
   "source": [
    "taiex2013=pd.read_csv('taiex2013.csv',sep='\\t')\n",
    "taiex2013.head(n=3)"
   ]
  },
  {
   "cell_type": "code",
   "execution_count": 7,
   "metadata": {},
   "outputs": [],
   "source": [
    "taiex2013.index = pd.to_datetime(taiex2013.Date)\n",
    "type(taiex2013.index)\n",
    "taiex201304 = taiex2013['2013-04'] "
   ]
  },
  {
   "cell_type": "code",
   "execution_count": 8,
   "metadata": {},
   "outputs": [],
   "source": [
    "from matplotlib.dates import date2num\n",
    "from datetime import datetime"
   ]
  },
  {
   "cell_type": "code",
   "execution_count": 9,
   "metadata": {},
   "outputs": [
    {
     "data": {
      "text/html": [
       "<div>\n",
       "<style scoped>\n",
       "    .dataframe tbody tr th:only-of-type {\n",
       "        vertical-align: middle;\n",
       "    }\n",
       "\n",
       "    .dataframe tbody tr th {\n",
       "        vertical-align: top;\n",
       "    }\n",
       "\n",
       "    .dataframe thead th {\n",
       "        text-align: right;\n",
       "    }\n",
       "</style>\n",
       "<table border=\"1\" class=\"dataframe\">\n",
       "  <thead>\n",
       "    <tr style=\"text-align: right;\">\n",
       "      <th></th>\n",
       "      <th>Date</th>\n",
       "      <th>Open</th>\n",
       "      <th>High</th>\n",
       "      <th>Low</th>\n",
       "      <th>Close</th>\n",
       "      <th>Volume</th>\n",
       "    </tr>\n",
       "    <tr>\n",
       "      <th>Date</th>\n",
       "      <th></th>\n",
       "      <th></th>\n",
       "      <th></th>\n",
       "      <th></th>\n",
       "      <th></th>\n",
       "      <th></th>\n",
       "    </tr>\n",
       "  </thead>\n",
       "  <tbody>\n",
       "    <tr>\n",
       "      <th>2013-04-01</th>\n",
       "      <td>15796.0</td>\n",
       "      <td>7934.25</td>\n",
       "      <td>7937.73</td>\n",
       "      <td>7896.57</td>\n",
       "      <td>7899.24</td>\n",
       "      <td>2691053</td>\n",
       "    </tr>\n",
       "    <tr>\n",
       "      <th>2013-04-02</th>\n",
       "      <td>15797.0</td>\n",
       "      <td>7897.16</td>\n",
       "      <td>7924.46</td>\n",
       "      <td>7879.55</td>\n",
       "      <td>7913.18</td>\n",
       "      <td>2836215</td>\n",
       "    </tr>\n",
       "    <tr>\n",
       "      <th>2013-04-03</th>\n",
       "      <td>15798.0</td>\n",
       "      <td>7949.12</td>\n",
       "      <td>7954.15</td>\n",
       "      <td>7913.77</td>\n",
       "      <td>7942.35</td>\n",
       "      <td>3097976</td>\n",
       "    </tr>\n",
       "    <tr>\n",
       "      <th>2013-04-08</th>\n",
       "      <td>15803.0</td>\n",
       "      <td>7831.22</td>\n",
       "      <td>7843.10</td>\n",
       "      <td>7747.47</td>\n",
       "      <td>7752.79</td>\n",
       "      <td>3929740</td>\n",
       "    </tr>\n",
       "    <tr>\n",
       "      <th>2013-04-09</th>\n",
       "      <td>15804.0</td>\n",
       "      <td>7766.62</td>\n",
       "      <td>7781.13</td>\n",
       "      <td>7714.93</td>\n",
       "      <td>7728.54</td>\n",
       "      <td>3170515</td>\n",
       "    </tr>\n",
       "  </tbody>\n",
       "</table>\n",
       "</div>"
      ],
      "text/plain": [
       "               Date     Open     High      Low    Close   Volume\n",
       "Date                                                            \n",
       "2013-04-01  15796.0  7934.25  7937.73  7896.57  7899.24  2691053\n",
       "2013-04-02  15797.0  7897.16  7924.46  7879.55  7913.18  2836215\n",
       "2013-04-03  15798.0  7949.12  7954.15  7913.77  7942.35  3097976\n",
       "2013-04-08  15803.0  7831.22  7843.10  7747.47  7752.79  3929740\n",
       "2013-04-09  15804.0  7766.62  7781.13  7714.93  7728.54  3170515"
      ]
     },
     "execution_count": 9,
     "metadata": {},
     "output_type": "execute_result"
    }
   ],
   "source": [
    "taiex201304.Date=[date2num(datetime.strptime(date,\"%Y-%m-%d\"))\\\n",
    "               for date in taiex201304.Date]\n",
    "            \n",
    "taiex201304.head()"
   ]
  },
  {
   "cell_type": "code",
   "execution_count": 10,
   "metadata": {},
   "outputs": [
    {
     "data": {
      "text/plain": [
       "pandas.core.frame.DataFrame"
      ]
     },
     "execution_count": 10,
     "metadata": {},
     "output_type": "execute_result"
    }
   ],
   "source": [
    "type(taiex201304)"
   ]
  },
  {
   "cell_type": "code",
   "execution_count": 11,
   "metadata": {},
   "outputs": [],
   "source": [
    "taiex201304_listData=[]\n",
    "for i in range(len(taiex201304)):\n",
    "    a=[taiex201304.Date[i],\\\n",
    "    taiex201304.Open[i],taiex201304.High[i],\\\n",
    "    taiex201304.Low[i],taiex201304.Close[i]]\n",
    "    taiex201304_listData.append(a)"
   ]
  },
  {
   "cell_type": "code",
   "execution_count": 13,
   "metadata": {},
   "outputs": [
    {
     "data": {
      "text/plain": [
       "[[15796.0, 7934.25, 7937.73, 7896.57, 7899.24],\n",
       " [15797.0, 7897.16, 7924.46, 7879.55, 7913.18],\n",
       " [15798.0, 7949.12, 7954.15, 7913.77, 7942.35],\n",
       " [15803.0, 7831.22, 7843.1, 7747.47, 7752.79],\n",
       " [15804.0, 7766.62, 7781.13, 7714.93, 7728.54],\n",
       " [15805.0, 7772.95, 7772.95, 7739.99, 7752.8],\n",
       " [15806.0, 7788.58, 7857.98, 7788.58, 7857.98],\n",
       " [15807.0, 7861.12, 7864.86, 7810.54, 7821.63],\n",
       " [15810.0, 7815.32, 7835.12, 7753.24, 7763.53],\n",
       " [15811.0, 7690.91, 7801.05, 7688.62, 7801.05],\n",
       " [15812.0, 7822.81, 7822.81, 7791.53, 7809.07],\n",
       " [15813.0, 7781.48, 7826.13, 7757.33, 7791.35],\n",
       " [15814.0, 7868.9, 7933.72, 7862.92, 7930.8],\n",
       " [15817.0, 7976.1, 7996.55, 7950.01, 7970.38],\n",
       " [15818.0, 7955.92, 7968.79, 7913.6, 7942.77],\n",
       " [15819.0, 7977.4, 8025.45, 7968.28, 8023.71],\n",
       " [15820.0, 8015.38, 8026.46, 7994.19, 8021.75],\n",
       " [15821.0, 8034.47, 8081.37, 8020.47, 8022.06],\n",
       " [15824.0, 8043.71, 8046.22, 8014.27, 8029.74],\n",
       " [15825.0, 8065.92, 8115.59, 8065.92, 8093.66]]"
      ]
     },
     "execution_count": 13,
     "metadata": {},
     "output_type": "execute_result"
    }
   ],
   "source": [
    "taiex201304_listData"
   ]
  },
  {
   "cell_type": "code",
   "execution_count": 14,
   "metadata": {},
   "outputs": [],
   "source": [
    "import numpy as np\n",
    "import mpl_finance\n",
    "import matplotlib.pyplot as plt\n",
    "from matplotlib.dates import DateFormatter, WeekdayLocator,\\\n",
    "    DayLocator, MONDAY"
   ]
  },
  {
   "cell_type": "code",
   "execution_count": 15,
   "metadata": {},
   "outputs": [],
   "source": [
    "from mpl_finance import candlestick_ohlc"
   ]
  },
  {
   "cell_type": "code",
   "execution_count": 16,
   "metadata": {},
   "outputs": [
    {
     "name": "stderr",
     "output_type": "stream",
     "text": [
      "findfont: Font family ['sans-serif'] not found. Falling back to DejaVu Sans.\n",
      "findfont: Generic family 'sans-serif' not found because none of the following families were found: SimHei\n",
      "findfont: Font family ['sans-serif'] not found. Falling back to DejaVu Sans.\n",
      "findfont: Generic family 'sans-serif' not found because none of the following families were found: SimHei\n"
     ]
    },
    {
     "data": {
      "image/png": "[encoded data removed]",
      "text/plain": [
       "<Figure size 432x288 with 1 Axes>"
      ]
     },
     "metadata": {
      "needs_background": "light"
     },
     "output_type": "display_data"
    }
   ],
   "source": [
    "ax= plt.subplot()\n",
    "mondays = WeekdayLocator(MONDAY)\n",
    "ax.xaxis.set_major_locator(mondays)\n",
    "ax.xaxis.set_minor_locator(DayLocator() )\n",
    "weekFormatter = DateFormatter('%y %b %d')\n",
    "ax.xaxis.set_major_formatter(weekFormatter)\n",
    "plt.rcParams['font.sans-serif'] = ['SimHei']\n",
    "plt.rcParams['axes.unicode_minus'] = False\n",
    "ax.set_title('加權股價指數2013年4月份K線圖')\n",
    "candlestick_ohlc(ax,taiex201304_listData,width=1,\n",
    "    colorup='r', colordown='g',alpha=1.0);\n",
    "plt.setp(plt.gca().get_xticklabels(),\n",
    "    rotation=50,\n",
    "    horizontalalignment='center')\n",
    "plt.show()"
   ]
  },
  {
   "cell_type": "code",
   "execution_count": 17,
   "metadata": {},
   "outputs": [],
   "source": [
    "def candlePlot(seriesData,title='a'):   \n",
    "    #設定日期格式\n",
    "    Date=[date2num(date) for date in seriesData.index]\n",
    "    seriesData.loc[:,'Date']=Date\n",
    "\n",
    "    #將DataFrame數據轉換成List類型\n",
    "    listData=[]\n",
    "    for i in range(len(seriesData)):\n",
    "        a=[seriesData.Date[i],\\\n",
    "        seriesData.Open[i],seriesData.High[i],\\\n",
    "        seriesData.Low[i],seriesData.Close[i]]\n",
    "        listData.append(a)\n",
    "\n",
    "    #設定繪圖相關參數\n",
    "    ax = plt.subplot()\n",
    "    mondays = WeekdayLocator(MONDAY)\n",
    "    #日期格式為‘15-Mar-09’形式\n",
    "    weekFormatter = DateFormatter('%y %b %d')\n",
    "    ax.xaxis.set_major_locator(mondays)\n",
    "    ax.xaxis.set_minor_locator(DayLocator())\n",
    "    ax.xaxis.set_major_formatter(weekFormatter)\n",
    "\n",
    "    #調用candlestick_ohlc函數\n",
    "    candlestick_ohlc(ax,listData, width=0.7,\\\n",
    "                     colorup='r',colordown='g')\n",
    "    ax.set_title(title) #設定標題\n",
    "    #設定x軸日期顯示角度\n",
    "    plt.setp(plt.gca().get_xticklabels(), \\\n",
    "    rotation=50,horizontalalignment='center')\n",
    "    return(plt.show())"
   ]
  },
  {
   "cell_type": "code",
   "execution_count": 18,
   "metadata": {},
   "outputs": [
    {
     "data": {
      "image/png": "[encoded data removed]",
      "text/plain": [
       "<Figure size 432x288 with 1 Axes>"
      ]
     },
     "metadata": {
      "needs_background": "light"
     },
     "output_type": "display_data"
    }
   ],
   "source": [
    "candlePlot(taiex201304,title='加權股價指數2013年4月份K線圖')"
   ]
  },
  {
   "cell_type": "code",
   "execution_count": 21,
   "metadata": {},
   "outputs": [
    {
     "data": {
      "text/html": [
       "<div>\n",
       "<style scoped>\n",
       "    .dataframe tbody tr th:only-of-type {\n",
       "        vertical-align: middle;\n",
       "    }\n",
       "\n",
       "    .dataframe tbody tr th {\n",
       "        vertical-align: top;\n",
       "    }\n",
       "\n",
       "    .dataframe thead th {\n",
       "        text-align: right;\n",
       "    }\n",
       "</style>\n",
       "<table border=\"1\" class=\"dataframe\">\n",
       "  <thead>\n",
       "    <tr style=\"text-align: right;\">\n",
       "      <th></th>\n",
       "      <th>Date</th>\n",
       "      <th>Open</th>\n",
       "      <th>High</th>\n",
       "      <th>Low</th>\n",
       "      <th>Close</th>\n",
       "      <th>Volume</th>\n",
       "    </tr>\n",
       "    <tr>\n",
       "      <th>Date</th>\n",
       "      <th></th>\n",
       "      <th></th>\n",
       "      <th></th>\n",
       "      <th></th>\n",
       "      <th></th>\n",
       "      <th></th>\n",
       "    </tr>\n",
       "  </thead>\n",
       "  <tbody>\n",
       "    <tr>\n",
       "      <th>2011-12-29</th>\n",
       "      <td>2011-12-29</td>\n",
       "      <td>7026.86</td>\n",
       "      <td>7074.82</td>\n",
       "      <td>6998.97</td>\n",
       "      <td>7074.82</td>\n",
       "      <td>2222251</td>\n",
       "    </tr>\n",
       "    <tr>\n",
       "      <th>2011-12-30</th>\n",
       "      <td>2011-12-30</td>\n",
       "      <td>7109.85</td>\n",
       "      <td>7139.03</td>\n",
       "      <td>7054.79</td>\n",
       "      <td>7072.08</td>\n",
       "      <td>2529183</td>\n",
       "    </tr>\n",
       "  </tbody>\n",
       "</table>\n",
       "</div>"
      ],
      "text/plain": [
       "                  Date     Open     High      Low    Close   Volume\n",
       "Date                                                               \n",
       "2011-12-29  2011-12-29  7026.86  7074.82  6998.97  7074.82  2222251\n",
       "2011-12-30  2011-12-30  7109.85  7139.03  7054.79  7072.08  2529183"
      ]
     },
     "execution_count": 21,
     "metadata": {},
     "output_type": "execute_result"
    }
   ],
   "source": [
    "#morning star\n",
    "taiex2011=pd.read_csv('taiex2011.csv',sep='\\t')\n",
    "taiex2011.index=pd.to_datetime(taiex2011.Date,\n",
    "    format='%Y-%m-%d')\n",
    "\n",
    "taiex2011.head(2)\n",
    "taiex2011.iloc[-2:,:]"
   ]
  },
  {
   "cell_type": "code",
   "execution_count": 23,
   "metadata": {},
   "outputs": [
    {
     "data": {
      "text/plain": [
       "count    247.000000\n",
       "mean     -15.701093\n",
       "std       76.099084\n",
       "min     -259.050000\n",
       "25%      -59.850000\n",
       "50%      -10.350000\n",
       "75%       35.325000\n",
       "max      231.580000\n",
       "dtype: float64"
      ]
     },
     "execution_count": 23,
     "metadata": {},
     "output_type": "execute_result"
    }
   ],
   "source": [
    "Close=taiex2011.Close\n",
    "Open=taiex2011.Open\n",
    "ClOp=Close-Open\n",
    "ClOp.head()\n",
    "ClOp.describe()"
   ]
  },
  {
   "cell_type": "code",
   "execution_count": 24,
   "metadata": {},
   "outputs": [
    {
     "name": "stdout",
     "output_type": "stream",
     "text": [
      "-47.92000000000007 -168.01000000000022 16.979999999999563 23.960000000000036\n",
      "-168.01000000000022 16.979999999999563 -122.53000000000065 84.00500000000011\n",
      "16.979999999999563 -122.53000000000065 19.829999999999927 8.489999999999782\n",
      "-122.53000000000065 19.829999999999927 120.59000000000015 61.26500000000033\n",
      "19.829999999999927 120.59000000000015 -27.01000000000022 9.914999999999964\n",
      "120.59000000000015 -27.01000000000022 -58.590000000000146 60.29500000000007\n",
      "-27.01000000000022 -58.590000000000146 -12.829999999999927 13.50500000000011\n",
      "-58.590000000000146 -12.829999999999927 -73.79999999999927 29.295000000000073\n",
      "-12.829999999999927 -73.79999999999927 98.15999999999985 6.414999999999964\n",
      "-73.79999999999927 98.15999999999985 62.720000000001164 36.899999999999636\n",
      "98.15999999999985 62.720000000001164 -37.6299999999992 49.07999999999993\n",
      "62.720000000001164 -37.6299999999992 19.089999999998327 31.360000000000582\n",
      "-37.6299999999992 19.089999999998327 -35.79999999999927 18.8149999999996\n",
      "19.089999999998327 -35.79999999999927 -10.350000000000364 9.544999999999163\n",
      "-35.79999999999927 -10.350000000000364 45.18000000000029 17.899999999999636\n",
      "-10.350000000000364 45.18000000000029 8.789999999999054 5.175000000000182\n",
      "45.18000000000029 8.789999999999054 23.19000000000051 22.590000000000146\n",
      "8.789999999999054 23.19000000000051 -109.23000000000138 4.394999999999527\n",
      "23.19000000000051 -109.23000000000138 -101.13999999999942 11.595000000000255\n",
      "-109.23000000000138 -101.13999999999942 -125.51000000000022 54.61500000000069\n",
      "-101.13999999999942 -125.51000000000022 -232.54999999999927 50.56999999999971\n",
      "-125.51000000000022 -232.54999999999927 18.859999999998763 62.75500000000011\n",
      "-232.54999999999927 18.859999999998763 42.80999999999949 116.27499999999964\n",
      "18.859999999998763 42.80999999999949 -27.360000000000582 9.429999999999382\n",
      "42.80999999999949 -27.360000000000582 -54.82999999999993 21.404999999999745\n",
      "-27.360000000000582 -54.82999999999993 80.14999999999964 13.680000000000291\n",
      "-54.82999999999993 80.14999999999964 -27.94000000000051 27.414999999999964\n",
      "80.14999999999964 -27.94000000000051 -71.13999999999942 40.07499999999982\n",
      "-27.94000000000051 -71.13999999999942 -75.3799999999992 13.970000000000255\n",
      "-71.13999999999942 -75.3799999999992 -19.520000000000437 35.56999999999971\n",
      "-75.3799999999992 -19.520000000000437 1.7799999999988358 37.6899999999996\n",
      "-19.520000000000437 1.7799999999988358 115.76999999999862 9.760000000000218\n",
      "1.7799999999988358 115.76999999999862 -55.470000000001164 0.8899999999994179\n",
      "115.76999999999862 -55.470000000001164 76.7400000000016 57.88499999999931\n",
      "-55.470000000001164 76.7400000000016 -31.1200000000008 27.735000000000582\n",
      "76.7400000000016 -31.1200000000008 -56.07999999999993 38.3700000000008\n",
      "-31.1200000000008 -56.07999999999993 55.649999999999636 15.5600000000004\n",
      "-56.07999999999993 55.649999999999636 -60.32999999999993 28.039999999999964\n",
      "55.649999999999636 -60.32999999999993 -111.51000000000022 27.824999999999818\n",
      "-60.32999999999993 -111.51000000000022 0.9099999999998545 30.164999999999964\n",
      "-111.51000000000022 0.9099999999998545 -96.27000000000044 55.75500000000011\n",
      "0.9099999999998545 -96.27000000000044 -259.0499999999993 0.45499999999992724\n",
      "-96.27000000000044 -259.0499999999993 7.200000000000728 48.13500000000022\n",
      "-259.0499999999993 7.200000000000728 92.19000000000051 129.52499999999964\n",
      "7.200000000000728 92.19000000000051 50.95999999999913 3.600000000000364\n",
      "92.19000000000051 50.95999999999913 46.04999999999927 46.095000000000255\n",
      "50.95999999999913 46.04999999999927 -15.229999999999563 25.479999999999563\n",
      "46.04999999999927 -15.229999999999563 15.149999999999636 23.024999999999636\n",
      "-15.229999999999563 15.149999999999636 -13.30999999999949 7.614999999999782\n",
      "15.149999999999636 -13.30999999999949 -34.98000000000138 7.574999999999818\n",
      "-13.30999999999949 -34.98000000000138 -34.93000000000029 6.654999999999745\n",
      "-34.98000000000138 -34.93000000000029 58.1299999999992 17.49000000000069\n",
      "-34.93000000000029 58.1299999999992 40.47999999999956 17.465000000000146\n",
      "58.1299999999992 40.47999999999956 -0.3900000000012369 29.0649999999996\n",
      "40.47999999999956 -0.3900000000012369 7.289999999999054 20.23999999999978\n",
      "-0.3900000000012369 7.289999999999054 79.85000000000036 0.19500000000061846\n",
      "7.289999999999054 79.85000000000036 16.8799999999992 3.644999999999527\n",
      "79.85000000000036 16.8799999999992 -9.899999999999636 39.92500000000018\n",
      "16.8799999999992 -9.899999999999636 -42.47999999999956 8.4399999999996\n",
      "-9.899999999999636 -42.47999999999956 -106.6299999999992 4.949999999999818\n",
      "-42.47999999999956 -106.6299999999992 52.25 21.23999999999978\n",
      "-106.6299999999992 52.25 14.979999999999563 53.3149999999996\n",
      "52.25 14.979999999999563 -110.5099999999984 26.125\n",
      "14.979999999999563 -110.5099999999984 -38.07999999999993 7.489999999999782\n",
      "-110.5099999999984 -38.07999999999993 -4.850000000000364 55.2549999999992\n",
      "-38.07999999999993 -4.850000000000364 108.80000000000109 19.039999999999964\n",
      "-4.850000000000364 108.80000000000109 64.57999999999993 2.425000000000182\n",
      "108.80000000000109 64.57999999999993 -11.0 54.400000000000546\n",
      "64.57999999999993 -11.0 -65.15999999999985 32.289999999999964\n",
      "-11.0 -65.15999999999985 54.1299999999992 5.5\n",
      "-65.15999999999985 54.1299999999992 36.969999999999345 32.57999999999993\n",
      "54.1299999999992 36.969999999999345 -48.19999999999891 27.0649999999996\n",
      "36.969999999999345 -48.19999999999891 -42.61999999999898 18.484999999999673\n",
      "-48.19999999999891 -42.61999999999898 -68.25 24.099999999999454\n",
      "-42.61999999999898 -68.25 10.050000000001091 21.30999999999949\n",
      "-68.25 10.050000000001091 88.3700000000008 34.125\n",
      "10.050000000001091 88.3700000000008 -20.5 5.025000000000546\n",
      "88.3700000000008 -20.5 33.68000000000029 44.1850000000004\n",
      "-20.5 33.68000000000029 -24.969999999999345 10.25\n",
      "33.68000000000029 -24.969999999999345 -53.47999999999956 16.840000000000146\n",
      "-24.969999999999345 -53.47999999999956 55.909999999999854 12.484999999999673\n",
      "-53.47999999999956 55.909999999999854 -32.93999999999869 26.73999999999978\n",
      "55.909999999999854 -32.93999999999869 -84.9900000000016 27.954999999999927\n",
      "-32.93999999999869 -84.9900000000016 -33.159999999999854 16.469999999999345\n",
      "-84.9900000000016 -33.159999999999854 59.44000000000051 42.4950000000008\n",
      "-33.159999999999854 59.44000000000051 -59.3700000000008 16.579999999999927\n",
      "59.44000000000051 -59.3700000000008 -107.34999999999854 29.720000000000255\n",
      "-59.3700000000008 -107.34999999999854 -19.789999999999054 29.6850000000004\n",
      "-107.34999999999854 -19.789999999999054 26.38000000000102 53.67499999999927\n",
      "-19.789999999999054 26.38000000000102 -5.209999999999127 9.894999999999527\n",
      "26.38000000000102 -5.209999999999127 -8.890000000001237 13.19000000000051\n",
      "-5.209999999999127 -8.890000000001237 3.709999999999127 2.6049999999995634\n",
      "-8.890000000001237 3.709999999999127 66.02000000000044 4.4450000000006185\n",
      "3.709999999999127 66.02000000000044 128.26000000000022 1.8549999999995634\n",
      "66.02000000000044 128.26000000000022 62.51000000000022 33.01000000000022\n",
      "128.26000000000022 62.51000000000022 9.650000000001455 64.13000000000011\n",
      "62.51000000000022 9.650000000001455 21.73999999999978 31.25500000000011\n",
      "9.650000000001455 21.73999999999978 31.890000000001237 4.825000000000728\n",
      "21.73999999999978 31.890000000001237 -37.31999999999971 10.86999999999989\n",
      "31.890000000001237 -37.31999999999971 -19.659999999999854 15.945000000000618\n",
      "-37.31999999999971 -19.659999999999854 -204.53000000000065 18.659999999999854\n",
      "-19.659999999999854 -204.53000000000065 -78.71999999999935 9.829999999999927\n",
      "-204.53000000000065 -78.71999999999935 91.96999999999935 102.26500000000033\n",
      "-78.71999999999935 91.96999999999935 -2.4099999999998545 39.35999999999967\n",
      "91.96999999999935 -2.4099999999998545 -85.40999999999985 45.98499999999967\n",
      "-2.4099999999998545 -85.40999999999985 -35.350000000000364 1.2049999999999272\n",
      "-85.40999999999985 -35.350000000000364 -148.46999999999935 42.70499999999993\n",
      "-35.350000000000364 -148.46999999999935 25.69000000000051 17.675000000000182\n",
      "-148.46999999999935 25.69000000000051 -42.81999999999971 74.23499999999967\n",
      "25.69000000000051 -42.81999999999971 -33.86999999999898 12.845000000000255\n",
      "-42.81999999999971 -33.86999999999898 -34.6299999999992 21.409999999999854\n",
      "-33.86999999999898 -34.6299999999992 43.79999999999927 16.93499999999949\n",
      "-34.6299999999992 43.79999999999927 -57.26999999999862 17.3149999999996\n",
      "43.79999999999927 -57.26999999999862 33.029999999998836 21.899999999999636\n",
      "-57.26999999999862 33.029999999998836 70.51000000000022 28.63499999999931\n",
      "33.029999999998836 70.51000000000022 55.43000000000029 16.514999999999418\n",
      "70.51000000000022 55.43000000000029 -26.790000000000873 35.25500000000011\n",
      "55.43000000000029 -26.790000000000873 7.220000000001164 27.715000000000146\n",
      "-26.790000000000873 7.220000000001164 33.5 13.395000000000437\n",
      "7.220000000001164 33.5 -21.579999999999927 3.610000000000582\n",
      "33.5 -21.579999999999927 -33.17000000000007 16.75\n",
      "-21.579999999999927 -33.17000000000007 -83.69999999999891 10.789999999999964\n",
      "-33.17000000000007 -83.69999999999891 -90.42000000000007 16.585000000000036\n",
      "-83.69999999999891 -90.42000000000007 7.799999999999272 41.849999999999454\n",
      "-90.42000000000007 7.799999999999272 -14.159999999999854 45.210000000000036\n",
      "7.799999999999272 -14.159999999999854 80.20999999999913 3.899999999999636\n",
      "-14.159999999999854 80.20999999999913 -11.590000000000146 7.079999999999927\n",
      "80.20999999999913 -11.590000000000146 -3.6300000000010186 40.10499999999956\n",
      "-11.590000000000146 -3.6300000000010186 93.63999999999942 5.795000000000073\n",
      "-3.6300000000010186 93.63999999999942 11.299999999999272 1.8150000000005093\n",
      "93.63999999999942 11.299999999999272 -5.630000000001019 46.81999999999971\n",
      "11.299999999999272 -5.630000000001019 -81.17000000000007 5.649999999999636\n",
      "-5.630000000001019 -81.17000000000007 93.64999999999964 2.8150000000005093\n",
      "-81.17000000000007 93.64999999999964 42.30999999999949 40.585000000000036\n",
      "93.64999999999964 42.30999999999949 27.3700000000008 46.82499999999982\n",
      "42.30999999999949 27.3700000000008 -93.53999999999905 21.154999999999745\n",
      "27.3700000000008 -93.53999999999905 71.40999999999985 13.6850000000004\n",
      "-93.53999999999905 71.40999999999985 -44.3700000000008 46.76999999999953\n",
      "71.40999999999985 -44.3700000000008 -9.489999999999782 35.70499999999993\n",
      "-44.3700000000008 -9.489999999999782 -155.10000000000036 22.1850000000004\n",
      "-9.489999999999782 -155.10000000000036 -109.73999999999978 4.744999999999891\n",
      "-155.10000000000036 -109.73999999999978 -216.80000000000018 77.55000000000018\n",
      "-109.73999999999978 -216.80000000000018 231.57999999999993 54.86999999999989\n",
      "-216.80000000000018 231.57999999999993 18.73999999999978 108.40000000000009\n",
      "231.57999999999993 18.73999999999978 152.69999999999982 115.78999999999996\n",
      "18.73999999999978 152.69999999999982 -188.77999999999975 9.36999999999989\n",
      "152.69999999999982 -188.77999999999975 50.220000000000255 76.34999999999991\n",
      "-188.77999999999975 50.220000000000255 -88.34000000000015 94.38999999999987\n",
      "50.220000000000255 -88.34000000000015 -65.90999999999985 25.110000000000127\n",
      "-88.34000000000015 -65.90999999999985 -106.21999999999935 44.17000000000007\n",
      "-65.90999999999985 -106.21999999999935 -71.39999999999964 32.95499999999993\n",
      "-106.21999999999935 -71.39999999999964 -36.11999999999989 53.10999999999967\n",
      "-71.39999999999964 -36.11999999999989 180.79999999999927 35.69999999999982\n",
      "-36.11999999999989 180.79999999999927 -89.57999999999993 18.059999999999945\n",
      "180.79999999999927 -89.57999999999993 -148.60000000000036 90.39999999999964\n",
      "-89.57999999999993 -148.60000000000036 6.579999999999927 44.789999999999964\n",
      "-148.60000000000036 6.579999999999927 95.09000000000015 74.30000000000018\n",
      "6.579999999999927 95.09000000000015 -8.180000000000291 3.2899999999999636\n",
      "95.09000000000015 -8.180000000000291 76.13999999999942 47.54500000000007\n",
      "-8.180000000000291 76.13999999999942 -41.42000000000007 4.0900000000001455\n",
      "76.13999999999942 -41.42000000000007 -44.219999999999345 38.06999999999971\n",
      "-41.42000000000007 -44.219999999999345 -86.32999999999993 20.710000000000036\n",
      "-44.219999999999345 -86.32999999999993 -129.05000000000018 22.109999999999673\n",
      "-86.32999999999993 -129.05000000000018 60.720000000000255 43.164999999999964\n",
      "-129.05000000000018 60.720000000000255 -52.92000000000007 64.52500000000009\n",
      "60.720000000000255 -52.92000000000007 42.349999999999454 30.360000000000127\n",
      "-52.92000000000007 42.349999999999454 -138.6300000000001 26.460000000000036\n",
      "42.349999999999454 -138.6300000000001 -227.02999999999975 21.174999999999727\n",
      "-138.6300000000001 -227.02999999999975 11.100000000000364 69.31500000000005\n",
      "-227.02999999999975 11.100000000000364 83.10999999999967 113.51499999999987\n",
      "11.100000000000364 83.10999999999967 -91.94999999999982 5.550000000000182\n",
      "83.10999999999967 -91.94999999999982 7.25 41.554999999999836\n",
      "-91.94999999999982 7.25 20.220000000000255 45.97499999999991\n",
      "7.25 20.220000000000255 -113.98999999999978 3.625\n",
      "20.220000000000255 -113.98999999999978 -55.11999999999989 10.110000000000127\n",
      "-113.98999999999978 -55.11999999999989 -149.3699999999999 56.99499999999989\n",
      "-55.11999999999989 -149.3699999999999 58.81999999999971 27.559999999999945\n",
      "-149.3699999999999 58.81999999999971 -1.4000000000005457 74.68499999999995\n",
      "58.81999999999971 -1.4000000000005457 92.48999999999978 29.409999999999854\n",
      "-1.4000000000005457 92.48999999999978 3.2200000000002547 0.7000000000002728\n",
      "92.48999999999978 3.2200000000002547 -114.6899999999996 46.24499999999989\n",
      "3.2200000000002547 -114.6899999999996 110.63000000000011 1.6100000000001273\n",
      "-114.6899999999996 110.63000000000011 -72.02000000000044 57.3449999999998\n",
      "110.63000000000011 -72.02000000000044 37.39000000000033 55.315000000000055\n",
      "-72.02000000000044 37.39000000000033 1.0399999999999636 36.01000000000022\n",
      "37.39000000000033 1.0399999999999636 49.850000000000364 18.695000000000164\n",
      "1.0399999999999636 49.850000000000364 -7.710000000000036 0.5199999999999818\n",
      "49.850000000000364 -7.710000000000036 5.149999999999636 24.925000000000182\n",
      "-7.710000000000036 5.149999999999636 -72.42000000000007 3.855000000000018\n",
      "5.149999999999636 -72.42000000000007 48.23999999999978 2.574999999999818\n",
      "-72.42000000000007 48.23999999999978 7.359999999999673 36.210000000000036\n",
      "48.23999999999978 7.359999999999673 -40.35999999999967 24.11999999999989\n",
      "7.359999999999673 -40.35999999999967 -103.61000000000058 3.6799999999998363\n",
      "-40.35999999999967 -103.61000000000058 -18.0 20.179999999999836\n",
      "-103.61000000000058 -18.0 117.86999999999989 51.80500000000029\n",
      "-18.0 117.86999999999989 -14.86999999999989 9.0\n",
      "117.86999999999989 -14.86999999999989 98.04999999999927 58.934999999999945\n",
      "-14.86999999999989 98.04999999999927 16.850000000000364 7.434999999999945\n",
      "98.04999999999927 16.850000000000364 -77.17999999999938 49.024999999999636\n",
      "16.850000000000364 -77.17999999999938 -49.789999999999964 8.425000000000182\n",
      "-77.17999999999938 -49.789999999999964 74.77000000000044 38.58999999999969\n",
      "-49.789999999999964 74.77000000000044 97.90999999999985 24.894999999999982\n",
      "74.77000000000044 97.90999999999985 -143.13999999999942 37.38500000000022\n",
      "97.90999999999985 -143.13999999999942 21.61999999999989 48.95499999999993\n",
      "-143.13999999999942 21.61999999999989 -1.4399999999995998 71.56999999999971\n",
      "21.61999999999989 -1.4399999999995998 -51.68000000000029 10.809999999999945\n",
      "-1.4399999999995998 -51.68000000000029 -84.26000000000022 0.7199999999997999\n",
      "-51.68000000000029 -84.26000000000022 -122.57999999999993 25.840000000000146\n",
      "-84.26000000000022 -122.57999999999993 -2.4399999999996 42.13000000000011\n",
      "-122.57999999999993 -2.4399999999996 53.48999999999978 61.289999999999964\n",
      "-2.4399999999996 53.48999999999978 -24.4399999999996 1.2199999999998\n",
      "53.48999999999978 -24.4399999999996 -133.42999999999938 26.74499999999989\n",
      "-24.4399999999996 -133.42999999999938 54.24000000000069 12.2199999999998\n",
      "-133.42999999999938 54.24000000000069 -62.3100000000004 66.71499999999969\n",
      "54.24000000000069 -62.3100000000004 -123.61999999999989 27.120000000000346\n",
      "-62.3100000000004 -123.61999999999989 -64.57999999999993 31.1550000000002\n",
      "-123.61999999999989 -64.57999999999993 -161.22999999999956 61.809999999999945\n",
      "-64.57999999999993 -161.22999999999956 115.47000000000025 32.289999999999964\n",
      "-161.22999999999956 115.47000000000025 -121.81999999999971 80.61499999999978\n",
      "115.47000000000025 -121.81999999999971 54.47999999999956 57.73500000000013\n",
      "-121.81999999999971 54.47999999999956 22.06999999999971 60.909999999999854\n",
      "54.47999999999956 22.06999999999971 -97.47000000000025 27.23999999999978\n",
      "22.06999999999971 -97.47000000000025 46.279999999999745 11.034999999999854\n",
      "-97.47000000000025 46.279999999999745 -23.31999999999971 48.73500000000013\n",
      "46.279999999999745 -23.31999999999971 -51.5 23.139999999999873\n",
      "-23.31999999999971 -51.5 -119.5600000000004 11.659999999999854\n",
      "-51.5 -119.5600000000004 28.81999999999971 25.75\n",
      "-119.5600000000004 28.81999999999971 -35.74000000000069 59.7800000000002\n",
      "28.81999999999971 -35.74000000000069 1.8299999999999272 14.409999999999854\n",
      "-35.74000000000069 1.8299999999999272 -26.579999999999927 17.870000000000346\n",
      "1.8299999999999272 -26.579999999999927 13.230000000000473 0.9149999999999636\n",
      "-26.579999999999927 13.230000000000473 10.029999999999745 13.289999999999964\n",
      "13.230000000000473 10.029999999999745 -109.59000000000015 6.6150000000002365\n",
      "10.029999999999745 -109.59000000000015 2.069999999999709 5.014999999999873\n",
      "-109.59000000000015 2.069999999999709 -147.3100000000004 54.79500000000007\n",
      "2.069999999999709 -147.3100000000004 7.970000000000255 1.0349999999998545\n",
      "-147.3100000000004 7.970000000000255 87.84999999999945 73.6550000000002\n",
      "7.970000000000255 87.84999999999945 -1.8699999999998909 3.9850000000001273\n",
      "87.84999999999945 -1.8699999999998909 75.6299999999992 43.92499999999973\n",
      "-1.8699999999998909 75.6299999999992 -32.460000000000036 0.9349999999999454\n",
      "75.6299999999992 -32.460000000000036 -0.47000000000025466 37.8149999999996\n",
      "-32.460000000000036 -0.47000000000025466 -29.43000000000029 16.230000000000018\n",
      "-0.47000000000025466 -29.43000000000029 47.960000000000036 0.23500000000012733\n",
      "-29.43000000000029 47.960000000000036 -37.77000000000044 14.715000000000146\n"
     ]
    },
    {
     "data": {
      "text/plain": [
       "6"
      ]
     },
     "execution_count": 24,
     "metadata": {},
     "output_type": "execute_result"
    }
   ],
   "source": [
    "Shape = [0,0,0]\n",
    "for i in range(3,len(ClOp)):\n",
    "    print(ClOp[i-2],ClOp[i-1],ClOp[i],abs(ClOp[i-2]*0.5))\n",
    "    if all([ClOp[i-2]<-20,abs(ClOp[i-1])< 20,\\\n",
    "    ClOp[i]>5,abs(ClOp[i])>abs(ClOp[i-2]*0.5)]):\n",
    "        Shape.append(1)\n",
    "    else:\n",
    "        Shape.append(0)\n",
    "\n",
    "Shape.index(1)\n",
    "#print(Shape)"
   ]
  },
  {
   "cell_type": "code",
   "execution_count": 25,
   "metadata": {},
   "outputs": [
    {
     "data": {
      "text/plain": [
       "22"
      ]
     },
     "execution_count": 25,
     "metadata": {},
     "output_type": "execute_result"
    }
   ],
   "source": [
    "Doji=[0,0,0]\n",
    "for i in range(3,len(Open)):\n",
    "    if all([Open[i-1]<Open[i],Open[i-1]<Close[i-2],\\\n",
    "    Close[i-1]<Open[i],(Close[i-1]<Close[i-2])]):\n",
    "        Doji.append(1)\n",
    "    else:\n",
    "        Doji.append(0)\n",
    "\n",
    "Doji.count(1)"
   ]
  },
  {
   "cell_type": "code",
   "execution_count": 26,
   "metadata": {},
   "outputs": [],
   "source": [
    "Trend=[0,0,0]\n",
    "for i in range(3,len(Close)):\n",
    "    if Close[i-2] < Close[i-3]:\n",
    "        Trend.append(1)\n",
    "    else:\n",
    "        Trend.append(0)"
   ]
  },
  {
   "cell_type": "code",
   "execution_count": 27,
   "metadata": {},
   "outputs": [
    {
     "name": "stdout",
     "output_type": "stream",
     "text": [
      "2011-04-20 00:00:00\n"
     ]
    }
   ],
   "source": [
    "StarSig=[]\n",
    "for i in range(len(Trend)):\n",
    "    if all([Shape[i]==1,Doji[i]==1,Trend[i]==1]):\n",
    "        StarSig.append(1)\n",
    "    else:\n",
    "        StarSig.append(0)\n",
    "\n",
    "for i in range(len(StarSig)):\n",
    "    if StarSig[i]==1:\n",
    "        print(taiex2011.index[i])"
   ]
  },
  {
   "cell_type": "code",
   "execution_count": 28,
   "metadata": {},
   "outputs": [
    {
     "name": "stdout",
     "output_type": "stream",
     "text": [
      "                  Date     Open     High      Low    Close   Volume\n",
      "Date                                                               \n",
      "2011-04-01  2011-04-01  8697.84  8705.13  8654.40  8705.13  3186692\n",
      "2011-04-06  2011-04-06  8772.13  8860.02  8767.21  8851.98  4464196\n",
      "2011-04-07  2011-04-07  8884.84  8901.72  8828.92  8901.72  4041900\n",
      "2011-04-08  2011-04-08  8904.44  8929.06  8862.49  8894.54  4627855\n",
      "2011-04-11  2011-04-11  8922.75  8922.75  8836.38  8880.27  3774171\n",
      "2011-04-12  2011-04-12  8839.22  8839.22  8708.86  8732.59  3715733\n",
      "2011-04-13  2011-04-13  8727.95  8780.20  8700.08  8780.20  3406888\n",
      "2011-04-14  2011-04-14  8787.75  8835.39  8772.30  8802.73  3623194\n",
      "2011-04-15  2011-04-15  8828.63  8834.07  8716.70  8718.12  3830377\n",
      "2011-04-18  2011-04-18  8752.56  8764.65  8703.11  8714.48  3445887\n",
      "2011-04-19  2011-04-19  8643.40  8658.97  8592.23  8638.55  3615303\n",
      "2011-04-20  2011-04-20  8704.48  8813.28  8698.97  8813.28  4195397\n",
      "2011-04-21  2011-04-21  8893.07  8992.08  8892.06  8957.65  5492314\n",
      "2011-04-22  2011-04-22  8980.43  8992.67  8956.07  8969.43  4172311\n",
      "2011-04-25  2011-04-25  9015.91  9037.09  8950.75  8950.75  4087943\n",
      "2011-04-26  2011-04-26  8894.01  8966.86  8866.74  8948.14  3804780\n",
      "2011-04-27  2011-04-27  9012.28  9060.50  9012.28  9049.25  4700943\n",
      "2011-04-28  2011-04-28  9088.97  9099.75  9021.36  9040.77  4665323\n",
      "2011-04-29  2011-04-29  9050.49  9058.78  8943.99  9007.87  5044799\n"
     ]
    }
   ],
   "source": [
    "taiex201104=taiex2011['2011-04']\n",
    "print(taiex201104)"
   ]
  },
  {
   "cell_type": "code",
   "execution_count": 29,
   "metadata": {},
   "outputs": [
    {
     "data": {
      "image/png": "[encoded data removed]",
      "text/plain": [
       "<Figure size 432x288 with 1 Axes>"
      ]
     },
     "metadata": {
      "needs_background": "light"
     },
     "output_type": "display_data"
    }
   ],
   "source": [
    "#找出黃昏之星\n",
    "candlePlot(taiex201104 ,\n",
    "    title=' 加權股價指數2011年4月份的日K线图')"
   ]
  },
  {
   "cell_type": "code",
   "execution_count": 30,
   "metadata": {},
   "outputs": [],
   "source": [
    "# Dark Cloud Cover\n",
    "import pandas as pd\n",
    "taiex2013=pd.read_csv('taiex2013.csv',sep ='\\t')\n",
    "\n",
    "taiex2013.index=pd.to_datetime(taiex2013.Date,\n",
    "    format='%Y-%m-%d')\n",
    "Close13=taiex2013.Close\n",
    "Open13=taiex2013.Open"
   ]
  },
  {
   "cell_type": "code",
   "execution_count": 31,
   "metadata": {},
   "outputs": [],
   "source": [
    "Cloud=pd.Series(0,index=Close13.index)\n",
    "for i in range(1,len(Close13)):\n",
    "    if all([Close13[i]<Open13[i],\\\n",
    "            Close13[i-1]>Open13[i-1],\\\n",
    "            Open13[i]>Close13[i-1],\\\n",
    "            Close13[i]<0.5*(Close13[i-1]+Open13[i-1]),\\\n",
    "            Close13[i]>Open13[i-1]]):\n",
    "        Cloud[i]=1"
   ]
  },
  {
   "cell_type": "code",
   "execution_count": 32,
   "metadata": {},
   "outputs": [],
   "source": [
    "Trend=pd.Series(0,index=Close13.index)\n",
    "for i in range(2,len(Close13)):\n",
    "    if Close13[i-1]>Close13[i-2]>Close13[i-3]:\n",
    "        Trend[i]=1"
   ]
  },
  {
   "cell_type": "code",
   "execution_count": 33,
   "metadata": {},
   "outputs": [
    {
     "data": {
      "text/plain": [
       "Date\n",
       "2013-04-12    2\n",
       "2013-10-21    2\n",
       "dtype: int64"
      ]
     },
     "execution_count": 33,
     "metadata": {},
     "output_type": "execute_result"
    }
   ],
   "source": [
    "darkCloud=Cloud+Trend\n",
    "darkCloud[darkCloud==2]"
   ]
  },
  {
   "cell_type": "code",
   "execution_count": 34,
   "metadata": {},
   "outputs": [
    {
     "data": {
      "image/png": "[encoded data removed]",
      "text/plain": [
       "<Figure size 432x288 with 1 Axes>"
      ]
     },
     "metadata": {
      "needs_background": "light"
     },
     "output_type": "display_data"
    }
   ],
   "source": [
    "taiex201304=taiex2013['2013-04']           \n",
    "candlePlot(taiex201304 ,\\\n",
    "                  title='加權股價指數2013年4月份的日K線圖')"
   ]
  },
  {
   "cell_type": "code",
   "execution_count": 35,
   "metadata": {},
   "outputs": [
    {
     "data": {
      "image/png": "[encoded data removed]",
      "text/plain": [
       "<Figure size 432x288 with 1 Axes>"
      ]
     },
     "metadata": {
      "needs_background": "light"
     },
     "output_type": "display_data"
    }
   ],
   "source": [
    "taiex201310=taiex2013['2013-10']\n",
    "candlePlot(taiex201310,title='加權股價指數2013年10月份的日K線圖')"
   ]
  },
  {
   "cell_type": "code",
   "execution_count": null,
   "metadata": {},
   "outputs": [],
   "source": []
  }
 ],
 "metadata": {
  "kernelspec": {
   "display_name": "Python 3",
   "language": "python",
   "name": "python3"
  },
  "language_info": {
   "codemirror_mode": {
    "name": "ipython",
    "version": 3
   },
   "file_extension": ".py",
   "mimetype": "text/x-python",
   "name": "python",
   "nbconvert_exporter": "python",
   "pygments_lexer": "ipython3",
   "version": "3.7.9"
  }
 },
 "nbformat": 4,
 "nbformat_minor": 4
}
