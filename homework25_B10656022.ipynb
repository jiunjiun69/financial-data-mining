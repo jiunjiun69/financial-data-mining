{
 "cells": [
  {
   "cell_type": "code",
   "execution_count": 1,
   "metadata": {},
   "outputs": [],
   "source": [
    "import pandas as pd"
   ]
  },
  {
   "cell_type": "code",
   "execution_count": 2,
   "metadata": {},
   "outputs": [
    {
     "data": {
      "text/html": [
       "<div>\n",
       "<style scoped>\n",
       "    .dataframe tbody tr th:only-of-type {\n",
       "        vertical-align: middle;\n",
       "    }\n",
       "\n",
       "    .dataframe tbody tr th {\n",
       "        vertical-align: top;\n",
       "    }\n",
       "\n",
       "    .dataframe thead th {\n",
       "        text-align: right;\n",
       "    }\n",
       "</style>\n",
       "<table border=\"1\" class=\"dataframe\">\n",
       "  <thead>\n",
       "    <tr style=\"text-align: right;\">\n",
       "      <th></th>\n",
       "      <th>Convertible.Arbitrage</th>\n",
       "      <th>CTA.Global</th>\n",
       "      <th>Distressed.Securities</th>\n",
       "      <th>Emerging.Markets</th>\n",
       "      <th>Equity.Market.Neutral</th>\n",
       "      <th>Event.Driven</th>\n",
       "      <th>Fixed.Income.Arbitrage</th>\n",
       "      <th>Global.Macro</th>\n",
       "      <th>Long.Short.Equity</th>\n",
       "      <th>Merger.Arbitrage</th>\n",
       "      <th>Relative.Value</th>\n",
       "      <th>Short.Selling</th>\n",
       "      <th>Date</th>\n",
       "    </tr>\n",
       "  </thead>\n",
       "  <tbody>\n",
       "    <tr>\n",
       "      <th>0</th>\n",
       "      <td>0.0119</td>\n",
       "      <td>0.0393</td>\n",
       "      <td>0.0178</td>\n",
       "      <td>0.0791</td>\n",
       "      <td>0.0189</td>\n",
       "      <td>0.0213</td>\n",
       "      <td>0.0191</td>\n",
       "      <td>0.0573</td>\n",
       "      <td>0.0281</td>\n",
       "      <td>0.0150</td>\n",
       "      <td>0.0180</td>\n",
       "      <td>-0.0166</td>\n",
       "      <td>1997-01-31</td>\n",
       "    </tr>\n",
       "    <tr>\n",
       "      <th>1</th>\n",
       "      <td>0.0123</td>\n",
       "      <td>0.0298</td>\n",
       "      <td>0.0122</td>\n",
       "      <td>0.0525</td>\n",
       "      <td>0.0101</td>\n",
       "      <td>0.0084</td>\n",
       "      <td>0.0122</td>\n",
       "      <td>0.0175</td>\n",
       "      <td>-0.0006</td>\n",
       "      <td>0.0034</td>\n",
       "      <td>0.0118</td>\n",
       "      <td>0.0426</td>\n",
       "      <td>1997-02-28</td>\n",
       "    </tr>\n",
       "    <tr>\n",
       "      <th>2</th>\n",
       "      <td>0.0078</td>\n",
       "      <td>-0.0021</td>\n",
       "      <td>-0.0012</td>\n",
       "      <td>-0.0120</td>\n",
       "      <td>0.0016</td>\n",
       "      <td>-0.0023</td>\n",
       "      <td>0.0109</td>\n",
       "      <td>-0.0119</td>\n",
       "      <td>-0.0084</td>\n",
       "      <td>0.0060</td>\n",
       "      <td>0.0010</td>\n",
       "      <td>0.0778</td>\n",
       "      <td>1997-03-31</td>\n",
       "    </tr>\n",
       "    <tr>\n",
       "      <th>3</th>\n",
       "      <td>0.0086</td>\n",
       "      <td>-0.0170</td>\n",
       "      <td>0.0030</td>\n",
       "      <td>0.0119</td>\n",
       "      <td>0.0119</td>\n",
       "      <td>-0.0005</td>\n",
       "      <td>0.0130</td>\n",
       "      <td>0.0172</td>\n",
       "      <td>0.0084</td>\n",
       "      <td>-0.0001</td>\n",
       "      <td>0.0122</td>\n",
       "      <td>-0.0129</td>\n",
       "      <td>1997-04-30</td>\n",
       "    </tr>\n",
       "    <tr>\n",
       "      <th>4</th>\n",
       "      <td>0.0156</td>\n",
       "      <td>-0.0015</td>\n",
       "      <td>0.0233</td>\n",
       "      <td>0.0315</td>\n",
       "      <td>0.0189</td>\n",
       "      <td>0.0346</td>\n",
       "      <td>0.0118</td>\n",
       "      <td>0.0108</td>\n",
       "      <td>0.0394</td>\n",
       "      <td>0.0197</td>\n",
       "      <td>0.0173</td>\n",
       "      <td>-0.0737</td>\n",
       "      <td>1997-05-31</td>\n",
       "    </tr>\n",
       "  </tbody>\n",
       "</table>\n",
       "</div>"
      ],
      "text/plain": [
       "   Convertible.Arbitrage  CTA.Global  Distressed.Securities  Emerging.Markets  \\\n",
       "0                 0.0119      0.0393                 0.0178            0.0791   \n",
       "1                 0.0123      0.0298                 0.0122            0.0525   \n",
       "2                 0.0078     -0.0021                -0.0012           -0.0120   \n",
       "3                 0.0086     -0.0170                 0.0030            0.0119   \n",
       "4                 0.0156     -0.0015                 0.0233            0.0315   \n",
       "\n",
       "   Equity.Market.Neutral  Event.Driven  Fixed.Income.Arbitrage  Global.Macro  \\\n",
       "0                 0.0189        0.0213                  0.0191        0.0573   \n",
       "1                 0.0101        0.0084                  0.0122        0.0175   \n",
       "2                 0.0016       -0.0023                  0.0109       -0.0119   \n",
       "3                 0.0119       -0.0005                  0.0130        0.0172   \n",
       "4                 0.0189        0.0346                  0.0118        0.0108   \n",
       "\n",
       "   Long.Short.Equity  Merger.Arbitrage  Relative.Value  Short.Selling  \\\n",
       "0             0.0281            0.0150          0.0180        -0.0166   \n",
       "1            -0.0006            0.0034          0.0118         0.0426   \n",
       "2            -0.0084            0.0060          0.0010         0.0778   \n",
       "3             0.0084           -0.0001          0.0122        -0.0129   \n",
       "4             0.0394            0.0197          0.0173        -0.0737   \n",
       "\n",
       "         Date  \n",
       "0  1997-01-31  \n",
       "1  1997-02-28  \n",
       "2  1997-03-31  \n",
       "3  1997-04-30  \n",
       "4  1997-05-31  "
      ]
     },
     "execution_count": 2,
     "metadata": {},
     "output_type": "execute_result"
    }
   ],
   "source": [
    "df = pd.read_csv('./hitstory.csv')\n",
    "df.head()"
   ]
  },
  {
   "cell_type": "code",
   "execution_count": 3,
   "metadata": {},
   "outputs": [
    {
     "data": {
      "text/plain": [
       "['01',\n",
       " '02',\n",
       " '04',\n",
       " '05',\n",
       " '06',\n",
       " '07',\n",
       " '09',\n",
       " '12',\n",
       " '02',\n",
       " '03',\n",
       " '04',\n",
       " '07',\n",
       " '10',\n",
       " '11',\n",
       " '02',\n",
       " '03',\n",
       " '04',\n",
       " '05',\n",
       " '06',\n",
       " '10',\n",
       " '11',\n",
       " '12',\n",
       " '01',\n",
       " '02',\n",
       " '03',\n",
       " '06',\n",
       " '07',\n",
       " '08',\n",
       " '12',\n",
       " '01',\n",
       " '04',\n",
       " '05',\n",
       " '06',\n",
       " '08',\n",
       " '10',\n",
       " '11',\n",
       " '12',\n",
       " '01',\n",
       " '02',\n",
       " '03',\n",
       " '04',\n",
       " '05',\n",
       " '08',\n",
       " '10',\n",
       " '11',\n",
       " '12',\n",
       " '01',\n",
       " '02',\n",
       " '03',\n",
       " '04',\n",
       " '05',\n",
       " '06',\n",
       " '07',\n",
       " '08',\n",
       " '09',\n",
       " '10',\n",
       " '11',\n",
       " '12',\n",
       " '01',\n",
       " '02',\n",
       " '03',\n",
       " '06',\n",
       " '08',\n",
       " '09',\n",
       " '10',\n",
       " '11',\n",
       " '12',\n",
       " '01',\n",
       " '02',\n",
       " '05',\n",
       " '06',\n",
       " '07',\n",
       " '08',\n",
       " '09',\n",
       " '11',\n",
       " '12',\n",
       " '01',\n",
       " '02',\n",
       " '03',\n",
       " '04',\n",
       " '07',\n",
       " '08',\n",
       " '09',\n",
       " '10',\n",
       " '11',\n",
       " '12',\n",
       " '01',\n",
       " '02',\n",
       " '03',\n",
       " '04',\n",
       " '05',\n",
       " '06',\n",
       " '07',\n",
       " '09',\n",
       " '10',\n",
       " '12',\n",
       " '02',\n",
       " '04',\n",
       " '05',\n",
       " '03',\n",
       " '04',\n",
       " '05',\n",
       " '06',\n",
       " '07',\n",
       " '08']"
      ]
     },
     "execution_count": 3,
     "metadata": {},
     "output_type": "execute_result"
    }
   ],
   "source": [
    "# 2.\n",
    "# (a)\n",
    "df_index = df.index[df['Emerging.Markets'] > 0]\n",
    "a_ans = df.iloc[df_index]\n",
    "a_ans_final = []\n",
    "for Date in enumerate(a_ans['Date']):\n",
    "    Date_split = Date[1].split('-')\n",
    "    a_ans_final.append(Date_split[1])\n",
    "a_ans_final"
   ]
  },
  {
   "cell_type": "code",
   "execution_count": 4,
   "metadata": {},
   "outputs": [
    {
     "data": {
      "text/plain": [
       "['03',\n",
       " '08',\n",
       " '10',\n",
       " '11',\n",
       " '01',\n",
       " '05',\n",
       " '06',\n",
       " '08',\n",
       " '09',\n",
       " '12',\n",
       " '01',\n",
       " '07',\n",
       " '08',\n",
       " '09',\n",
       " '04',\n",
       " '05',\n",
       " '09',\n",
       " '10',\n",
       " '11',\n",
       " '02',\n",
       " '03',\n",
       " '07',\n",
       " '09',\n",
       " '06',\n",
       " '07',\n",
       " '09',\n",
       " '04',\n",
       " '05',\n",
       " '07',\n",
       " '03',\n",
       " '04',\n",
       " '10',\n",
       " '05',\n",
       " '06',\n",
       " '08',\n",
       " '11',\n",
       " '01',\n",
       " '03',\n",
       " '06',\n",
       " '07',\n",
       " '08',\n",
       " '09',\n",
       " '10',\n",
       " '11',\n",
       " '12',\n",
       " '01',\n",
       " '02']"
      ]
     },
     "execution_count": 4,
     "metadata": {},
     "output_type": "execute_result"
    }
   ],
   "source": [
    "# (b)\n",
    "df_index = df.index[df['Emerging.Markets'] < 0]\n",
    "b_ans = df.iloc[df_index]\n",
    "b_ans_final = []\n",
    "for Date in enumerate(b_ans['Date']):\n",
    "    Date_split = Date[1].split('-')\n",
    "    b_ans_final.append(Date_split[1])\n",
    "b_ans_final"
   ]
  },
  {
   "cell_type": "code",
   "execution_count": 5,
   "metadata": {},
   "outputs": [
    {
     "data": {
      "text/plain": [
       "0.6907894736842105"
      ]
     },
     "execution_count": 5,
     "metadata": {},
     "output_type": "execute_result"
    }
   ],
   "source": [
    "# (c)\n",
    "ret = df['Emerging.Markets']\n",
    "p = len(ret[ret>0])/len(ret)\n",
    "p"
   ]
  },
  {
   "cell_type": "code",
   "execution_count": 6,
   "metadata": {},
   "outputs": [
    {
     "data": {
      "text/plain": [
       "0.08775499744583293"
      ]
     },
     "execution_count": 6,
     "metadata": {},
     "output_type": "execute_result"
    }
   ],
   "source": [
    "# (d)\n",
    "from scipy.stats import binom\n",
    "prob = binom.pmf(6,12,p)\n",
    "prob"
   ]
  },
  {
   "cell_type": "code",
   "execution_count": null,
   "metadata": {},
   "outputs": [],
   "source": []
  },
  {
   "cell_type": "code",
   "execution_count": 7,
   "metadata": {},
   "outputs": [
    {
     "name": "stderr",
     "output_type": "stream",
     "text": [
      "findfont: Font family ['sans-serif'] not found. Falling back to DejaVu Sans.\n",
      "c:\\users\\jiunjiun\\appdata\\local\\programs\\python\\python37\\lib\\site-packages\\matplotlib\\backends\\backend_agg.py:238: RuntimeWarning: Glyph 25351 missing from current font.\n",
      "  font.set_text(s, 0.0, flags=flags)\n",
      "c:\\users\\jiunjiun\\appdata\\local\\programs\\python\\python37\\lib\\site-packages\\matplotlib\\backends\\backend_agg.py:238: RuntimeWarning: Glyph 25976 missing from current font.\n",
      "  font.set_text(s, 0.0, flags=flags)\n",
      "c:\\users\\jiunjiun\\appdata\\local\\programs\\python\\python37\\lib\\site-packages\\matplotlib\\backends\\backend_agg.py:238: RuntimeWarning: Glyph 20998 missing from current font.\n",
      "  font.set_text(s, 0.0, flags=flags)\n",
      "c:\\users\\jiunjiun\\appdata\\local\\programs\\python\\python37\\lib\\site-packages\\matplotlib\\backends\\backend_agg.py:238: RuntimeWarning: Glyph 24067 missing from current font.\n",
      "  font.set_text(s, 0.0, flags=flags)\n",
      "c:\\users\\jiunjiun\\appdata\\local\\programs\\python\\python37\\lib\\site-packages\\matplotlib\\backends\\backend_agg.py:238: RuntimeWarning: Glyph 27010 missing from current font.\n",
      "  font.set_text(s, 0.0, flags=flags)\n",
      "c:\\users\\jiunjiun\\appdata\\local\\programs\\python\\python37\\lib\\site-packages\\matplotlib\\backends\\backend_agg.py:238: RuntimeWarning: Glyph 29575 missing from current font.\n",
      "  font.set_text(s, 0.0, flags=flags)\n",
      "c:\\users\\jiunjiun\\appdata\\local\\programs\\python\\python37\\lib\\site-packages\\matplotlib\\backends\\backend_agg.py:238: RuntimeWarning: Glyph 23494 missing from current font.\n",
      "  font.set_text(s, 0.0, flags=flags)\n",
      "c:\\users\\jiunjiun\\appdata\\local\\programs\\python\\python37\\lib\\site-packages\\matplotlib\\backends\\backend_agg.py:238: RuntimeWarning: Glyph 24230 missing from current font.\n",
      "  font.set_text(s, 0.0, flags=flags)\n",
      "c:\\users\\jiunjiun\\appdata\\local\\programs\\python\\python37\\lib\\site-packages\\matplotlib\\backends\\backend_agg.py:238: RuntimeWarning: Glyph 20989 missing from current font.\n",
      "  font.set_text(s, 0.0, flags=flags)\n",
      "findfont: Font family ['sans-serif'] not found. Falling back to DejaVu Sans.\n"
     ]
    },
    {
     "name": "stdout",
     "output_type": "stream",
     "text": [
      "0.5 0.25 2.0 6.0\n"
     ]
    },
    {
     "name": "stderr",
     "output_type": "stream",
     "text": [
      "c:\\users\\jiunjiun\\appdata\\local\\programs\\python\\python37\\lib\\site-packages\\matplotlib\\backends\\backend_agg.py:201: RuntimeWarning: Glyph 25351 missing from current font.\n",
      "  font.set_text(s, 0, flags=flags)\n",
      "c:\\users\\jiunjiun\\appdata\\local\\programs\\python\\python37\\lib\\site-packages\\matplotlib\\backends\\backend_agg.py:201: RuntimeWarning: Glyph 25976 missing from current font.\n",
      "  font.set_text(s, 0, flags=flags)\n",
      "c:\\users\\jiunjiun\\appdata\\local\\programs\\python\\python37\\lib\\site-packages\\matplotlib\\backends\\backend_agg.py:201: RuntimeWarning: Glyph 20998 missing from current font.\n",
      "  font.set_text(s, 0, flags=flags)\n",
      "c:\\users\\jiunjiun\\appdata\\local\\programs\\python\\python37\\lib\\site-packages\\matplotlib\\backends\\backend_agg.py:201: RuntimeWarning: Glyph 24067 missing from current font.\n",
      "  font.set_text(s, 0, flags=flags)\n",
      "c:\\users\\jiunjiun\\appdata\\local\\programs\\python\\python37\\lib\\site-packages\\matplotlib\\backends\\backend_agg.py:201: RuntimeWarning: Glyph 27010 missing from current font.\n",
      "  font.set_text(s, 0, flags=flags)\n",
      "c:\\users\\jiunjiun\\appdata\\local\\programs\\python\\python37\\lib\\site-packages\\matplotlib\\backends\\backend_agg.py:201: RuntimeWarning: Glyph 29575 missing from current font.\n",
      "  font.set_text(s, 0, flags=flags)\n",
      "c:\\users\\jiunjiun\\appdata\\local\\programs\\python\\python37\\lib\\site-packages\\matplotlib\\backends\\backend_agg.py:201: RuntimeWarning: Glyph 23494 missing from current font.\n",
      "  font.set_text(s, 0, flags=flags)\n",
      "c:\\users\\jiunjiun\\appdata\\local\\programs\\python\\python37\\lib\\site-packages\\matplotlib\\backends\\backend_agg.py:201: RuntimeWarning: Glyph 24230 missing from current font.\n",
      "  font.set_text(s, 0, flags=flags)\n",
      "c:\\users\\jiunjiun\\appdata\\local\\programs\\python\\python37\\lib\\site-packages\\matplotlib\\backends\\backend_agg.py:201: RuntimeWarning: Glyph 20989 missing from current font.\n",
      "  font.set_text(s, 0, flags=flags)\n"
     ]
    },
    {
     "data": {
      "image/png": "[encoded data removed]",
      "text/plain": [
       "<Figure size 432x288 with 1 Axes>"
      ]
     },
     "metadata": {
      "needs_background": "light"
     },
     "output_type": "display_data"
    }
   ],
   "source": [
    "# 5.\n",
    "# (a)\n",
    "from scipy.stats import expon\n",
    "import matplotlib as mpl\n",
    "import matplotlib.pyplot as plt\n",
    "import numpy as np\n",
    "\n",
    "## 設置屬性防止中文亂碼\n",
    "mpl.rcParams['font.sans-serif'] = [u'SimHei']\n",
    "mpl.rcParams['axes.unicode_minus'] = False\n",
    "\n",
    "fig,ax = plt.subplots(1,1)\n",
    "\n",
    "lambdaUse = 2\n",
    "loc = 0\n",
    "scale = 1.0/lambdaUse\n",
    "\n",
    "#平均值, 方差, 偏度, 峰度\n",
    "mean,var,skew,kurt = expon.stats(loc,scale,moments='mvsk')\n",
    "print(mean,var,skew,kurt)\n",
    "#ppf:累積分布函數的反函數。q=0.01時，ppf就是p(X<x)=0.01時的x值。\n",
    "x = np.linspace(expon.ppf(0.01,loc,scale),expon.ppf(0.99,loc,scale),100)\n",
    "ax.plot(x, expon.pdf(x,loc,scale),'b-',label = 'expon')\n",
    "\n",
    "plt.title(u'指數分布概率密度函數')\n",
    "plt.show()"
   ]
  },
  {
   "cell_type": "code",
   "execution_count": 8,
   "metadata": {},
   "outputs": [
    {
     "name": "stdout",
     "output_type": "stream",
     "text": [
      "期望值: 4.25\n",
      "變異數: 5.29296875\n"
     ]
    }
   ],
   "source": [
    "# (b)\n",
    "import numpy as np\n",
    "popu_data = (0.5, 0.25, 2.0, 6.0)\n",
    "popu_var = np.var(popu_data)\n",
    "mu = 0.5+0.25+2.0+6.0/4\n",
    "print ('期望值:',mu)\n",
    "print ('變異數:',popu_var)"
   ]
  },
  {
   "cell_type": "code",
   "execution_count": 9,
   "metadata": {},
   "outputs": [
    {
     "name": "stdout",
     "output_type": "stream",
     "text": [
      "均值: 10000.0\n",
      "變異數: 33333333.0\n"
     ]
    }
   ],
   "source": [
    "# (c)\n",
    "popu_data = np.arange(1, 20000, 2)\n",
    "popu_mean = np.mean(popu_data)\n",
    "popu_var = np.var(popu_data)\n",
    "print ('均值:',popu_mean)\n",
    "print ('變異數:',popu_var)"
   ]
  },
  {
   "cell_type": "code",
   "execution_count": null,
   "metadata": {},
   "outputs": [],
   "source": []
  }
 ],
 "metadata": {
  "kernelspec": {
   "display_name": "Python 3",
   "language": "python",
   "name": "python3"
  },
  "language_info": {
   "codemirror_mode": {
    "name": "ipython",
    "version": 3
   },
   "file_extension": ".py",
   "mimetype": "text/x-python",
   "name": "python",
   "nbconvert_exporter": "python",
   "pygments_lexer": "ipython3",
   "version": "3.7.9"
  }
 },
 "nbformat": 4,
 "nbformat_minor": 4
}
