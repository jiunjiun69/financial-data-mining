{
 "cells": [
  {
   "cell_type": "code",
   "execution_count": 1,
   "metadata": {
    "id": "TfyGpDJQMF-a"
   },
   "outputs": [],
   "source": [
    "import pandas as pd\n",
    "import matplotlib.pyplot as plt\n",
    "import math\n",
    "from matplotlib.font_manager import FontProperties"
   ]
  },
  {
   "cell_type": "code",
   "execution_count": 2,
   "metadata": {},
   "outputs": [],
   "source": [
    "%matplotlib inline\n",
    "#導入ADF函數和numpy包\n",
    "from arch.unitroot import ADF\n",
    "import numpy as np\n",
    "import re\n",
    "import statsmodels.api as sm\n",
    "from statsmodels.tsa.stattools import adfuller"
   ]
  },
  {
   "cell_type": "code",
   "execution_count": 3,
   "metadata": {},
   "outputs": [
    {
     "data": {
      "text/plain": [
       "'c:\\\\users\\\\a9025\\\\appdata\\\\local\\\\programs\\\\python\\\\python37\\\\lib\\\\site-packages\\\\matplotlib\\\\mpl-data\\\\matplotlibrc'"
      ]
     },
     "execution_count": 3,
     "metadata": {},
     "output_type": "execute_result"
    }
   ],
   "source": [
    "import matplotlib \n",
    "matplotlib.matplotlib_fname()"
   ]
  },
  {
   "cell_type": "code",
   "execution_count": 4,
   "metadata": {},
   "outputs": [
    {
     "data": {
      "text/plain": [
       "'c:\\\\users\\\\a9025\\\\appdata\\\\local\\\\programs\\\\python\\\\python37\\\\lib\\\\site-packages\\\\matplotlib\\\\mpl-data\\\\fonts\\\\ttf\\\\DejaVuSans.ttf'"
      ]
     },
     "execution_count": 4,
     "metadata": {},
     "output_type": "execute_result"
    }
   ],
   "source": [
    "#find  matplotlib default font\n",
    "from matplotlib.font_manager import findfont, FontProperties  \n",
    "findfont(FontProperties(family=FontProperties().get_family())) "
   ]
  },
  {
   "cell_type": "code",
   "execution_count": 5,
   "metadata": {},
   "outputs": [
    {
     "data": {
      "text/plain": [
       "['DejaVu Sans',\n",
       " 'Bitstream Vera Sans',\n",
       " 'Computer Modern Sans Serif',\n",
       " 'Lucida Grande',\n",
       " 'Verdana',\n",
       " 'Geneva',\n",
       " 'Lucid',\n",
       " 'Arial',\n",
       " 'Helvetica',\n",
       " 'Avant Garde',\n",
       " 'sans-serif']"
      ]
     },
     "execution_count": 5,
     "metadata": {},
     "output_type": "execute_result"
    }
   ],
   "source": [
    "import matplotlib.pyplot as plt \n",
    "plt.rcParams['font.sans-serif']"
   ]
  },
  {
   "cell_type": "code",
   "execution_count": 6,
   "metadata": {},
   "outputs": [],
   "source": [
    "from matplotlib.font_manager import FontProperties\n",
    "\n",
    "import matplotlib.pyplot as plt\n",
    "plt.rcParams['font.sans-serif'] = ['Microsoft JhengHei'] \n",
    "plt.rcParams['axes.unicode_minus'] = False"
   ]
  },
  {
   "cell_type": "code",
   "execution_count": 7,
   "metadata": {},
   "outputs": [],
   "source": [
    "# 昆盈\n",
    "KYE=pd.read_csv('2365.csv',sep=',',index_col='Date')\n",
    "KYE.index=pd.to_datetime(KYE.index)"
   ]
  },
  {
   "cell_type": "code",
   "execution_count": 8,
   "metadata": {},
   "outputs": [],
   "source": [
    "#仲琦\n",
    "Hitron=pd.read_csv('2419.csv',sep=',',index_col='Date')\n",
    "Hitron.index=pd.to_datetime(Hitron.index)"
   ]
  },
  {
   "cell_type": "code",
   "execution_count": 9,
   "metadata": {},
   "outputs": [],
   "source": [
    "# 台灣50指數成分股\n",
    "tw50=pd.read_csv('tw50.csv',sep=',',index_col='Date')\n",
    "tw50.index=pd.to_datetime(tw50.index)"
   ]
  },
  {
   "cell_type": "code",
   "execution_count": null,
   "metadata": {
    "id": "6lRUYOH2MF-f"
   },
   "outputs": [],
   "source": [
    "# 定義配對形成期\n",
    "formStart='2014-01-01'\n",
    "formEnd='2015-01-01'"
   ]
  },
  {
   "cell_type": "code",
   "execution_count": null,
   "metadata": {
    "id": "wQY41jq0MF-g",
    "outputId": "03a162c7-b679-4589-fbdd-42351977643d"
   },
   "outputs": [
    {
     "data": {
      "text/html": [
       "<div>\n",
       "<style scoped>\n",
       "    .dataframe tbody tr th:only-of-type {\n",
       "        vertical-align: middle;\n",
       "    }\n",
       "\n",
       "    .dataframe tbody tr th {\n",
       "        vertical-align: top;\n",
       "    }\n",
       "\n",
       "    .dataframe thead th {\n",
       "        text-align: right;\n",
       "    }\n",
       "</style>\n",
       "<table border=\"1\" class=\"dataframe\">\n",
       "  <thead>\n",
       "    <tr style=\"text-align: right;\">\n",
       "      <th></th>\n",
       "      <th>Close</th>\n",
       "      <th>Open</th>\n",
       "      <th>High</th>\n",
       "      <th>Low</th>\n",
       "      <th>Volume</th>\n",
       "      <th>ROI</th>\n",
       "    </tr>\n",
       "    <tr>\n",
       "      <th>Date</th>\n",
       "      <th></th>\n",
       "      <th></th>\n",
       "      <th></th>\n",
       "      <th></th>\n",
       "      <th></th>\n",
       "      <th></th>\n",
       "    </tr>\n",
       "  </thead>\n",
       "  <tbody>\n",
       "    <tr>\n",
       "      <th>2014-01-02</th>\n",
       "      <td>10.47</td>\n",
       "      <td>10.47</td>\n",
       "      <td>10.52</td>\n",
       "      <td>10.35</td>\n",
       "      <td>733</td>\n",
       "      <td>0.4098</td>\n",
       "    </tr>\n",
       "    <tr>\n",
       "      <th>2014-01-03</th>\n",
       "      <td>10.56</td>\n",
       "      <td>10.52</td>\n",
       "      <td>10.69</td>\n",
       "      <td>10.39</td>\n",
       "      <td>2180</td>\n",
       "      <td>0.8163</td>\n",
       "    </tr>\n",
       "    <tr>\n",
       "      <th>2014-01-06</th>\n",
       "      <td>10.56</td>\n",
       "      <td>10.60</td>\n",
       "      <td>10.64</td>\n",
       "      <td>10.43</td>\n",
       "      <td>729</td>\n",
       "      <td>0.0000</td>\n",
       "    </tr>\n",
       "    <tr>\n",
       "      <th>2014-01-07</th>\n",
       "      <td>10.60</td>\n",
       "      <td>10.56</td>\n",
       "      <td>10.77</td>\n",
       "      <td>10.56</td>\n",
       "      <td>1879</td>\n",
       "      <td>0.4049</td>\n",
       "    </tr>\n",
       "    <tr>\n",
       "      <th>2014-01-08</th>\n",
       "      <td>10.64</td>\n",
       "      <td>10.69</td>\n",
       "      <td>10.77</td>\n",
       "      <td>10.60</td>\n",
       "      <td>1760</td>\n",
       "      <td>0.4032</td>\n",
       "    </tr>\n",
       "  </tbody>\n",
       "</table>\n",
       "</div>"
      ],
      "text/plain": [
       "            Close   Open   High    Low  Volume     ROI\n",
       "Date                                                  \n",
       "2014-01-02  10.47  10.47  10.52  10.35     733  0.4098\n",
       "2014-01-03  10.56  10.52  10.69  10.39    2180  0.8163\n",
       "2014-01-06  10.56  10.60  10.64  10.43     729  0.0000\n",
       "2014-01-07  10.60  10.56  10.77  10.56    1879  0.4049\n",
       "2014-01-08  10.64  10.69  10.77  10.60    1760  0.4032"
      ]
     },
     "execution_count": 9,
     "metadata": {
      "tags": []
     },
     "output_type": "execute_result"
    }
   ],
   "source": [
    "KYEf=KYE[formStart:formEnd]\n",
    "Hitronf=Hitron[formStart:formEnd]\n",
    "KYEf.head()"
   ]
  },
  {
   "cell_type": "code",
   "execution_count": null,
   "metadata": {
    "id": "QS5IiDJDMF-g",
    "outputId": "24452d71-be0a-4310-dba3-4c5014e981ce"
   },
   "outputs": [
    {
     "data": {
      "text/html": [
       "<div>\n",
       "<style scoped>\n",
       "    .dataframe tbody tr th:only-of-type {\n",
       "        vertical-align: middle;\n",
       "    }\n",
       "\n",
       "    .dataframe tbody tr th {\n",
       "        vertical-align: top;\n",
       "    }\n",
       "\n",
       "    .dataframe thead th {\n",
       "        text-align: right;\n",
       "    }\n",
       "</style>\n",
       "<table border=\"1\" class=\"dataframe\">\n",
       "  <thead>\n",
       "    <tr style=\"text-align: right;\">\n",
       "      <th></th>\n",
       "      <th>Close</th>\n",
       "      <th>Open</th>\n",
       "      <th>High</th>\n",
       "      <th>Low</th>\n",
       "      <th>Volume</th>\n",
       "      <th>ROI</th>\n",
       "    </tr>\n",
       "    <tr>\n",
       "      <th>Date</th>\n",
       "      <th></th>\n",
       "      <th></th>\n",
       "      <th></th>\n",
       "      <th></th>\n",
       "      <th></th>\n",
       "      <th></th>\n",
       "    </tr>\n",
       "  </thead>\n",
       "  <tbody>\n",
       "    <tr>\n",
       "      <th>2014-01-02</th>\n",
       "      <td>14.40</td>\n",
       "      <td>14.04</td>\n",
       "      <td>14.49</td>\n",
       "      <td>14.04</td>\n",
       "      <td>2612</td>\n",
       "      <td>2.5806</td>\n",
       "    </tr>\n",
       "    <tr>\n",
       "      <th>2014-01-03</th>\n",
       "      <td>14.22</td>\n",
       "      <td>14.13</td>\n",
       "      <td>14.35</td>\n",
       "      <td>14.13</td>\n",
       "      <td>1138</td>\n",
       "      <td>-1.2579</td>\n",
       "    </tr>\n",
       "    <tr>\n",
       "      <th>2014-01-06</th>\n",
       "      <td>14.04</td>\n",
       "      <td>14.22</td>\n",
       "      <td>14.35</td>\n",
       "      <td>13.99</td>\n",
       "      <td>1372</td>\n",
       "      <td>-1.2739</td>\n",
       "    </tr>\n",
       "    <tr>\n",
       "      <th>2014-01-07</th>\n",
       "      <td>14.31</td>\n",
       "      <td>14.04</td>\n",
       "      <td>14.40</td>\n",
       "      <td>14.04</td>\n",
       "      <td>2741</td>\n",
       "      <td>1.9355</td>\n",
       "    </tr>\n",
       "    <tr>\n",
       "      <th>2014-01-08</th>\n",
       "      <td>14.40</td>\n",
       "      <td>14.40</td>\n",
       "      <td>14.67</td>\n",
       "      <td>14.31</td>\n",
       "      <td>3891</td>\n",
       "      <td>0.6329</td>\n",
       "    </tr>\n",
       "  </tbody>\n",
       "</table>\n",
       "</div>"
      ],
      "text/plain": [
       "            Close   Open   High    Low  Volume     ROI\n",
       "Date                                                  \n",
       "2014-01-02  14.40  14.04  14.49  14.04    2612  2.5806\n",
       "2014-01-03  14.22  14.13  14.35  14.13    1138 -1.2579\n",
       "2014-01-06  14.04  14.22  14.35  13.99    1372 -1.2739\n",
       "2014-01-07  14.31  14.04  14.40  14.04    2741  1.9355\n",
       "2014-01-08  14.40  14.40  14.67  14.31    3891  0.6329"
      ]
     },
     "execution_count": 10,
     "metadata": {
      "tags": []
     },
     "output_type": "execute_result"
    }
   ],
   "source": [
    "Hitronf.head()"
   ]
  },
  {
   "cell_type": "code",
   "execution_count": null,
   "metadata": {
    "id": "et296GKHMF-g",
    "outputId": "7b6bee28-fa31-4bb4-96a5-99f81d297b00"
   },
   "outputs": [
    {
     "data": {
      "text/plain": [
       "248"
      ]
     },
     "execution_count": 11,
     "metadata": {
      "tags": []
     },
     "output_type": "execute_result"
    }
   ],
   "source": [
    "len(Hitronf)"
   ]
  },
  {
   "cell_type": "code",
   "execution_count": null,
   "metadata": {
    "id": "zB_6lhbnMF-h"
   },
   "outputs": [],
   "source": [
    "#最小距離法\n",
    "def SSD(priceX,priceY):\n",
    "    if priceX is None or priceY is None:\n",
    "        print('缺少價格序列.')\n",
    "    standardX=priceX/priceX[0]\n",
    "    standardY=priceY/priceY[0]\n",
    "    SSD=np.sum((standardX-standardY)**2)\n",
    "    return(SSD) "
   ]
  },
  {
   "cell_type": "code",
   "execution_count": null,
   "metadata": {
    "id": "Rr-iKA7FMF-h",
    "outputId": "9e613c6f-116a-417d-fc0e-f972b42ec76a"
   },
   "outputs": [
    {
     "data": {
      "text/plain": [
       "1.3364442848421572"
      ]
     },
     "execution_count": 14,
     "metadata": {
      "tags": []
     },
     "output_type": "execute_result"
    }
   ],
   "source": [
    "#計算仲琦與昆盈的標準化價格的距離\n",
    "KYEf =  pairf['昆盈']  \n",
    "Hitronf = pairf['仲琦科技'] \n",
    "dis=SSD(KYEf,Hitronf)\n",
    "dis"
   ]
  },
  {
   "cell_type": "code",
   "execution_count": null,
   "metadata": {
    "id": "m7uq7sg7MF-h",
    "outputId": "66cc0c9b-b8bf-45d0-a287-6d07568bfc9a"
   },
   "outputs": [
    {
     "name": "stdout",
     "output_type": "stream",
     "text": [
      "   Augmented Dickey-Fuller Results   \n",
      "=====================================\n",
      "Test Statistic                 -1.738\n",
      "P-value                         0.412\n",
      "Lags                                1\n",
      "-------------------------------------\n",
      "\n",
      "Trend: Constant\n",
      "Critical Values: -3.46 (1%), -2.87 (5%), -2.57 (10%)\n",
      "Null Hypothesis: The process contains a unit root.\n",
      "Alternative Hypothesis: The process is weakly stationary.\n"
     ]
    }
   ],
   "source": [
    "#用ADF檢定\n",
    "KYEflog=np.log(KYEf)\n",
    "adfA=ADF(KYEflog)\n",
    "print(adfA.summary().as_text())\n",
    "#說明昆盈對數序列是不定態"
   ]
  },
  {
   "cell_type": "code",
   "execution_count": null,
   "metadata": {
    "id": "zO_eng83MF-i",
    "outputId": "a7dc0ca2-c79a-4924-ea31-6cc6c8a377d9"
   },
   "outputs": [
    {
     "name": "stdout",
     "output_type": "stream",
     "text": [
      "   Augmented Dickey-Fuller Results   \n",
      "=====================================\n",
      "Test Statistic                -14.404\n",
      "P-value                         0.000\n",
      "Lags                                0\n",
      "-------------------------------------\n",
      "\n",
      "Trend: Constant\n",
      "Critical Values: -3.46 (1%), -2.87 (5%), -2.57 (10%)\n",
      "Null Hypothesis: The process contains a unit root.\n",
      "Alternative Hypothesis: The process is weakly stationary.\n"
     ]
    }
   ],
   "source": [
    "retA=KYEflog.diff()[1:]\n",
    "adfretA=ADF(retA)\n",
    "print(adfretA.summary().as_text())\n",
    "# 昆盈差分之後就定態了"
   ]
  },
  {
   "cell_type": "code",
   "execution_count": null,
   "metadata": {
    "id": "NzMtznl-MF-i",
    "outputId": "5e6d7424-779e-45e3-c3b5-352fefe0733b"
   },
   "outputs": [
    {
     "name": "stdout",
     "output_type": "stream",
     "text": [
      "   Augmented Dickey-Fuller Results   \n",
      "=====================================\n",
      "Test Statistic                 -1.715\n",
      "P-value                         0.423\n",
      "Lags                                0\n",
      "-------------------------------------\n",
      "\n",
      "Trend: Constant\n",
      "Critical Values: -3.46 (1%), -2.87 (5%), -2.57 (10%)\n",
      "Null Hypothesis: The process contains a unit root.\n",
      "Alternative Hypothesis: The process is weakly stationary.\n"
     ]
    }
   ],
   "source": [
    "Hitronflog=np.log(Hitronf)\n",
    "adfB=ADF(Hitronflog)\n",
    "print(adfB.summary().as_text())\n",
    "#仲琦也是相同的情形！"
   ]
  },
  {
   "cell_type": "code",
   "execution_count": null,
   "metadata": {
    "id": "q4lW7AsTMF-j",
    "outputId": "bc7499b1-4dff-4c5f-b1f9-808a845f8f61"
   },
   "outputs": [
    {
     "name": "stdout",
     "output_type": "stream",
     "text": [
      "   Augmented Dickey-Fuller Results   \n",
      "=====================================\n",
      "Test Statistic                -14.824\n",
      "P-value                         0.000\n",
      "Lags                                0\n",
      "-------------------------------------\n",
      "\n",
      "Trend: Constant\n",
      "Critical Values: -3.46 (1%), -2.87 (5%), -2.57 (10%)\n",
      "Null Hypothesis: The process contains a unit root.\n",
      "Alternative Hypothesis: The process is weakly stationary.\n"
     ]
    }
   ],
   "source": [
    "retB=Hitronflog.diff()[1:]\n",
    "adfretB=ADF(retB)\n",
    "print(adfretB.summary().as_text())"
   ]
  },
  {
   "cell_type": "code",
   "execution_count": null,
   "metadata": {
    "id": "WG8Ft5fyMF-j",
    "outputId": "c79b9914-e148-4b61-d1f0-add245adf1a8"
   },
   "outputs": [
    {
     "data": {
      "text/plain": [
       "Text(0.5, 1.0, '昆盈與仲琦科技的對數價格時序圖')"
      ]
     },
     "execution_count": 19,
     "metadata": {
      "tags": []
     },
     "output_type": "execute_result"
    },
    {
     "data": {
      "image/png": "[encoded data removed]",
      "text/plain": [
       "<Figure size 432x288 with 1 Axes>"
      ]
     },
     "metadata": {
      "needs_background": "light",
      "tags": []
     },
     "output_type": "display_data"
    }
   ],
   "source": [
    "KYEflog.plot(label='昆盈',style='--')\n",
    "Hitronflog.plot(label='仲琦科技',style='r-')\n",
    "plt.legend(loc='upper left')\n",
    "plt.title('昆盈與仲琦科技的對數價格時序圖') "
   ]
  },
  {
   "cell_type": "code",
   "execution_count": null,
   "metadata": {
    "id": "iNQPETAmMF-k",
    "outputId": "3421de22-d1af-4949-d358-f921d42d4ae9"
   },
   "outputs": [
    {
     "data": {
      "text/plain": [
       "Text(0.5, 1.0, '昆盈與仲琦科技的對數價格差分(收益率)時序圖')"
      ]
     },
     "execution_count": 20,
     "metadata": {
      "tags": []
     },
     "output_type": "execute_result"
    },
    {
     "data": {
      "image/png": "[encoded data removed]",
      "text/plain": [
       "<Figure size 432x288 with 1 Axes>"
      ]
     },
     "metadata": {
      "needs_background": "light",
      "tags": []
     },
     "output_type": "display_data"
    }
   ],
   "source": [
    "retA.plot(label='昆盈',style='--')\n",
    "retB.plot(label='仲琦科技',style='r-')\n",
    "plt.legend(loc='lower left')\n",
    "plt.title('昆盈與仲琦科技的對數價格差分(收益率)時序圖') \n",
    "# 可以看出來穩態"
   ]
  },
  {
   "cell_type": "code",
   "execution_count": null,
   "metadata": {
    "id": "8BxnvMHqMF-k",
    "outputId": "abd360ba-aea3-41cb-856b-b4d415586378"
   },
   "outputs": [
    {
     "name": "stdout",
     "output_type": "stream",
     "text": [
      "                            OLS Regression Results                            \n",
      "==============================================================================\n",
      "Dep. Variable:                     昆盈   R-squared:                       0.888\n",
      "Model:                            OLS   Adj. R-squared:                  0.887\n",
      "Method:                 Least Squares   F-statistic:                     1948.\n",
      "Date:                Thu, 20 Jun 2019   Prob (F-statistic):          7.05e-119\n",
      "Time:                        05:58:31   Log-Likelihood:                 498.40\n",
      "No. Observations:                 248   AIC:                            -992.8\n",
      "Df Residuals:                     246   BIC:                            -985.8\n",
      "Df Model:                           1                                         \n",
      "Covariance Type:            nonrobust                                         \n",
      "==============================================================================\n",
      "                 coef    std err          t      P>|t|      [0.025      0.975]\n",
      "------------------------------------------------------------------------------\n",
      "const          0.1489      0.051      2.900      0.004       0.048       0.250\n",
      "仲琦科技           0.8138      0.018     44.134      0.000       0.777       0.850\n",
      "==============================================================================\n",
      "Omnibus:                        1.088   Durbin-Watson:                   0.457\n",
      "Prob(Omnibus):                  0.581   Jarque-Bera (JB):                1.108\n",
      "Skew:                           0.158   Prob(JB):                        0.575\n",
      "Kurtosis:                       2.916   Cond. No.                         78.0\n",
      "==============================================================================\n",
      "\n",
      "Warnings:\n",
      "[1] Standard Errors assume that the covariance matrix of the errors is correctly specified.\n"
     ]
    },
    {
     "name": "stderr",
     "output_type": "stream",
     "text": [
      "/usr/local/lib/python3.6/dist-packages/numpy/core/fromnumeric.py:2389: FutureWarning: Method .ptp is deprecated and will be removed in a future version. Use numpy.ptp instead.\n",
      "  return ptp(axis=axis, out=out, **kwargs)\n"
     ]
    }
   ],
   "source": [
    "#回歸分析 \n",
    "#因變數是昆盈(A)股票的對數價格 \n",
    "#自變數是仲琦科技(B)股票的對數價格\n",
    "model=sm.OLS(KYEflog,sm.add_constant(Hitronflog))\n",
    "results=model.fit()\n",
    "print(results.summary())"
   ]
  },
  {
   "cell_type": "code",
   "execution_count": null,
   "metadata": {
    "id": "HZ4JX67tMF-k",
    "outputId": "c1d981ef-89dc-42e9-8313-9def99210f15"
   },
   "outputs": [
    {
     "name": "stdout",
     "output_type": "stream",
     "text": [
      "0.14885693760867308 0.8137547011721911\n"
     ]
    }
   ],
   "source": [
    "alpha=results.params[0]  \n",
    "beta=results.params[1]\n",
    "print(alpha,beta)"
   ]
  },
  {
   "cell_type": "code",
   "execution_count": null,
   "metadata": {
    "id": "cGAqqQVwMF-l",
    "outputId": "59784baa-7724-4aa7-8393-bc48f0eebcca"
   },
   "outputs": [
    {
     "data": {
      "text/plain": [
       "Date\n",
       "2014-01-02    0.029188\n",
       "2014-01-03    0.047983\n",
       "2014-01-06    0.058349\n",
       "2014-01-07    0.046629\n",
       "2014-01-08    0.045294\n",
       "dtype: float64"
      ]
     },
     "execution_count": 23,
     "metadata": {
      "tags": []
     },
     "output_type": "execute_result"
    }
   ],
   "source": [
    "spread=KYEflog-beta*Hitronflog-alpha\n",
    "spread.head()"
   ]
  },
  {
   "cell_type": "code",
   "execution_count": null,
   "metadata": {
    "id": "O7otCwYVMF-l",
    "outputId": "9ab8df6b-6b2e-4ad5-c935-cc14ce786d4d"
   },
   "outputs": [
    {
     "data": {
      "text/plain": [
       "Text(0.5, 1.0, '昆盈與仲琦科技的價差序列')"
      ]
     },
     "execution_count": 24,
     "metadata": {
      "tags": []
     },
     "output_type": "execute_result"
    },
    {
     "data": {
      "image/png": "[encoded data removed]",
      "text/plain": [
       "<Figure size 432x288 with 1 Axes>"
      ]
     },
     "metadata": {
      "needs_background": "light",
      "tags": []
     },
     "output_type": "display_data"
    }
   ],
   "source": [
    "spread.plot()\n",
    "plt.title('昆盈與仲琦科技的價差序列') "
   ]
  },
  {
   "cell_type": "code",
   "execution_count": null,
   "metadata": {
    "id": "Tc-4cjpKMF-l",
    "outputId": "418dcef7-2714-4e2c-e9b4-ca90fbe213e2"
   },
   "outputs": [
    {
     "name": "stdout",
     "output_type": "stream",
     "text": [
      "   Augmented Dickey-Fuller Results   \n",
      "=====================================\n",
      "Test Statistic                 -5.647\n",
      "P-value                         0.000\n",
      "Lags                                0\n",
      "-------------------------------------\n",
      "\n",
      "Trend: No Trend\n",
      "Critical Values: -2.57 (1%), -1.94 (5%), -1.62 (10%)\n",
      "Null Hypothesis: The process contains a unit root.\n",
      "Alternative Hypothesis: The process is weakly stationary.\n"
     ]
    }
   ],
   "source": [
    "adfSpread=ADF(spread, trend='nc') \n",
    "print(adfSpread.summary().as_text())"
   ]
  },
  {
   "cell_type": "code",
   "execution_count": null,
   "metadata": {
    "id": "NtI-dC2tMF-l",
    "outputId": "2919dcb3-fde7-4fc3-d664-ac68793d878c"
   },
   "outputs": [
    {
     "data": {
      "text/plain": [
       "Date\n",
       "2014-01-02    0.000000\n",
       "2014-01-03    0.021096\n",
       "2014-01-06    0.033596\n",
       "2014-01-07    0.018666\n",
       "2014-01-08    0.016237\n",
       "dtype: float64"
      ]
     },
     "execution_count": 26,
     "metadata": {
      "tags": []
     },
     "output_type": "execute_result"
    }
   ],
   "source": [
    "#最小距離法交易策略\n",
    "standardA= KYEf/KYEf[0]\n",
    "standardB= Hitronf/Hitronf[0]\n",
    "SSD_pair=standardA-standardB\n",
    "SSD_pair.head() "
   ]
  },
  {
   "cell_type": "code",
   "execution_count": null,
   "metadata": {
    "id": "h28-uijqMF-m",
    "outputId": "1906783d-5b12-475f-cf68-79c3befd8498"
   },
   "outputs": [
    {
     "name": "stdout",
     "output_type": "stream",
     "text": [
      "0.011419292055559284 -0.12609645145106732\n"
     ]
    }
   ],
   "source": [
    "meanSSD_pair=np.mean(SSD_pair)\n",
    "sdSSD_pair=np.std(SSD_pair)\n",
    "thresholdUp=meanSSD_pair+1.5*sdSSD_pair\n",
    "thresholdDown=meanSSD_pair-1.5*sdSSD_pair\n",
    "print(thresholdUp,thresholdDown)"
   ]
  },
  {
   "cell_type": "code",
   "execution_count": null,
   "metadata": {
    "id": "sF05BVsWMF-m",
    "outputId": "877606ef-79f3-48f6-e746-5a23bf14309d"
   },
   "outputs": [
    {
     "data": {
      "image/png": "[encoded data removed]",
      "text/plain": [
       "<Figure size 432x288 with 1 Axes>"
      ]
     },
     "metadata": {
      "needs_background": "light",
      "tags": []
     },
     "output_type": "display_data"
    }
   ],
   "source": [
    "SSD_pair.plot()\n",
    "plt.axhline(y=meanSSD_pair,color='black')\n",
    "plt.axhline(y=thresholdUp,color='red')\n",
    "plt.axhline(y=thresholdDown,color='red') \n",
    "plt.title(\"昆盈與仲琦科技標準化價差序列(形成期)\") \n",
    "plt.show()\n"
   ]
  },
  {
   "cell_type": "code",
   "execution_count": null,
   "metadata": {
    "id": "P2Dmxhu8MF-m"
   },
   "outputs": [],
   "source": [
    "tradStart='2015-01-01'\n",
    "tradEnd='2015-06-30'"
   ]
  },
  {
   "cell_type": "code",
   "execution_count": null,
   "metadata": {
    "id": "AYWudCVAMF-n"
   },
   "outputs": [],
   "source": [
    "KYEt=KYE[tradStart:tradEnd].Close\n",
    "Hitront=Hitron[tradStart:tradEnd].Close"
   ]
  },
  {
   "cell_type": "code",
   "execution_count": null,
   "metadata": {
    "id": "KNP72dSgMF-n"
   },
   "outputs": [],
   "source": [
    "def spreadCal(priceX,priceY):\n",
    "    data = pd.concat([priceX,priceY],axis=1).dropna()\n",
    "    data.columns=['X','Y']\n",
    "    standardX=data.X/data.X[0]\n",
    "    standardY=data.Y/data.Y[0]\n",
    "    spread=standardX-standardY\n",
    "    return(spread)"
   ]
  },
  {
   "cell_type": "code",
   "execution_count": null,
   "metadata": {
    "id": "JFq33_KmMF-n",
    "outputId": "aac1a641-5246-43a4-8dc3-e65ec42c164f"
   },
   "outputs": [
    {
     "data": {
      "text/plain": [
       "count    116.000000\n",
       "mean      -0.019752\n",
       "std        0.036222\n",
       "min       -0.108388\n",
       "25%       -0.045018\n",
       "50%       -0.025420\n",
       "75%        0.005482\n",
       "max        0.079424\n",
       "dtype: float64"
      ]
     },
     "execution_count": 32,
     "metadata": {
      "tags": []
     },
     "output_type": "execute_result"
    }
   ],
   "source": [
    "TradSpread=spreadCal(KYEt,Hitront)\n",
    "TradSpread.describe() "
   ]
  },
  {
   "cell_type": "code",
   "execution_count": null,
   "metadata": {
    "id": "QSKXkuhhMF-n",
    "outputId": "72dfa153-054e-4b96-8992-1242a3e8b525"
   },
   "outputs": [
    {
     "data": {
      "text/plain": [
       "<matplotlib.lines.Line2D at 0x7f5ec59356a0>"
      ]
     },
     "execution_count": 33,
     "metadata": {
      "tags": []
     },
     "output_type": "execute_result"
    },
    {
     "data": {
      "image/png": "[encoded data removed]",
      "text/plain": [
       "<Figure size 432x288 with 1 Axes>"
      ]
     },
     "metadata": {
      "needs_background": "light",
      "tags": []
     },
     "output_type": "display_data"
    }
   ],
   "source": [
    "TradSpread.plot()\n",
    "plt.title('交易期價差序列')\n",
    "plt.axhline(y=meanSSD_pair,color='black')\n",
    "plt.axhline(y=thresholdUp,color='red')\n",
    "plt.axhline(y=thresholdDown,color='red') "
   ]
  },
  {
   "cell_type": "code",
   "execution_count": null,
   "metadata": {
    "id": "KkO5-0EvMF-o",
    "outputId": "a379cf36-3bd4-40d0-e0ad-47a94260a582"
   },
   "outputs": [
    {
     "data": {
      "text/plain": [
       "-0.03891813451928949"
      ]
     },
     "execution_count": 34,
     "metadata": {
      "tags": []
     },
     "output_type": "execute_result"
    }
   ],
   "source": [
    "spreadf=KYEflog-beta*Hitronflog-alpha\n",
    "mu=np.mean(spreadf)\n",
    "sd=np.std(spreadf)\n",
    "mu+1.2*sd\n",
    "mu-1.2*sd"
   ]
  },
  {
   "cell_type": "code",
   "execution_count": null,
   "metadata": {
    "id": "IGqU-bpiMF-o",
    "outputId": "8b4b38db-8d58-438f-e3e0-125d8d727f67"
   },
   "outputs": [
    {
     "data": {
      "text/plain": [
       "count    116.000000\n",
       "mean      -0.014032\n",
       "std        0.030794\n",
       "min       -0.094471\n",
       "25%       -0.035892\n",
       "50%       -0.017570\n",
       "75%        0.006555\n",
       "max        0.070554\n",
       "Name: Close, dtype: float64"
      ]
     },
     "execution_count": 35,
     "metadata": {
      "tags": []
     },
     "output_type": "execute_result"
    }
   ],
   "source": [
    "CoSpreadT=np.log(KYEt)-beta*np.log(Hitront)-alpha\n",
    "CoSpreadT.describe() "
   ]
  },
  {
   "cell_type": "code",
   "execution_count": null,
   "metadata": {
    "id": "iFKQH0LSMF-o",
    "outputId": "85c4d529-b818-46d7-c012-615932128a55"
   },
   "outputs": [
    {
     "data": {
      "text/plain": [
       "<matplotlib.lines.Line2D at 0x7f5ec586c550>"
      ]
     },
     "execution_count": 36,
     "metadata": {
      "tags": []
     },
     "output_type": "execute_result"
    },
    {
     "data": {
      "image/png": "[encoded data removed]",
      "text/plain": [
       "<Figure size 432x288 with 1 Axes>"
      ]
     },
     "metadata": {
      "needs_background": "light",
      "tags": []
     },
     "output_type": "display_data"
    }
   ],
   "source": [
    "CoSpreadT.plot()\n",
    "plt.title('交易期價差序列(協整配對)')\n",
    "plt.axhline(y=mu,color='black')\n",
    "plt.axhline(y=mu+1.2*sd,color='red')\n",
    "plt.axhline(y=mu-1.2*sd,color='red') "
   ]
  },
  {
   "cell_type": "code",
   "execution_count": null,
   "metadata": {
    "id": "uOSaSKJfMF-p"
   },
   "outputs": [],
   "source": [
    "######PairTrading Class #############\n",
    "class PairTrading:\n",
    "    def SSD(self,priceX,priceY):\n",
    "        if priceX is None or priceY is None:\n",
    "            priant('缺少價格序列.')\n",
    "        standardX=priceX/priceX[0]\n",
    "        standardY=priceY/priceY[0]\n",
    "        SSD=np.sum((standardY-standardX)**2)\n",
    "        return(SSD)\n",
    "    def SSDSpread(self,priceX,priceY):\n",
    "        if priceX is None or priceY is None:\n",
    "            print('缺少價格序列.')\n",
    "        standardX=priceX/priceX[0]\n",
    "        standardY=priceY/priceY[0]\n",
    "        spread=standardY-standardX\n",
    "        return(spread)\n",
    "    def cointegration(self,priceX,priceY):\n",
    "        if priceX is None or priceY is None:\n",
    "            print('缺少價格序列.')\n",
    "        priceX=np.log(priceX)\n",
    "        priceY=np.log(priceY)\n",
    "        results=sm.OLS(priceY,sm.add_constant(priceX)).fit()\n",
    "        resid=results.resid\n",
    "        adfSpread=ADF(resid)\n",
    "        if adfSpread.pvalue>=0.05:\n",
    "            print('''交易價格不具有協整關係.\n",
    "            P-value of ADF test: %f\n",
    "            Coefficients of regression:\n",
    "            Intercept: %f\n",
    "            Beta: %f\n",
    "             ''' % (adfSpread.pvalue, results.params[0], results.params[1]))\n",
    "            return(None)\n",
    "        else:\n",
    "            print('''交易價格具有協整關係.\n",
    "            P-value of ADF test: %f\n",
    "            Coefficients of regression:\n",
    "            Intercept: %f\n",
    "            Beta: %f\n",
    "             ''' % (adfSpread.pvalue, results.params[0], results.params[1]))\n",
    "            return(results.params[0], results.params[1])\n",
    "    def CointegrationSpread(self,priceX,priceY,\n",
    "                            formStart,formEnd,tradeStart,tradeEnd):\n",
    "        if priceX is None or priceY is None:\n",
    "            print('缺少價格序列.')\n",
    "        formX=priceX[formStart:formEnd]\n",
    "        formY=priceY[formStart:formEnd]\n",
    "        tradeX=priceX[tradeStart:tradeEnd]\n",
    "        tradeY=priceY[tradeStart:tradeEnd]\n",
    "        coefficients=self.cointegration(formX,formY)\n",
    "        if coefficients is None:\n",
    "                print('未形成協整關係,無法配對.')\n",
    "        else:\n",
    "            spread=(np.log(tradeY)\n",
    "            -coefficients[0]-coefficients[1]*np.log(tradeX))\n",
    "            return(spread)\n",
    "    def calBound(self,priceX,priceY,method,formStart,formEnd,width=1.5):\n",
    "        formX=priceX[formStart:formEnd]\n",
    "        formY=priceY[formStart:formEnd]\n",
    "        if method=='SSD':\n",
    "            spread=self.SSDSpread(formX,formY)            \n",
    "            mu=np.mean(spread)\n",
    "            sd=np.std(spread)\n",
    "            UpperBound=mu+width*sd\n",
    "            LowerBound=mu-width*sd\n",
    "            return(UpperBound,LowerBound)\n",
    "        elif method=='Cointegration':\n",
    "            spread=self.CointegrationSpread(priceX,priceY,formStart,formEnd,\n",
    "                 formStart,formEnd)\n",
    "            mu=np.mean(spread)\n",
    "            sd=np.std(spread)\n",
    "            UpperBound=mu+width*sd\n",
    "            LowerBound=mu-width*sd\n",
    "            return(UpperBound,LowerBound)\n",
    "        else:\n",
    "            print('不存在該方法. 請選擇\"SSD\"或是\"Cointegration\".')"
   ]
  },
  {
   "cell_type": "code",
   "execution_count": null,
   "metadata": {
    "id": "VnTBCcFRMF-q"
   },
   "outputs": [],
   "source": [
    "formStart = '2014-01-01'\n",
    "formEnd = '2015-01-01'\n",
    "tradeStart = '2015-01-01'\n",
    "tradeEnd = '2015-06-30'"
   ]
  },
  {
   "cell_type": "code",
   "execution_count": null,
   "metadata": {
    "id": "5TmSaI34MF-q"
   },
   "outputs": [],
   "source": [
    "priceA= Hitron.Close\n",
    "priceB=KYE.Close\n",
    "priceAf=priceA[formStart:formEnd]\n",
    "priceBf=priceB[formStart:formEnd]\n",
    "priceAt=priceA[tradeStart:tradeEnd]\n",
    "priceBt=priceB[tradeStart:tradeEnd]"
   ]
  },
  {
   "cell_type": "code",
   "execution_count": null,
   "metadata": {
    "id": "1PZDWSJLMF-q",
    "outputId": "94981719-9bd8-4475-d6ec-08f41cdf38f8"
   },
   "outputs": [
    {
     "data": {
      "text/plain": [
       "1.3364442848421572"
      ]
     },
     "execution_count": 40,
     "metadata": {
      "tags": []
     },
     "output_type": "execute_result"
    }
   ],
   "source": [
    "pt=PairTrading()\n",
    "SSD=pt.SSD(priceAf,priceBf)\n",
    "SSD"
   ]
  },
  {
   "cell_type": "code",
   "execution_count": null,
   "metadata": {
    "id": "pTT9n5DoMF-r",
    "outputId": "a3628562-5d77-42d1-bd5a-3c1d22776b50"
   },
   "outputs": [
    {
     "data": {
      "text/plain": [
       "Date\n",
       "2014-01-02    0.000000\n",
       "2014-01-03    0.021096\n",
       "2014-01-06    0.033596\n",
       "2014-01-07    0.018666\n",
       "2014-01-08    0.016237\n",
       "Name: Close, dtype: float64"
      ]
     },
     "execution_count": 41,
     "metadata": {
      "tags": []
     },
     "output_type": "execute_result"
    }
   ],
   "source": [
    "SSDspread=pt.SSDSpread(priceAf,priceBf)\n",
    "SSDspread.describe()\n",
    "SSDspread.head()"
   ]
  },
  {
   "cell_type": "code",
   "execution_count": null,
   "metadata": {
    "id": "VlF_vImiMF-r",
    "outputId": "b5445c16-15d8-4fdd-8281-fa387398fd87"
   },
   "outputs": [
    {
     "name": "stdout",
     "output_type": "stream",
     "text": [
      "交易價格具有協整關係.\n",
      "            P-value of ADF test: 0.000001\n",
      "            Coefficients of regression:\n",
      "            Intercept: 0.148857\n",
      "            Beta: 0.813755\n",
      "             \n"
     ]
    },
    {
     "data": {
      "text/plain": [
       "(0.14885693760867308, 0.8137547011721911)"
      ]
     },
     "execution_count": 42,
     "metadata": {
      "tags": []
     },
     "output_type": "execute_result"
    }
   ],
   "source": [
    "coefficients=pt.cointegration(priceAf,priceBf)\n",
    "coefficients"
   ]
  },
  {
   "cell_type": "code",
   "execution_count": null,
   "metadata": {
    "id": "fDKHK3tDMF-r",
    "outputId": "1fcb2c38-085e-424e-8f34-cf3915551f97"
   },
   "outputs": [
    {
     "data": {
      "text/plain": [
       "0.14885693760867308"
      ]
     },
     "execution_count": 43,
     "metadata": {
      "tags": []
     },
     "output_type": "execute_result"
    }
   ],
   "source": [
    "alpha\n"
   ]
  },
  {
   "cell_type": "code",
   "execution_count": null,
   "metadata": {
    "id": "PNZhq8CyMF-r",
    "outputId": "533c9dfb-e2d3-439c-b932-3a0ffa32379b"
   },
   "outputs": [
    {
     "data": {
      "text/plain": [
       "0.8137547011721911"
      ]
     },
     "execution_count": 44,
     "metadata": {
      "tags": []
     },
     "output_type": "execute_result"
    }
   ],
   "source": [
    "beta"
   ]
  },
  {
   "cell_type": "code",
   "execution_count": null,
   "metadata": {
    "id": "WOmdQK7nMF-s",
    "outputId": "34ff39b0-6c4b-4409-f767-59405e8e7853"
   },
   "outputs": [
    {
     "name": "stdout",
     "output_type": "stream",
     "text": [
      "交易價格具有協整關係.\n",
      "            P-value of ADF test: 0.000001\n",
      "            Coefficients of regression:\n",
      "            Intercept: 0.148857\n",
      "            Beta: 0.813755\n",
      "             \n"
     ]
    },
    {
     "data": {
      "text/plain": [
       "Date\n",
       "2014-01-02    0.029188\n",
       "2014-01-03    0.047983\n",
       "2014-01-06    0.058349\n",
       "2014-01-07    0.046629\n",
       "2014-01-08    0.045294\n",
       "Name: Close, dtype: float64"
      ]
     },
     "execution_count": 45,
     "metadata": {
      "tags": []
     },
     "output_type": "execute_result"
    }
   ],
   "source": [
    "CoSpreadF=pt.CointegrationSpread(priceA,priceB,\n",
    "             formStart,formEnd,formStart,formEnd)\n",
    "CoSpreadF.head()\n"
   ]
  },
  {
   "cell_type": "code",
   "execution_count": null,
   "metadata": {
    "id": "Zvk3tbS_MF-s",
    "outputId": "aae2d9ca-8170-4a97-ddd5-567ad94ef93d"
   },
   "outputs": [
    {
     "name": "stdout",
     "output_type": "stream",
     "text": [
      "交易價格具有協整關係.\n",
      "            P-value of ADF test: 0.000001\n",
      "            Coefficients of regression:\n",
      "            Intercept: 0.148857\n",
      "            Beta: 0.813755\n",
      "             \n"
     ]
    },
    {
     "data": {
      "text/plain": [
       "count    116.000000\n",
       "mean      -0.014032\n",
       "std        0.030794\n",
       "min       -0.094471\n",
       "25%       -0.035892\n",
       "50%       -0.017570\n",
       "75%        0.006555\n",
       "max        0.070554\n",
       "Name: Close, dtype: float64"
      ]
     },
     "execution_count": 46,
     "metadata": {
      "tags": []
     },
     "output_type": "execute_result"
    }
   ],
   "source": [
    "CoSpreadTr=pt.CointegrationSpread(priceA,priceB,formStart,formEnd,\n",
    "            tradeStart,tradeEnd)\n",
    "CoSpreadTr.describe()"
   ]
  },
  {
   "cell_type": "code",
   "execution_count": null,
   "metadata": {
    "id": "a5d-AqsjMF-s",
    "outputId": "e306856f-705c-43b2-9500-6ea072e5e0ff"
   },
   "outputs": [
    {
     "name": "stdout",
     "output_type": "stream",
     "text": [
      "交易價格具有協整關係.\n",
      "            P-value of ADF test: 0.000001\n",
      "            Coefficients of regression:\n",
      "            Intercept: 0.148857\n",
      "            Beta: 0.813755\n",
      "             \n"
     ]
    },
    {
     "data": {
      "text/plain": [
       "(0.03891813451928096, -0.03891813451928966)"
      ]
     },
     "execution_count": 47,
     "metadata": {
      "tags": []
     },
     "output_type": "execute_result"
    }
   ],
   "source": [
    "bound=pt.calBound(priceA,priceB,'Cointegration',\n",
    "      formStart,formEnd,width=1.2)\n",
    "bound"
   ]
  },
  {
   "cell_type": "code",
   "execution_count": null,
   "metadata": {
    "id": "NE6DrRNFMF-t"
   },
   "outputs": [],
   "source": [
    "##########配對交易實測 ###############\n",
    "mu=np.mean(CoSpreadF)\n",
    "sd=np.std(CoSpreadF)"
   ]
  },
  {
   "cell_type": "code",
   "execution_count": null,
   "metadata": {
    "id": "6civBEKCMF-t",
    "outputId": "e8ed2317-fac6-4dc8-ddd3-61c107951b48"
   },
   "outputs": [
    {
     "data": {
      "text/plain": [
       "<matplotlib.lines.Line2D at 0x7f5ec5819278>"
      ]
     },
     "execution_count": 49,
     "metadata": {
      "tags": []
     },
     "output_type": "execute_result"
    },
    {
     "data": {
      "image/png": "[encoded data removed]",
      "text/plain": [
       "<Figure size 432x288 with 1 Axes>"
      ]
     },
     "metadata": {
      "needs_background": "light",
      "tags": []
     },
     "output_type": "display_data"
    }
   ],
   "source": [
    "#設定交易期\n",
    "CoSpreadTr.plot()\n",
    "plt.title('交易期價差序列(協整配對)')\n",
    "plt.axhline(y=mu,color='black')\n",
    "plt.axhline(y=mu+0.2*sd,color='blue',ls='-',lw=2)\n",
    "plt.axhline(y=mu-0.2*sd,color='blue',ls='-',lw=2)\n",
    "plt.axhline(y=mu+1.5*sd,color='green',ls='--',lw=2.5)\n",
    "plt.axhline(y=mu-1.5*sd,color='green',ls='--',lw=2.5)\n",
    "plt.axhline(y=mu+2.5*sd,color='red',ls='-.',lw=3) \n",
    "plt.axhline(y=mu-2.5*sd,color='red',ls='-.',lw=3) "
   ]
  },
  {
   "cell_type": "code",
   "execution_count": null,
   "metadata": {
    "id": "W24slBVlMF-t"
   },
   "outputs": [],
   "source": [
    "level=(float('-inf'),mu-2.5*sd,\n",
    "    mu-1.5*sd,mu-0.2*sd,\n",
    "    mu+0.2*sd,mu+1.5*sd,\n",
    "    mu+2.5*sd,\n",
    "    float('inf'))"
   ]
  },
  {
   "cell_type": "code",
   "execution_count": null,
   "metadata": {
    "id": "55DzYCx7MF-t",
    "outputId": "e5a3fdfe-ff0c-4499-dcf3-67d598d0263e"
   },
   "outputs": [
    {
     "data": {
      "text/plain": [
       "Date\n",
       "2015-01-05    1\n",
       "2015-01-06    1\n",
       "2015-01-07   -1\n",
       "2015-01-08    0\n",
       "2015-01-09    1\n",
       "Name: Close, dtype: int64"
      ]
     },
     "execution_count": 51,
     "metadata": {
      "tags": []
     },
     "output_type": "execute_result"
    }
   ],
   "source": [
    "prcLevel=pd.cut(CoSpreadTr,level,labels=False)-3\n",
    "prcLevel.head() "
   ]
  },
  {
   "cell_type": "code",
   "execution_count": null,
   "metadata": {
    "id": "SXHJfxqZMF-t"
   },
   "outputs": [],
   "source": [
    "#模擬交易\n",
    "def TradeSig(prcLevel):\n",
    "    n=len(prcLevel)\n",
    "    signal=np.zeros(n)\n",
    "    for i in range(1,n):\n",
    "        if prcLevel[i-1]==1 and prcLevel[i]==2:\n",
    "            signal[i]=-2\n",
    "        elif prcLevel[i-1]==1 and prcLevel[i]==0:\n",
    "            signal[i]=2\n",
    "        elif prcLevel[i-1]==2 and prcLevel[i]==3:\n",
    "            signal[i]=3\n",
    "        elif prcLevel[i-1]==-1 and prcLevel[i]==-2:\n",
    "            signal[i]=1\n",
    "        elif prcLevel[i-1]==-1 and prcLevel[i]==0:\n",
    "            signal[i]=-1\n",
    "        elif prcLevel[i-1]==-2 and prcLevel[i]==-3:\n",
    "            signal[i]=-3\n",
    "    return(signal)"
   ]
  },
  {
   "cell_type": "code",
   "execution_count": null,
   "metadata": {
    "id": "kuoBjuUkMF-u",
    "outputId": "f7ec0f67-d183-46b1-c441-ec97a3a7f141"
   },
   "outputs": [
    {
     "name": "stdout",
     "output_type": "stream",
     "text": [
      "[ 0.  0.  0. -1.  0.  0.  0.  0.  0.  0.  1.  0. -1.  0.  0.  2.  0.  0.\n",
      "  0.  0.  0.  0.  2.  0.  0.  0.  0.  0.  0.  0.  2.  0.  0.  0.  0.  0.\n",
      "  0.  0.  0.  0.  0.  0.  0.  0.  0.  0.  0.  0.  0.  1.  0.  0.  0.  0.\n",
      "  0.  0.  0.  0.  0.  0.  0.  0.  1.  0.  0.  0.  0.  0.  0.  0.  0. -1.\n",
      "  0.  0.  0.  0.  0.  0.  0.  0.  1. -3.  0.  0.  0.  0.  0.  0.  0.  0.\n",
      "  0.  0.  0.  0.  0. -1.  0.  0.  0. -1.  0.  0.  2.  0.  0. -1.  0.  0.\n",
      "  0.  0.  0. -2.  0.  0.  0. -2.]\n"
     ]
    }
   ],
   "source": [
    "signal=TradeSig(prcLevel)\n",
    "print(signal)"
   ]
  },
  {
   "cell_type": "code",
   "execution_count": null,
   "metadata": {
    "id": "TB37l4RkMF-u"
   },
   "outputs": [],
   "source": [
    "position=[signal[0]]\n",
    "ns=len(signal)"
   ]
  },
  {
   "cell_type": "code",
   "execution_count": null,
   "metadata": {
    "id": "jg-rt6FzMF-u",
    "outputId": "08558cad-0395-4368-c336-c33916992c30"
   },
   "outputs": [
    {
     "data": {
      "text/plain": [
       "116"
      ]
     },
     "execution_count": 55,
     "metadata": {
      "tags": []
     },
     "output_type": "execute_result"
    }
   ],
   "source": [
    "ns"
   ]
  },
  {
   "cell_type": "code",
   "execution_count": null,
   "metadata": {
    "id": "1IGYX2ThMF-v"
   },
   "outputs": [],
   "source": [
    "for i in range(1,ns):\n",
    "    position.append(position[-1])\n",
    "    if signal[i]==1:\n",
    "        position[i]=1\n",
    "    elif signal[i]==-2:\n",
    "        position[i]=-1\n",
    "    elif signal[i]==-1 and position[i-1]==1:\n",
    "        position[i]=0\n",
    "    elif signal[i]==2 and position[i-1]==-1:\n",
    "        position[i]=0\n",
    "    elif signal[i]==3:\n",
    "        position[i]=0\n",
    "    elif signal[i]==-3:\n",
    "        position[i]=0"
   ]
  },
  {
   "cell_type": "code",
   "execution_count": null,
   "metadata": {
    "id": "WBGCNx1pMF-v",
    "outputId": "7e4afdd8-215a-4eb0-93db-28a0e321053a"
   },
   "outputs": [
    {
     "data": {
      "text/plain": [
       "Date\n",
       "2015-06-24   -1.0\n",
       "2015-06-25   -1.0\n",
       "2015-06-26   -1.0\n",
       "2015-06-29   -1.0\n",
       "2015-06-30   -1.0\n",
       "dtype: float64"
      ]
     },
     "execution_count": 57,
     "metadata": {
      "tags": []
     },
     "output_type": "execute_result"
    }
   ],
   "source": [
    "position=pd.Series(position,index=CoSpreadT.index)\n",
    "\n",
    "position.tail() \n"
   ]
  },
  {
   "cell_type": "code",
   "execution_count": null,
   "metadata": {
    "id": "i5wEVroqMF-v"
   },
   "outputs": [],
   "source": [
    "def TradeSim(priceX,priceY,position):\n",
    "    n=len(position)\n",
    "    shareY=10000*position\n",
    "    shareX=[(-beta)*shareY[0]*priceY[0]/priceX[0]]\n",
    "    cash=[10000]\n",
    "    for i in range(1,n):\n",
    "        shareX.append(shareX[i-1])\n",
    "        cash.append(cash[i-1])\n",
    "        if position[i-1]==0 and position[i]==1:\n",
    "            shareX[i]=(-beta)*shareY[i]*priceY[i]/priceX[i]\n",
    "            cash[i]=cash[i-1]-(shareY[i]*priceY[i]+shareX[i]*priceX[i])\n",
    "        elif position[i-1]==0 and position[i]==-1:\n",
    "            shareX[i]=(-beta)*shareY[i]*priceY[i]/priceX[i]\n",
    "            cash[i]=cash[i-1]-(shareY[i]*priceY[i]+shareX[i]*priceX[i])\n",
    "        elif position[i-1]==1 and position[i]==0:\n",
    "            shareX[i]=0\n",
    "            cash[i]=cash[i-1]+(shareY[i-1]*priceY[i]+shareX[i-1]*priceX[i])\n",
    "        elif position[i-1]==-1 and position[i]==0:\n",
    "            shareX[i]=0\n",
    "            cash[i]=cash[i-1]+(shareY[i-1]*priceY[i]+shareX[i-1]*priceX[i])\n",
    "    cash = pd.Series(cash,index=position.index)\n",
    "    shareY=pd.Series(shareY,index=position.index)\n",
    "    shareX=pd.Series(shareX,index=position.index)\n",
    "    asset=cash+shareY*priceY+shareX*priceX\n",
    "    account=pd.DataFrame({'Position':position,'ShareY':shareY,'ShareX':shareX,'Cash':cash,'Asset':asset})\n",
    "    return(account)\n"
   ]
  },
  {
   "cell_type": "code",
   "execution_count": null,
   "metadata": {
    "id": "M2fm1G0eMF-v",
    "outputId": "6e30bbc9-b8f0-4293-c41b-391ae3b9e36c"
   },
   "outputs": [
    {
     "name": "stderr",
     "output_type": "stream",
     "text": [
      "/usr/local/lib/python3.6/dist-packages/ipykernel_launcher.py:3: DeprecationWarning: \n",
      ".ix is deprecated. Please use\n",
      ".loc for label based indexing or\n",
      ".iloc for positional indexing\n",
      "\n",
      "See the documentation here:\n",
      "http://pandas.pydata.org/pandas-docs/stable/indexing.html#ix-indexer-is-deprecated\n",
      "  This is separate from the ipykernel package so we can avoid doing imports until\n"
     ]
    },
    {
     "data": {
      "text/plain": [
       "17885.817676597406"
      ]
     },
     "execution_count": 59,
     "metadata": {
      "tags": []
     },
     "output_type": "execute_result"
    }
   ],
   "source": [
    "account1=TradeSim(Hitront,KYEt,position)\n",
    "account1.tail() \n",
    "account1.ix[-1,'Asset']"
   ]
  },
  {
   "cell_type": "code",
   "execution_count": null,
   "metadata": {
    "id": "BeRi-d2-MF-w",
    "outputId": "6c6c1026-5e52-4cb6-81ba-0e7f439c89e3"
   },
   "outputs": [
    {
     "data": {
      "text/plain": [
       "Text(0, 0.5, 'asset')"
      ]
     },
     "execution_count": 60,
     "metadata": {
      "tags": []
     },
     "output_type": "execute_result"
    },
    {
     "data": {
      "image/png": "[encoded data removed]",
      "text/plain": [
       "<Figure size 432x288 with 1 Axes>"
      ]
     },
     "metadata": {
      "needs_background": "light",
      "tags": []
     },
     "output_type": "display_data"
    }
   ],
   "source": [
    "plt.subplot(211)\n",
    "plt.plot(account1.Asset,label='asset')\n",
    "plt.title('配對交易賬戶') \n",
    "plt.legend()\n",
    "plt.ylabel('asset')"
   ]
  },
  {
   "cell_type": "code",
   "execution_count": null,
   "metadata": {
    "id": "Bsw9bgM4MF-w",
    "outputId": "12e95b3d-7af1-4e59-efb8-94dc688562c5"
   },
   "outputs": [
    {
     "data": {
      "image/png": "[encoded data removed]",
      "text/plain": [
       "<Figure size 432x288 with 1 Axes>"
      ]
     },
     "metadata": {
      "needs_background": "light",
      "tags": []
     },
     "output_type": "display_data"
    }
   ],
   "source": [
    "plt.subplot(212)\n",
    "plt.plot(account1.ShareX,label='仲琦科技')\n",
    "plt.plot(account1.ShareY,':',label='昆盈')\n",
    "plt.ylabel('share')\n",
    "plt.title('配對交易倉位情況')\n",
    "plt.legend()\n",
    "plt.show()"
   ]
  },
  {
   "cell_type": "code",
   "execution_count": null,
   "metadata": {
    "id": "tNj0HOnbMF-w"
   },
   "outputs": [],
   "source": []
  }
 ],
 "metadata": {
  "colab": {
   "name": "Ch27.ipynb",
   "provenance": []
  },
  "kernelspec": {
   "display_name": "Python 3",
   "language": "python",
   "name": "python3"
  },
  "language_info": {
   "codemirror_mode": {
    "name": "ipython",
    "version": 3
   },
   "file_extension": ".py",
   "mimetype": "text/x-python",
   "name": "python",
   "nbconvert_exporter": "python",
   "pygments_lexer": "ipython3",
   "version": "3.7.9"
  }
 },
 "nbformat": 4,
 "nbformat_minor": 1
}
