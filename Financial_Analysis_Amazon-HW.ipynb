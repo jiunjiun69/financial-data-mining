{
 "cells": [
  {
   "cell_type": "code",
   "execution_count": 1,
   "metadata": {
    "tags": []
   },
   "outputs": [],
   "source": [
    "import pandas as pd\n",
    "import requests\n",
    "import yfinance as yf\n",
    "import datetime \n",
    "import warnings\n",
    "warnings.filterwarnings(\"ignore\")"
   ]
  },
  {
   "cell_type": "code",
   "execution_count": 2,
   "metadata": {},
   "outputs": [
    {
     "name": "stdout",
     "output_type": "stream",
     "text": [
      "[*********************100%***********************]  1 of 1 completed\n",
      "                  Open        High         Low       Close   Adj Close  \\\n",
      "Date                                                                     \n",
      "2018-12-31   67.557999   67.842003   65.052002   66.559998   66.559998   \n",
      "2019-01-02   61.220001   63.026001   59.759998   62.023998   62.023998   \n",
      "2019-01-03   61.400002   61.880001   59.476002   60.071999   60.071999   \n",
      "2019-01-04   61.200001   63.599998   60.546001   63.537998   63.537998   \n",
      "2019-01-07   64.344002   67.348000   63.549999   66.991997   66.991997   \n",
      "...                ...         ...         ...         ...         ...   \n",
      "2021-03-25  613.000000  645.500000  609.500000  640.390015  640.390015   \n",
      "2021-03-26  641.869995  643.820007  599.890015  618.710022  618.710022   \n",
      "2021-03-29  615.640015  616.479980  596.020020  611.289978  611.289978   \n",
      "2021-03-30  601.750000  637.659973  591.010010  635.619995  635.619995   \n",
      "2021-03-31  646.619995  672.000000  641.109985  667.929993  667.929993   \n",
      "\n",
      "              Volume  \n",
      "Date                  \n",
      "2018-12-31  31511500  \n",
      "2019-01-02  58293000  \n",
      "2019-01-03  34826000  \n",
      "2019-01-04  36970500  \n",
      "2019-01-07  37756000  \n",
      "...              ...  \n",
      "2021-03-25  39224900  \n",
      "2021-03-26  33778400  \n",
      "2021-03-29  28637000  \n",
      "2021-03-30  39432400  \n",
      "2021-03-31  33337300  \n",
      "\n",
      "[567 rows x 6 columns]\n"
     ]
    }
   ],
   "source": [
    "df = yf.download(\"TSLA\", start=\"2019-01-01\", end=\"2021-04-01\",group_by=\"ticker\") \n",
    "print(df)"
   ]
  },
  {
   "cell_type": "code",
   "execution_count": 3,
   "metadata": {
    "jupyter": {
     "source_hidden": true
    },
    "tags": []
   },
   "outputs": [],
   "source": [
    "TSLA=df"
   ]
  },
  {
   "cell_type": "code",
   "execution_count": 4,
   "metadata": {},
   "outputs": [],
   "source": [
    "TSLA=df"
   ]
  },
  {
   "cell_type": "code",
   "execution_count": 5,
   "metadata": {
    "tags": []
   },
   "outputs": [
    {
     "data": {
      "text/html": [
       "<div>\n",
       "<style scoped>\n",
       "    .dataframe tbody tr th:only-of-type {\n",
       "        vertical-align: middle;\n",
       "    }\n",
       "\n",
       "    .dataframe tbody tr th {\n",
       "        vertical-align: top;\n",
       "    }\n",
       "\n",
       "    .dataframe thead th {\n",
       "        text-align: right;\n",
       "    }\n",
       "</style>\n",
       "<table border=\"1\" class=\"dataframe\">\n",
       "  <thead>\n",
       "    <tr style=\"text-align: right;\">\n",
       "      <th></th>\n",
       "      <th>Open</th>\n",
       "      <th>High</th>\n",
       "      <th>Low</th>\n",
       "      <th>Close</th>\n",
       "      <th>Adj Close</th>\n",
       "      <th>Volume</th>\n",
       "    </tr>\n",
       "  </thead>\n",
       "  <tbody>\n",
       "    <tr>\n",
       "      <th>count</th>\n",
       "      <td>567.000000</td>\n",
       "      <td>567.000000</td>\n",
       "      <td>567.000000</td>\n",
       "      <td>567.000000</td>\n",
       "      <td>567.000000</td>\n",
       "      <td>5.670000e+02</td>\n",
       "    </tr>\n",
       "    <tr>\n",
       "      <th>mean</th>\n",
       "      <td>234.624124</td>\n",
       "      <td>240.477831</td>\n",
       "      <td>228.092825</td>\n",
       "      <td>234.860811</td>\n",
       "      <td>234.860811</td>\n",
       "      <td>5.783942e+07</td>\n",
       "    </tr>\n",
       "    <tr>\n",
       "      <th>std</th>\n",
       "      <td>241.668773</td>\n",
       "      <td>247.233076</td>\n",
       "      <td>234.865670</td>\n",
       "      <td>241.777390</td>\n",
       "      <td>241.777390</td>\n",
       "      <td>3.534962e+07</td>\n",
       "    </tr>\n",
       "    <tr>\n",
       "      <th>min</th>\n",
       "      <td>36.220001</td>\n",
       "      <td>37.335999</td>\n",
       "      <td>35.397999</td>\n",
       "      <td>35.793999</td>\n",
       "      <td>35.793999</td>\n",
       "      <td>1.232800e+07</td>\n",
       "    </tr>\n",
       "    <tr>\n",
       "      <th>25%</th>\n",
       "      <td>54.288000</td>\n",
       "      <td>55.000000</td>\n",
       "      <td>53.548000</td>\n",
       "      <td>54.646000</td>\n",
       "      <td>54.646000</td>\n",
       "      <td>3.319890e+07</td>\n",
       "    </tr>\n",
       "    <tr>\n",
       "      <th>50%</th>\n",
       "      <td>109.477997</td>\n",
       "      <td>112.888000</td>\n",
       "      <td>106.468002</td>\n",
       "      <td>109.440002</td>\n",
       "      <td>109.440002</td>\n",
       "      <td>4.732300e+07</td>\n",
       "    </tr>\n",
       "    <tr>\n",
       "      <th>75%</th>\n",
       "      <td>406.029999</td>\n",
       "      <td>412.490005</td>\n",
       "      <td>391.799988</td>\n",
       "      <td>406.509995</td>\n",
       "      <td>406.509995</td>\n",
       "      <td>7.384550e+07</td>\n",
       "    </tr>\n",
       "    <tr>\n",
       "      <th>max</th>\n",
       "      <td>891.380005</td>\n",
       "      <td>900.400024</td>\n",
       "      <td>871.599976</td>\n",
       "      <td>883.090027</td>\n",
       "      <td>883.090027</td>\n",
       "      <td>3.046940e+08</td>\n",
       "    </tr>\n",
       "  </tbody>\n",
       "</table>\n",
       "</div>"
      ],
      "text/plain": [
       "             Open        High         Low       Close   Adj Close  \\\n",
       "count  567.000000  567.000000  567.000000  567.000000  567.000000   \n",
       "mean   234.624124  240.477831  228.092825  234.860811  234.860811   \n",
       "std    241.668773  247.233076  234.865670  241.777390  241.777390   \n",
       "min     36.220001   37.335999   35.397999   35.793999   35.793999   \n",
       "25%     54.288000   55.000000   53.548000   54.646000   54.646000   \n",
       "50%    109.477997  112.888000  106.468002  109.440002  109.440002   \n",
       "75%    406.029999  412.490005  391.799988  406.509995  406.509995   \n",
       "max    891.380005  900.400024  871.599976  883.090027  883.090027   \n",
       "\n",
       "             Volume  \n",
       "count  5.670000e+02  \n",
       "mean   5.783942e+07  \n",
       "std    3.534962e+07  \n",
       "min    1.232800e+07  \n",
       "25%    3.319890e+07  \n",
       "50%    4.732300e+07  \n",
       "75%    7.384550e+07  \n",
       "max    3.046940e+08  "
      ]
     },
     "execution_count": 5,
     "metadata": {},
     "output_type": "execute_result"
    }
   ],
   "source": [
    "TSLA.describe()"
   ]
  },
  {
   "cell_type": "code",
   "execution_count": 6,
   "metadata": {},
   "outputs": [
    {
     "data": {
      "text/plain": [
       "Date\n",
       "2018-12-31     62.023998\n",
       "2019-01-02     60.071999\n",
       "2019-01-03     63.537998\n",
       "2019-01-04     66.991997\n",
       "2019-01-07     67.070000\n",
       "                 ...    \n",
       "2021-03-25    618.710022\n",
       "2021-03-26    611.289978\n",
       "2021-03-29    635.619995\n",
       "2021-03-30    667.929993\n",
       "2021-03-31           NaN\n",
       "Name: Close, Length: 567, dtype: float64"
      ]
     },
     "execution_count": 6,
     "metadata": {},
     "output_type": "execute_result"
    }
   ],
   "source": [
    "TSLA['Close'].shift(-1)"
   ]
  },
  {
   "cell_type": "code",
   "execution_count": 7,
   "metadata": {},
   "outputs": [],
   "source": [
    "# TSLA['price1']=TSLA['Close'].shift(-1)\n",
    "TSLA['Close1']=TSLA['Close'].shift(-1)"
   ]
  },
  {
   "cell_type": "code",
   "execution_count": 8,
   "metadata": {},
   "outputs": [
    {
     "data": {
      "text/html": [
       "<div>\n",
       "<style scoped>\n",
       "    .dataframe tbody tr th:only-of-type {\n",
       "        vertical-align: middle;\n",
       "    }\n",
       "\n",
       "    .dataframe tbody tr th {\n",
       "        vertical-align: top;\n",
       "    }\n",
       "\n",
       "    .dataframe thead th {\n",
       "        text-align: right;\n",
       "    }\n",
       "</style>\n",
       "<table border=\"1\" class=\"dataframe\">\n",
       "  <thead>\n",
       "    <tr style=\"text-align: right;\">\n",
       "      <th></th>\n",
       "      <th>Open</th>\n",
       "      <th>High</th>\n",
       "      <th>Low</th>\n",
       "      <th>Close</th>\n",
       "      <th>Adj Close</th>\n",
       "      <th>Volume</th>\n",
       "      <th>Close1</th>\n",
       "    </tr>\n",
       "    <tr>\n",
       "      <th>Date</th>\n",
       "      <th></th>\n",
       "      <th></th>\n",
       "      <th></th>\n",
       "      <th></th>\n",
       "      <th></th>\n",
       "      <th></th>\n",
       "      <th></th>\n",
       "    </tr>\n",
       "  </thead>\n",
       "  <tbody>\n",
       "    <tr>\n",
       "      <th>2018-12-31</th>\n",
       "      <td>67.557999</td>\n",
       "      <td>67.842003</td>\n",
       "      <td>65.052002</td>\n",
       "      <td>66.559998</td>\n",
       "      <td>66.559998</td>\n",
       "      <td>31511500</td>\n",
       "      <td>62.023998</td>\n",
       "    </tr>\n",
       "    <tr>\n",
       "      <th>2019-01-02</th>\n",
       "      <td>61.220001</td>\n",
       "      <td>63.026001</td>\n",
       "      <td>59.759998</td>\n",
       "      <td>62.023998</td>\n",
       "      <td>62.023998</td>\n",
       "      <td>58293000</td>\n",
       "      <td>60.071999</td>\n",
       "    </tr>\n",
       "    <tr>\n",
       "      <th>2019-01-03</th>\n",
       "      <td>61.400002</td>\n",
       "      <td>61.880001</td>\n",
       "      <td>59.476002</td>\n",
       "      <td>60.071999</td>\n",
       "      <td>60.071999</td>\n",
       "      <td>34826000</td>\n",
       "      <td>63.537998</td>\n",
       "    </tr>\n",
       "    <tr>\n",
       "      <th>2019-01-04</th>\n",
       "      <td>61.200001</td>\n",
       "      <td>63.599998</td>\n",
       "      <td>60.546001</td>\n",
       "      <td>63.537998</td>\n",
       "      <td>63.537998</td>\n",
       "      <td>36970500</td>\n",
       "      <td>66.991997</td>\n",
       "    </tr>\n",
       "    <tr>\n",
       "      <th>2019-01-07</th>\n",
       "      <td>64.344002</td>\n",
       "      <td>67.348000</td>\n",
       "      <td>63.549999</td>\n",
       "      <td>66.991997</td>\n",
       "      <td>66.991997</td>\n",
       "      <td>37756000</td>\n",
       "      <td>67.070000</td>\n",
       "    </tr>\n",
       "    <tr>\n",
       "      <th>...</th>\n",
       "      <td>...</td>\n",
       "      <td>...</td>\n",
       "      <td>...</td>\n",
       "      <td>...</td>\n",
       "      <td>...</td>\n",
       "      <td>...</td>\n",
       "      <td>...</td>\n",
       "    </tr>\n",
       "    <tr>\n",
       "      <th>2021-03-25</th>\n",
       "      <td>613.000000</td>\n",
       "      <td>645.500000</td>\n",
       "      <td>609.500000</td>\n",
       "      <td>640.390015</td>\n",
       "      <td>640.390015</td>\n",
       "      <td>39224900</td>\n",
       "      <td>618.710022</td>\n",
       "    </tr>\n",
       "    <tr>\n",
       "      <th>2021-03-26</th>\n",
       "      <td>641.869995</td>\n",
       "      <td>643.820007</td>\n",
       "      <td>599.890015</td>\n",
       "      <td>618.710022</td>\n",
       "      <td>618.710022</td>\n",
       "      <td>33778400</td>\n",
       "      <td>611.289978</td>\n",
       "    </tr>\n",
       "    <tr>\n",
       "      <th>2021-03-29</th>\n",
       "      <td>615.640015</td>\n",
       "      <td>616.479980</td>\n",
       "      <td>596.020020</td>\n",
       "      <td>611.289978</td>\n",
       "      <td>611.289978</td>\n",
       "      <td>28637000</td>\n",
       "      <td>635.619995</td>\n",
       "    </tr>\n",
       "    <tr>\n",
       "      <th>2021-03-30</th>\n",
       "      <td>601.750000</td>\n",
       "      <td>637.659973</td>\n",
       "      <td>591.010010</td>\n",
       "      <td>635.619995</td>\n",
       "      <td>635.619995</td>\n",
       "      <td>39432400</td>\n",
       "      <td>667.929993</td>\n",
       "    </tr>\n",
       "    <tr>\n",
       "      <th>2021-03-31</th>\n",
       "      <td>646.619995</td>\n",
       "      <td>672.000000</td>\n",
       "      <td>641.109985</td>\n",
       "      <td>667.929993</td>\n",
       "      <td>667.929993</td>\n",
       "      <td>33337300</td>\n",
       "      <td>NaN</td>\n",
       "    </tr>\n",
       "  </tbody>\n",
       "</table>\n",
       "<p>567 rows × 7 columns</p>\n",
       "</div>"
      ],
      "text/plain": [
       "                  Open        High         Low       Close   Adj Close  \\\n",
       "Date                                                                     \n",
       "2018-12-31   67.557999   67.842003   65.052002   66.559998   66.559998   \n",
       "2019-01-02   61.220001   63.026001   59.759998   62.023998   62.023998   \n",
       "2019-01-03   61.400002   61.880001   59.476002   60.071999   60.071999   \n",
       "2019-01-04   61.200001   63.599998   60.546001   63.537998   63.537998   \n",
       "2019-01-07   64.344002   67.348000   63.549999   66.991997   66.991997   \n",
       "...                ...         ...         ...         ...         ...   \n",
       "2021-03-25  613.000000  645.500000  609.500000  640.390015  640.390015   \n",
       "2021-03-26  641.869995  643.820007  599.890015  618.710022  618.710022   \n",
       "2021-03-29  615.640015  616.479980  596.020020  611.289978  611.289978   \n",
       "2021-03-30  601.750000  637.659973  591.010010  635.619995  635.619995   \n",
       "2021-03-31  646.619995  672.000000  641.109985  667.929993  667.929993   \n",
       "\n",
       "              Volume      Close1  \n",
       "Date                              \n",
       "2018-12-31  31511500   62.023998  \n",
       "2019-01-02  58293000   60.071999  \n",
       "2019-01-03  34826000   63.537998  \n",
       "2019-01-04  36970500   66.991997  \n",
       "2019-01-07  37756000   67.070000  \n",
       "...              ...         ...  \n",
       "2021-03-25  39224900  618.710022  \n",
       "2021-03-26  33778400  611.289978  \n",
       "2021-03-29  28637000  635.619995  \n",
       "2021-03-30  39432400  667.929993  \n",
       "2021-03-31  33337300         NaN  \n",
       "\n",
       "[567 rows x 7 columns]"
      ]
     },
     "execution_count": 8,
     "metadata": {},
     "output_type": "execute_result"
    }
   ],
   "source": [
    "TSLA"
   ]
  },
  {
   "cell_type": "code",
   "execution_count": 9,
   "metadata": {
    "tags": []
   },
   "outputs": [],
   "source": [
    "TSLA['priceDiff']=TSLA['Close1']-TSLA['Close']"
   ]
  },
  {
   "cell_type": "code",
   "execution_count": 10,
   "metadata": {},
   "outputs": [],
   "source": [
    "TSLA['return']=TSLA['priceDiff']/TSLA['Close']"
   ]
  },
  {
   "cell_type": "code",
   "execution_count": 11,
   "metadata": {
    "tags": []
   },
   "outputs": [],
   "source": [
    "#List Comprehesion\n",
    "#Selecting data by row numbers (.iloc)\n",
    "#Selecting data by label or by a conditional statment (.loc)\n",
    "TSLA['direction']=[1 if TSLA.loc[ei,'priceDiff']>0 else -1 for ei in TSLA.index]"
   ]
  },
  {
   "cell_type": "code",
   "execution_count": 12,
   "metadata": {},
   "outputs": [],
   "source": [
    "#MovingAverage\n",
    "TSLA['Avg3']=(TSLA['Close']+TSLA['Close'].shift(1)+TSLA['Close'].shift(2))/3"
   ]
  },
  {
   "cell_type": "code",
   "execution_count": 13,
   "metadata": {},
   "outputs": [],
   "source": [
    "#calculate moving average using rolling \n",
    "TSLA['MA40']=TSLA['Close'].rolling(40).mean()"
   ]
  },
  {
   "cell_type": "code",
   "execution_count": 14,
   "metadata": {},
   "outputs": [],
   "source": [
    "TSLA['MA200']=TSLA['Close'].rolling(200).mean()"
   ]
  },
  {
   "cell_type": "code",
   "execution_count": 15,
   "metadata": {},
   "outputs": [],
   "source": [
    "%matplotlib inline"
   ]
  },
  {
   "cell_type": "code",
   "execution_count": 16,
   "metadata": {},
   "outputs": [
    {
     "data": {
      "text/plain": [
       "<AxesSubplot:xlabel='Date'>"
      ]
     },
     "execution_count": 16,
     "metadata": {},
     "output_type": "execute_result"
    },
    {
     "data": {
      "image/png": "[encoded data removed]",
      "text/plain": [
       "<Figure size 432x288 with 1 Axes>"
      ]
     },
     "metadata": {
      "needs_background": "light"
     },
     "output_type": "display_data"
    }
   ],
   "source": [
    "TSLA['Close'].plot(legend=True)\n",
    "TSLA['MA40'].plot(legend=True)\n",
    "TSLA['MA200'].plot(legend=True)\n",
    "##\n",
    "#If MA40 is above MA200, some traders who we call trend-following traders,\n",
    "#they believe the stock price will move upwards for a while."
   ]
  },
  {
   "cell_type": "code",
   "execution_count": 17,
   "metadata": {},
   "outputs": [
    {
     "data": {
      "text/plain": [
       "Date\n",
       "2018-12-31    0\n",
       "2019-01-02    0\n",
       "2019-01-03    0\n",
       "2019-01-04    0\n",
       "2019-01-07    0\n",
       "             ..\n",
       "2021-03-25    1\n",
       "2021-03-26    1\n",
       "2021-03-29    1\n",
       "2021-03-30    1\n",
       "2021-03-31    1\n",
       "Name: Shares, Length: 567, dtype: int64"
      ]
     },
     "execution_count": 17,
     "metadata": {},
     "output_type": "execute_result"
    }
   ],
   "source": [
    "TSLA['Shares'] = [1 if TSLA.loc[ei,'MA40']>TSLA.loc[ei,'MA200'] else 0\n",
    "                  for ei in TSLA.index]\n",
    "TSLA['Shares']"
   ]
  },
  {
   "cell_type": "code",
   "execution_count": 18,
   "metadata": {},
   "outputs": [
    {
     "data": {
      "text/plain": [
       "<matplotlib.lines.Line2D at 0x25d4eaa58c8>"
      ]
     },
     "execution_count": 18,
     "metadata": {},
     "output_type": "execute_result"
    },
    {
     "data": {
      "image/png": "[encoded data removed]",
      "text/plain": [
       "<Figure size 432x288 with 1 Axes>"
      ]
     },
     "metadata": {
      "needs_background": "light"
     },
     "output_type": "display_data"
    }
   ],
   "source": [
    "import matplotlib.pyplot as plt\n",
    "\n",
    "TSLA['Profit'] = [TSLA.loc[ei,'Close1'] - TSLA.loc[ei,'Close']\n",
    "                    if TSLA.loc[ei,'Shares']==1\n",
    "                    else 0 for ei in TSLA.index]\n",
    "TSLA['Profit'].plot()\n",
    "plt.axhline(y=0,color='red')"
   ]
  },
  {
   "cell_type": "code",
   "execution_count": 19,
   "metadata": {},
   "outputs": [
    {
     "data": {
      "text/html": [
       "<div>\n",
       "<style scoped>\n",
       "    .dataframe tbody tr th:only-of-type {\n",
       "        vertical-align: middle;\n",
       "    }\n",
       "\n",
       "    .dataframe tbody tr th {\n",
       "        vertical-align: top;\n",
       "    }\n",
       "\n",
       "    .dataframe thead th {\n",
       "        text-align: right;\n",
       "    }\n",
       "</style>\n",
       "<table border=\"1\" class=\"dataframe\">\n",
       "  <thead>\n",
       "    <tr style=\"text-align: right;\">\n",
       "      <th></th>\n",
       "      <th>Open</th>\n",
       "      <th>High</th>\n",
       "      <th>Low</th>\n",
       "      <th>Close</th>\n",
       "      <th>Adj Close</th>\n",
       "      <th>Volume</th>\n",
       "      <th>Close1</th>\n",
       "      <th>priceDiff</th>\n",
       "      <th>return</th>\n",
       "      <th>direction</th>\n",
       "      <th>Avg3</th>\n",
       "      <th>MA40</th>\n",
       "      <th>MA200</th>\n",
       "      <th>Shares</th>\n",
       "      <th>Profit</th>\n",
       "      <th>wealth</th>\n",
       "    </tr>\n",
       "    <tr>\n",
       "      <th>Date</th>\n",
       "      <th></th>\n",
       "      <th></th>\n",
       "      <th></th>\n",
       "      <th></th>\n",
       "      <th></th>\n",
       "      <th></th>\n",
       "      <th></th>\n",
       "      <th></th>\n",
       "      <th></th>\n",
       "      <th></th>\n",
       "      <th></th>\n",
       "      <th></th>\n",
       "      <th></th>\n",
       "      <th></th>\n",
       "      <th></th>\n",
       "      <th></th>\n",
       "    </tr>\n",
       "  </thead>\n",
       "  <tbody>\n",
       "    <tr>\n",
       "      <th>2021-03-25</th>\n",
       "      <td>613.000000</td>\n",
       "      <td>645.500000</td>\n",
       "      <td>609.500000</td>\n",
       "      <td>640.390015</td>\n",
       "      <td>640.390015</td>\n",
       "      <td>39224900</td>\n",
       "      <td>618.710022</td>\n",
       "      <td>-21.679993</td>\n",
       "      <td>-0.033854</td>\n",
       "      <td>-1</td>\n",
       "      <td>644.273336</td>\n",
       "      <td>732.324748</td>\n",
       "      <td>509.119349</td>\n",
       "      <td>1</td>\n",
       "      <td>-21.679993</td>\n",
       "      <td>555.726021</td>\n",
       "    </tr>\n",
       "    <tr>\n",
       "      <th>2021-03-26</th>\n",
       "      <td>641.869995</td>\n",
       "      <td>643.820007</td>\n",
       "      <td>599.890015</td>\n",
       "      <td>618.710022</td>\n",
       "      <td>618.710022</td>\n",
       "      <td>33778400</td>\n",
       "      <td>611.289978</td>\n",
       "      <td>-7.420044</td>\n",
       "      <td>-0.011993</td>\n",
       "      <td>-1</td>\n",
       "      <td>629.790019</td>\n",
       "      <td>726.906749</td>\n",
       "      <td>511.187849</td>\n",
       "      <td>1</td>\n",
       "      <td>-7.420044</td>\n",
       "      <td>548.305977</td>\n",
       "    </tr>\n",
       "    <tr>\n",
       "      <th>2021-03-29</th>\n",
       "      <td>615.640015</td>\n",
       "      <td>616.479980</td>\n",
       "      <td>596.020020</td>\n",
       "      <td>611.289978</td>\n",
       "      <td>611.289978</td>\n",
       "      <td>28637000</td>\n",
       "      <td>635.619995</td>\n",
       "      <td>24.330017</td>\n",
       "      <td>0.039801</td>\n",
       "      <td>1</td>\n",
       "      <td>623.463338</td>\n",
       "      <td>722.350748</td>\n",
       "      <td>513.271459</td>\n",
       "      <td>1</td>\n",
       "      <td>24.330017</td>\n",
       "      <td>572.635994</td>\n",
       "    </tr>\n",
       "    <tr>\n",
       "      <th>2021-03-30</th>\n",
       "      <td>601.750000</td>\n",
       "      <td>637.659973</td>\n",
       "      <td>591.010010</td>\n",
       "      <td>635.619995</td>\n",
       "      <td>635.619995</td>\n",
       "      <td>39432400</td>\n",
       "      <td>667.929993</td>\n",
       "      <td>32.309998</td>\n",
       "      <td>0.050832</td>\n",
       "      <td>1</td>\n",
       "      <td>621.873332</td>\n",
       "      <td>717.245998</td>\n",
       "      <td>515.514279</td>\n",
       "      <td>1</td>\n",
       "      <td>32.309998</td>\n",
       "      <td>604.945992</td>\n",
       "    </tr>\n",
       "    <tr>\n",
       "      <th>2021-03-31</th>\n",
       "      <td>646.619995</td>\n",
       "      <td>672.000000</td>\n",
       "      <td>641.109985</td>\n",
       "      <td>667.929993</td>\n",
       "      <td>667.929993</td>\n",
       "      <td>33337300</td>\n",
       "      <td>NaN</td>\n",
       "      <td>NaN</td>\n",
       "      <td>NaN</td>\n",
       "      <td>-1</td>\n",
       "      <td>638.279989</td>\n",
       "      <td>712.124498</td>\n",
       "      <td>517.863029</td>\n",
       "      <td>1</td>\n",
       "      <td>NaN</td>\n",
       "      <td>NaN</td>\n",
       "    </tr>\n",
       "  </tbody>\n",
       "</table>\n",
       "</div>"
      ],
      "text/plain": [
       "                  Open        High         Low       Close   Adj Close  \\\n",
       "Date                                                                     \n",
       "2021-03-25  613.000000  645.500000  609.500000  640.390015  640.390015   \n",
       "2021-03-26  641.869995  643.820007  599.890015  618.710022  618.710022   \n",
       "2021-03-29  615.640015  616.479980  596.020020  611.289978  611.289978   \n",
       "2021-03-30  601.750000  637.659973  591.010010  635.619995  635.619995   \n",
       "2021-03-31  646.619995  672.000000  641.109985  667.929993  667.929993   \n",
       "\n",
       "              Volume      Close1  priceDiff    return  direction        Avg3  \\\n",
       "Date                                                                           \n",
       "2021-03-25  39224900  618.710022 -21.679993 -0.033854         -1  644.273336   \n",
       "2021-03-26  33778400  611.289978  -7.420044 -0.011993         -1  629.790019   \n",
       "2021-03-29  28637000  635.619995  24.330017  0.039801          1  623.463338   \n",
       "2021-03-30  39432400  667.929993  32.309998  0.050832          1  621.873332   \n",
       "2021-03-31  33337300         NaN        NaN       NaN         -1  638.279989   \n",
       "\n",
       "                  MA40       MA200  Shares     Profit      wealth  \n",
       "Date                                                               \n",
       "2021-03-25  732.324748  509.119349       1 -21.679993  555.726021  \n",
       "2021-03-26  726.906749  511.187849       1  -7.420044  548.305977  \n",
       "2021-03-29  722.350748  513.271459       1  24.330017  572.635994  \n",
       "2021-03-30  717.245998  515.514279       1  32.309998  604.945992  \n",
       "2021-03-31  712.124498  517.863029       1        NaN         NaN  "
      ]
     },
     "execution_count": 19,
     "metadata": {},
     "output_type": "execute_result"
    }
   ],
   "source": [
    "TSLA['wealth'] = TSLA['Profit'].cumsum()\n",
    "TSLA.tail()"
   ]
  },
  {
   "cell_type": "code",
   "execution_count": 20,
   "metadata": {},
   "outputs": [
    {
     "name": "stdout",
     "output_type": "stream",
     "text": [
      "Total money you win is  604.9459915161133\n",
      "Total money you spent is  66.55999755859375\n"
     ]
    }
   ],
   "source": [
    "print(\"Total money you win is \", TSLA.loc[TSLA.index[-2],'wealth'])\n",
    "print(\"Total money you spent is \", TSLA.loc[TSLA.index[0],'Close'])"
   ]
  },
  {
   "cell_type": "code",
   "execution_count": null,
   "metadata": {},
   "outputs": [],
   "source": []
  },
  {
   "cell_type": "code",
   "execution_count": 21,
   "metadata": {},
   "outputs": [
    {
     "data": {
      "text/plain": [
       "<AxesSubplot:>"
      ]
     },
     "execution_count": 21,
     "metadata": {},
     "output_type": "execute_result"
    },
    {
     "data": {
      "image/png": "[encoded data removed]",
      "text/plain": [
       "<Figure size 432x288 with 1 Axes>"
      ]
     },
     "metadata": {
      "needs_background": "light"
     },
     "output_type": "display_data"
    }
   ],
   "source": [
    "import numpy as np\n",
    "TSLA['LogReturn'] = np.log(TSLA['Close']).shift(-1) - np.log(TSLA['Close'])\n",
    "TSLA['LogReturn'].hist(bins=50)"
   ]
  },
  {
   "cell_type": "code",
   "execution_count": 22,
   "metadata": {},
   "outputs": [
    {
     "name": "stdout",
     "output_type": "stream",
     "text": [
      "0.004074345595102235 0.04570061425334092\n"
     ]
    }
   ],
   "source": [
    "mu = TSLA['LogReturn'].mean()\n",
    "sigma = TSLA['LogReturn'].std(ddof=1)\n",
    "print(mu, sigma)"
   ]
  },
  {
   "cell_type": "code",
   "execution_count": 23,
   "metadata": {},
   "outputs": [
    {
     "name": "stdout",
     "output_type": "stream",
     "text": [
      "0.8963560309224917 0.6778496525699388\n",
      "The probability of dropping over 20% in 220 days is  0.027909017189078386\n"
     ]
    }
   ],
   "source": [
    "from scipy.stats import norm\n",
    "\n",
    "mu220 = 220*mu\n",
    "sigma220 = 220**0.5*sigma\n",
    "print(mu220, sigma220)\n",
    "\n",
    "print('The probability of dropping over 20% in 220 days is ',\n",
    "     norm.cdf(-0.4, mu220,sigma220))"
   ]
  },
  {
   "cell_type": "code",
   "execution_count": null,
   "metadata": {},
   "outputs": [],
   "source": []
  },
  {
   "cell_type": "code",
   "execution_count": 24,
   "metadata": {},
   "outputs": [],
   "source": [
    "z_left = norm.ppf(0.1)\n",
    "z_right = norm.ppf(0.9)\n",
    "sample_mean = TSLA['LogReturn'].mean()\n",
    "sample_std = TSLA['LogReturn'].std(ddof=1)/(TSLA.shape[0])**0.5"
   ]
  },
  {
   "cell_type": "code",
   "execution_count": 25,
   "metadata": {},
   "outputs": [
    {
     "name": "stdout",
     "output_type": "stream",
     "text": [
      "Sample Mean is  0.004074345595102235\n",
      "*****************************************\n",
      "80% confidence interval is \n",
      "0.001614733650565282 0.0065339575396391875\n"
     ]
    }
   ],
   "source": [
    "interval_left = sample_mean+z_left*sample_std\n",
    "interval_right = sample_mean+z_right*sample_std\n",
    "print(\"Sample Mean is \", sample_mean)\n",
    "print(\"*****************************************\")\n",
    "print(\"80% confidence interval is \")\n",
    "print(interval_left, interval_right)"
   ]
  },
  {
   "cell_type": "code",
   "execution_count": 26,
   "metadata": {},
   "outputs": [
    {
     "name": "stdout",
     "output_type": "stream",
     "text": [
      "50.54973527525584\n"
     ]
    }
   ],
   "source": [
    "n = TSLA['LogReturn'].shape[0]\n",
    "zhat = (sample_mean - 0)/(sample_std/n**0.5)\n",
    "print(zhat)"
   ]
  },
  {
   "cell_type": "code",
   "execution_count": 27,
   "metadata": {},
   "outputs": [
    {
     "name": "stdout",
     "output_type": "stream",
     "text": [
      "-1.9599639845400545 1.9599639845400545\n",
      "At the significance level of  0.05\n",
      "Shall we reject?: True\n"
     ]
    }
   ],
   "source": [
    "alpha = 0.05\n",
    "zleft = norm.ppf(alpha/2, 0, 1)\n",
    "zright = -zleft\n",
    "print(zleft, zright)\n",
    "print('At the significance level of ', alpha)\n",
    "print('Shall we reject?:', zhat>zright or zhat<zleft)"
   ]
  }
 ],
 "metadata": {
  "kernelspec": {
   "display_name": "Python 3",
   "language": "python",
   "name": "python3"
  },
  "language_info": {
   "codemirror_mode": {
    "name": "ipython",
    "version": 3
   },
   "file_extension": ".py",
   "mimetype": "text/x-python",
   "name": "python",
   "nbconvert_exporter": "python",
   "pygments_lexer": "ipython3",
   "version": "3.7.9"
  }
 },
 "nbformat": 4,
 "nbformat_minor": 4
}
