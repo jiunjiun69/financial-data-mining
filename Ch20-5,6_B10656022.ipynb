{
 "cells": [
  {
   "cell_type": "markdown",
   "metadata": {},
   "source": [
    "# 作業5：算出矩陣P、看法向量Q"
   ]
  },
  {
   "cell_type": "markdown",
   "metadata": {},
   "source": [
    "## 有四資產 A、B、C、D\n",
    "## A為6%\n",
    "## B比D低2%\n",
    "## C比A低3%"
   ]
  },
  {
   "cell_type": "markdown",
   "metadata": {},
   "source": [
    "## 由上可知個資產收益率分別為\n",
    "## A:6%\n",
    "## B:D-2%\n",
    "## C:3%\n",
    "## D:未知\n",
    "- - -\n",
    "## ANS:\n",
    "## 可得出的矩陣P為以下:\n",
    "## A　B　C　D\n",
    "## 1　 0　 0　0\n",
    "## 0　-1　 0　1\n",
    "## 1　 0　-1　0"
   ]
  },
  {
   "cell_type": "markdown",
   "metadata": {},
   "source": [
    "## 看法向量q=[6%,2%,3%]^T"
   ]
  },
  {
   "cell_type": "code",
   "execution_count": null,
   "metadata": {},
   "outputs": [],
   "source": []
  },
  {
   "cell_type": "markdown",
   "metadata": {},
   "source": [
    "# 作業6：Black-Litterman"
   ]
  },
  {
   "cell_type": "code",
   "execution_count": 1,
   "metadata": {},
   "outputs": [],
   "source": [
    "import numpy as np\n",
    "import pandas as pd"
   ]
  },
  {
   "cell_type": "code",
   "execution_count": 2,
   "metadata": {},
   "outputs": [],
   "source": [
    "# 構造投資人個人觀點\n",
    "# 建構資產選取矩陣P\n",
    "pick1 = np.array([1,0,0,0])\n",
    "q1 = np.array([0.06])\n",
    "pick2 = np.array([0,-1,0,1])\n",
    "q2 = np.array([-0.02])\n",
    "pick3 = np.array([1,0,-1,0])\n",
    "q3 = np.array([-0.03])\n",
    "P = np.array([pick1,pick2,pick3])\n",
    "Q = np.array([q1,q2,q3])"
   ]
  },
  {
   "cell_type": "code",
   "execution_count": 3,
   "metadata": {},
   "outputs": [
    {
     "data": {
      "text/plain": [
       "array([[ 1,  0,  0,  0],\n",
       "       [ 0, -1,  0,  1],\n",
       "       [ 1,  0, -1,  0]])"
      ]
     },
     "execution_count": 3,
     "metadata": {},
     "output_type": "execute_result"
    }
   ],
   "source": [
    "P"
   ]
  },
  {
   "cell_type": "code",
   "execution_count": 4,
   "metadata": {},
   "outputs": [
    {
     "data": {
      "text/plain": [
       "array([[ 0.06],\n",
       "       [-0.02],\n",
       "       [-0.03]])"
      ]
     },
     "execution_count": 4,
     "metadata": {},
     "output_type": "execute_result"
    }
   ],
   "source": [
    "Q"
   ]
  },
  {
   "cell_type": "code",
   "execution_count": 5,
   "metadata": {},
   "outputs": [
    {
     "data": {
      "text/plain": [
       "array([[ 0.03,  0.02,  0.03, -0.02]])"
      ]
     },
     "execution_count": 5,
     "metadata": {},
     "output_type": "execute_result"
    }
   ],
   "source": [
    "np.dot(Q.T,P)"
   ]
  },
  {
   "cell_type": "code",
   "execution_count": 6,
   "metadata": {},
   "outputs": [],
   "source": [
    "def blacklitterman(returns,tau, P, Q):\n",
    "\n",
    "    mu=returns.mean()\n",
    "\n",
    "    sigma=returns.cov()\n",
    "\n",
    "    pi1=mu\n",
    "\n",
    "    ts = tau * sigma\n",
    "\n",
    "    Omega = np.dot(np.dot(P,ts),P.T) * np.eye(Q.shape[0])\n",
    "\n",
    "    middle = np.linalg.inv(np.dot(np.dot(P,ts),P.T) + Omega)  \n",
    "\n",
    "    er = np.expand_dims(pi1,axis=0).T + np.dot(np.dot(np.dot(ts,P.T),middle),\n",
    "\n",
    "                      (Q - np.expand_dims(np.dot(P,pi1.T),axis=1)))\n",
    "\n",
    "    posteriorSigma = sigma + ts - np.dot(ts.dot(P.T).dot(middle).dot(P),ts)\n",
    "\n",
    "    return [er, posteriorSigma]"
   ]
  },
  {
   "cell_type": "code",
   "execution_count": 7,
   "metadata": {},
   "outputs": [],
   "source": [
    "Data_1432 = pd.read_csv('002/1432.csv', sep = ',')\n",
    "Data_1432.index = pd.to_datetime(Data_1432.Date)\n",
    "Data_1432.head()\n",
    "DataRet_1432 = Data_1432.ROI\n",
    "DataRet_1432.name = '1432_returns'\n",
    "\n",
    "Data_1504 = pd.read_csv('002/1504.csv', sep = ',')\n",
    "Data_1504.index = pd.to_datetime(Data_1504.Date)\n",
    "Data_1504.head()\n",
    "DataRet_1504 = Data_1504.ROI\n",
    "DataRet_1504.name = '1504_returns'\n",
    "\n",
    "Data_1707 = pd.read_csv('002/1707.csv', sep = ',')\n",
    "Data_1707.index = pd.to_datetime(Data_1707.Date)\n",
    "Data_1707.head()\n",
    "DataRet_1707 = Data_1707.ROI\n",
    "DataRet_1707.name = '1707_returns'\n",
    "\n",
    "Data_2515 = pd.read_csv('002/2515.csv', sep = ',')\n",
    "Data_2515.index = pd.to_datetime(Data_2515.Date)\n",
    "Data_2515.head()\n",
    "DataRet_2515 = Data_2515.ROI\n",
    "DataRet_2515.name = '2515_returns'"
   ]
  },
  {
   "cell_type": "code",
   "execution_count": 8,
   "metadata": {},
   "outputs": [
    {
     "name": "stderr",
     "output_type": "stream",
     "text": [
      "c:\\users\\a9025\\appdata\\local\\programs\\python\\python37\\lib\\site-packages\\ipykernel_launcher.py:3: DeprecationWarning: `np.float` is a deprecated alias for the builtin `float`. To silence this warning, use `float` by itself. Doing this will not modify any behavior and is safe. If you specifically wanted the numpy scalar type, use `np.float64` here.\n",
      "Deprecated in NumPy 1.20; for more details and guidance: https://numpy.org/devdocs/release/1.20.0-notes.html#deprecations\n",
      "  This is separate from the ipykernel package so we can avoid doing imports until\n"
     ]
    },
    {
     "data": {
      "text/html": [
       "<div>\n",
       "<style scoped>\n",
       "    .dataframe tbody tr th:only-of-type {\n",
       "        vertical-align: middle;\n",
       "    }\n",
       "\n",
       "    .dataframe tbody tr th {\n",
       "        vertical-align: top;\n",
       "    }\n",
       "\n",
       "    .dataframe thead th {\n",
       "        text-align: right;\n",
       "    }\n",
       "</style>\n",
       "<table border=\"1\" class=\"dataframe\">\n",
       "  <thead>\n",
       "    <tr style=\"text-align: right;\">\n",
       "      <th></th>\n",
       "      <th>1432_returns</th>\n",
       "      <th>1504_returns</th>\n",
       "      <th>1707_returns</th>\n",
       "      <th>2515_returns</th>\n",
       "    </tr>\n",
       "    <tr>\n",
       "      <th>Date</th>\n",
       "      <th></th>\n",
       "      <th></th>\n",
       "      <th></th>\n",
       "      <th></th>\n",
       "    </tr>\n",
       "  </thead>\n",
       "  <tbody>\n",
       "    <tr>\n",
       "      <th>2014-01-02</th>\n",
       "      <td>0.000000</td>\n",
       "      <td>0.000000</td>\n",
       "      <td>-0.013333</td>\n",
       "      <td>-0.004449</td>\n",
       "    </tr>\n",
       "    <tr>\n",
       "      <th>2014-01-03</th>\n",
       "      <td>-0.008889</td>\n",
       "      <td>-0.008785</td>\n",
       "      <td>-0.010135</td>\n",
       "      <td>-0.005587</td>\n",
       "    </tr>\n",
       "    <tr>\n",
       "      <th>2014-01-06</th>\n",
       "      <td>-0.002242</td>\n",
       "      <td>-0.008863</td>\n",
       "      <td>-0.030717</td>\n",
       "      <td>-0.023596</td>\n",
       "    </tr>\n",
       "    <tr>\n",
       "      <th>2014-01-07</th>\n",
       "      <td>0.002247</td>\n",
       "      <td>-0.013413</td>\n",
       "      <td>-0.003521</td>\n",
       "      <td>0.001151</td>\n",
       "    </tr>\n",
       "    <tr>\n",
       "      <th>2014-01-08</th>\n",
       "      <td>-0.006726</td>\n",
       "      <td>-0.003021</td>\n",
       "      <td>-0.007067</td>\n",
       "      <td>0.005747</td>\n",
       "    </tr>\n",
       "  </tbody>\n",
       "</table>\n",
       "</div>"
      ],
      "text/plain": [
       "            1432_returns  1504_returns  1707_returns  2515_returns\n",
       "Date                                                              \n",
       "2014-01-02      0.000000      0.000000     -0.013333     -0.004449\n",
       "2014-01-03     -0.008889     -0.008785     -0.010135     -0.005587\n",
       "2014-01-06     -0.002242     -0.008863     -0.030717     -0.023596\n",
       "2014-01-07      0.002247     -0.013413     -0.003521      0.001151\n",
       "2014-01-08     -0.006726     -0.003021     -0.007067      0.005747"
      ]
     },
     "execution_count": 8,
     "metadata": {},
     "output_type": "execute_result"
    }
   ],
   "source": [
    "retData = pd.concat([DataRet_1432,DataRet_1504,DataRet_1707,DataRet_2515],axis = 1).dropna()\n",
    "# ROI數據單位是%，所以乘以0.01轉換成實際收益率\n",
    "retData = retData.astype(np.float)*0.01\n",
    "retData.head()"
   ]
  },
  {
   "cell_type": "code",
   "execution_count": 9,
   "metadata": {},
   "outputs": [],
   "source": [
    "# 修正後驗收益\n",
    "res = blacklitterman(retData, 0.1, P, Q)"
   ]
  },
  {
   "cell_type": "code",
   "execution_count": 10,
   "metadata": {},
   "outputs": [],
   "source": [
    "p_mean = pd.DataFrame(res[0],index = retData.columns,\n",
    "                     columns = ['posterior_mean'])"
   ]
  },
  {
   "cell_type": "code",
   "execution_count": 11,
   "metadata": {},
   "outputs": [
    {
     "data": {
      "text/html": [
       "<div>\n",
       "<style scoped>\n",
       "    .dataframe tbody tr th:only-of-type {\n",
       "        vertical-align: middle;\n",
       "    }\n",
       "\n",
       "    .dataframe tbody tr th {\n",
       "        vertical-align: top;\n",
       "    }\n",
       "\n",
       "    .dataframe thead th {\n",
       "        text-align: right;\n",
       "    }\n",
       "</style>\n",
       "<table border=\"1\" class=\"dataframe\">\n",
       "  <thead>\n",
       "    <tr style=\"text-align: right;\">\n",
       "      <th></th>\n",
       "      <th>posterior_mean</th>\n",
       "    </tr>\n",
       "  </thead>\n",
       "  <tbody>\n",
       "    <tr>\n",
       "      <th>1432_returns</th>\n",
       "      <td>0.023684</td>\n",
       "    </tr>\n",
       "    <tr>\n",
       "      <th>1504_returns</th>\n",
       "      <td>0.011473</td>\n",
       "    </tr>\n",
       "    <tr>\n",
       "      <th>1707_returns</th>\n",
       "      <td>0.025674</td>\n",
       "    </tr>\n",
       "    <tr>\n",
       "      <th>2515_returns</th>\n",
       "      <td>0.001316</td>\n",
       "    </tr>\n",
       "  </tbody>\n",
       "</table>\n",
       "</div>"
      ],
      "text/plain": [
       "              posterior_mean\n",
       "1432_returns        0.023684\n",
       "1504_returns        0.011473\n",
       "1707_returns        0.025674\n",
       "2515_returns        0.001316"
      ]
     },
     "execution_count": 11,
     "metadata": {},
     "output_type": "execute_result"
    }
   ],
   "source": [
    "p_mean"
   ]
  },
  {
   "cell_type": "code",
   "execution_count": 12,
   "metadata": {},
   "outputs": [
    {
     "data": {
      "text/html": [
       "<div>\n",
       "<style scoped>\n",
       "    .dataframe tbody tr th:only-of-type {\n",
       "        vertical-align: middle;\n",
       "    }\n",
       "\n",
       "    .dataframe tbody tr th {\n",
       "        vertical-align: top;\n",
       "    }\n",
       "\n",
       "    .dataframe thead th {\n",
       "        text-align: right;\n",
       "    }\n",
       "</style>\n",
       "<table border=\"1\" class=\"dataframe\">\n",
       "  <thead>\n",
       "    <tr style=\"text-align: right;\">\n",
       "      <th></th>\n",
       "      <th>1432_returns</th>\n",
       "      <th>1504_returns</th>\n",
       "      <th>1707_returns</th>\n",
       "      <th>2515_returns</th>\n",
       "    </tr>\n",
       "  </thead>\n",
       "  <tbody>\n",
       "    <tr>\n",
       "      <th>1432_returns</th>\n",
       "      <td>0.000382</td>\n",
       "      <td>0.000027</td>\n",
       "      <td>0.000095</td>\n",
       "      <td>0.000041</td>\n",
       "    </tr>\n",
       "    <tr>\n",
       "      <th>1504_returns</th>\n",
       "      <td>0.000027</td>\n",
       "      <td>0.000339</td>\n",
       "      <td>0.000081</td>\n",
       "      <td>0.000064</td>\n",
       "    </tr>\n",
       "    <tr>\n",
       "      <th>1707_returns</th>\n",
       "      <td>0.000095</td>\n",
       "      <td>0.000081</td>\n",
       "      <td>0.000489</td>\n",
       "      <td>0.000062</td>\n",
       "    </tr>\n",
       "    <tr>\n",
       "      <th>2515_returns</th>\n",
       "      <td>0.000041</td>\n",
       "      <td>0.000064</td>\n",
       "      <td>0.000062</td>\n",
       "      <td>0.000188</td>\n",
       "    </tr>\n",
       "  </tbody>\n",
       "</table>\n",
       "</div>"
      ],
      "text/plain": [
       "              1432_returns  1504_returns  1707_returns  2515_returns\n",
       "1432_returns      0.000382      0.000027      0.000095      0.000041\n",
       "1504_returns      0.000027      0.000339      0.000081      0.000064\n",
       "1707_returns      0.000095      0.000081      0.000489      0.000062\n",
       "2515_returns      0.000041      0.000064      0.000062      0.000188"
      ]
     },
     "execution_count": 12,
     "metadata": {},
     "output_type": "execute_result"
    }
   ],
   "source": [
    "p_cov = res[1]\n",
    "p_cov"
   ]
  },
  {
   "cell_type": "code",
   "execution_count": 13,
   "metadata": {},
   "outputs": [
    {
     "data": {
      "text/plain": [
       "1432_returns    0.215026\n",
       "1504_returns    0.214654\n",
       "1707_returns    0.103153\n",
       "2515_returns    0.467168\n",
       "dtype: float64"
      ]
     },
     "execution_count": 13,
     "metadata": {},
     "output_type": "execute_result"
    }
   ],
   "source": [
    "import portfolioopt as pfopt\n",
    "target_ret2 = 0.0006 #設定目標收益率為0.0006\n",
    "cov_mat2 = res[1]\n",
    "avg_rets2 = pd.Series(res[0][:,0],index=retData.columns)\n",
    "weights2 = pfopt.markowitz_portfolio(cov_mat2, avg_rets2, target_ret2, allow_short=False)\n",
    "weights2"
   ]
  },
  {
   "cell_type": "markdown",
   "metadata": {},
   "source": [
    "# Markowitz模型配置完的資產配置為以上\n",
    "### 東元(1504):0.214654\n",
    "### 中工(2515):0.467168\n",
    "### 太魯閣(1432):0.215026\n",
    "### 葡萄王(1707):0.103153"
   ]
  },
  {
   "cell_type": "code",
   "execution_count": null,
   "metadata": {},
   "outputs": [],
   "source": []
  }
 ],
 "metadata": {
  "kernelspec": {
   "display_name": "Python 3",
   "language": "python",
   "name": "python3"
  },
  "language_info": {
   "codemirror_mode": {
    "name": "ipython",
    "version": 3
   },
   "file_extension": ".py",
   "mimetype": "text/x-python",
   "name": "python",
   "nbconvert_exporter": "python",
   "pygments_lexer": "ipython3",
   "version": "3.7.9"
  }
 },
 "nbformat": 4,
 "nbformat_minor": 4
}
