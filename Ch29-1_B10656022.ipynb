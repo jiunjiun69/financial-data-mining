{
 "cells": [
  {
   "cell_type": "code",
   "execution_count": 1,
   "metadata": {},
   "outputs": [],
   "source": [
    "import pandas as pd\n",
    "import matplotlib.pyplot as plt\n",
    "from matplotlib.font_manager import FontProperties\n",
    "%matplotlib inline"
   ]
  },
  {
   "cell_type": "code",
   "execution_count": 2,
   "metadata": {},
   "outputs": [
    {
     "data": {
      "text/html": [
       "<div>\n",
       "<style scoped>\n",
       "    .dataframe tbody tr th:only-of-type {\n",
       "        vertical-align: middle;\n",
       "    }\n",
       "\n",
       "    .dataframe tbody tr th {\n",
       "        vertical-align: top;\n",
       "    }\n",
       "\n",
       "    .dataframe thead th {\n",
       "        text-align: right;\n",
       "    }\n",
       "</style>\n",
       "<table border=\"1\" class=\"dataframe\">\n",
       "  <thead>\n",
       "    <tr style=\"text-align: right;\">\n",
       "      <th></th>\n",
       "      <th>Date</th>\n",
       "      <th>Close</th>\n",
       "      <th>Open</th>\n",
       "      <th>High</th>\n",
       "      <th>Low</th>\n",
       "      <th>Volume</th>\n",
       "    </tr>\n",
       "    <tr>\n",
       "      <th>Date</th>\n",
       "      <th></th>\n",
       "      <th></th>\n",
       "      <th></th>\n",
       "      <th></th>\n",
       "      <th></th>\n",
       "      <th></th>\n",
       "    </tr>\n",
       "  </thead>\n",
       "  <tbody>\n",
       "    <tr>\n",
       "      <th>2015-06-01</th>\n",
       "      <td>2015-06-01</td>\n",
       "      <td>77.0</td>\n",
       "      <td>78.43</td>\n",
       "      <td>78.43</td>\n",
       "      <td>77.00</td>\n",
       "      <td>36037</td>\n",
       "    </tr>\n",
       "    <tr>\n",
       "      <th>2015-06-02</th>\n",
       "      <td>2015-06-02</td>\n",
       "      <td>77.4</td>\n",
       "      <td>76.76</td>\n",
       "      <td>77.79</td>\n",
       "      <td>76.53</td>\n",
       "      <td>35901</td>\n",
       "    </tr>\n",
       "  </tbody>\n",
       "</table>\n",
       "</div>"
      ],
      "text/plain": [
       "                  Date  Close   Open   High    Low  Volume\n",
       "Date                                                      \n",
       "2015-06-01  2015-06-01   77.0  78.43  78.43  77.00   36037\n",
       "2015-06-02  2015-06-02   77.4  76.76  77.79  76.53   35901"
      ]
     },
     "execution_count": 2,
     "metadata": {},
     "output_type": "execute_result"
    }
   ],
   "source": [
    "Foxconn=pd.read_csv('2317.csv',sep='\\t')\n",
    "Foxconn.index=pd.to_datetime(Foxconn.Date,\n",
    "              format='%Y-%m-%d')\n",
    "Foxconn.head(2)"
   ]
  },
  {
   "cell_type": "code",
   "execution_count": 3,
   "metadata": {},
   "outputs": [
    {
     "data": {
      "text/plain": [
       "count    393.000000\n",
       "mean      73.863435\n",
       "std        5.248808\n",
       "min       62.970000\n",
       "25%       70.120000\n",
       "50%       73.470000\n",
       "75%       77.000000\n",
       "max       85.700000\n",
       "Name: Close, dtype: float64"
      ]
     },
     "execution_count": 3,
     "metadata": {},
     "output_type": "execute_result"
    }
   ],
   "source": [
    "Close=Foxconn.Close\n",
    "Close.describe()"
   ]
  },
  {
   "cell_type": "markdown",
   "metadata": {},
   "source": [
    "# (a、b) 6日動量值"
   ]
  },
  {
   "cell_type": "code",
   "execution_count": 4,
   "metadata": {},
   "outputs": [],
   "source": [
    "lag6Close=Close.shift(6)"
   ]
  },
  {
   "cell_type": "code",
   "execution_count": 5,
   "metadata": {},
   "outputs": [
    {
     "data": {
      "text/plain": [
       "Date\n",
       "2016-12-26   -0.3\n",
       "2016-12-27    0.7\n",
       "2016-12-28    0.3\n",
       "2016-12-29    0.3\n",
       "2016-12-30    1.4\n",
       "Name: Close, dtype: float64"
      ]
     },
     "execution_count": 5,
     "metadata": {},
     "output_type": "execute_result"
    }
   ],
   "source": [
    "momentum6=Close-lag6Close\n",
    "momentum6.tail()"
   ]
  },
  {
   "cell_type": "code",
   "execution_count": 6,
   "metadata": {},
   "outputs": [],
   "source": [
    "from matplotlib.font_manager import FontProperties\n",
    "import warnings\n",
    "warnings.filterwarnings(\"ignore\")\n",
    "import matplotlib.pyplot as plt\n",
    "plt.rcParams['font.sans-serif'] = ['Microsoft JhengHei'] \n",
    "plt.rcParams['axes.unicode_minus'] = False"
   ]
  },
  {
   "cell_type": "code",
   "execution_count": 7,
   "metadata": {},
   "outputs": [
    {
     "data": {
      "image/png": "[encoded data removed]",
      "text/plain": [
       "<Figure size 432x288 with 2 Axes>"
      ]
     },
     "metadata": {
      "needs_background": "light"
     },
     "output_type": "display_data"
    }
   ],
   "source": [
    "#plot\n",
    "plt.subplot(211)\n",
    "plt.plot(Close['2016-08-01':'2016-12-31'],'b*')\n",
    "plt.xlabel('date')\n",
    "plt.ylabel('Close')\n",
    "plt.title('Close price and Momentum6')\n",
    "plt.subplot(212)\n",
    "plt.plot(momentum6['2016-08-01':'2016-12-31'],'r-*')\n",
    "plt.xlabel('date')\n",
    "plt.ylabel('Momentum6')\n",
    "plt.show()"
   ]
  },
  {
   "cell_type": "code",
   "execution_count": 8,
   "metadata": {},
   "outputs": [
    {
     "data": {
      "text/plain": [
       "Date\n",
       "2015-06-09   -0.042078\n",
       "2015-06-10   -0.022481\n",
       "2015-06-11   -0.012376\n",
       "2015-06-12    0.005349\n",
       "2015-06-15   -0.003216\n",
       "2015-06-16   -0.001065\n",
       "Name: Close, dtype: float64"
      ]
     },
     "execution_count": 8,
     "metadata": {},
     "output_type": "execute_result"
    }
   ],
   "source": [
    "#divide\n",
    "Momen6=Close/lag6Close-1\n",
    "Momen6=Momen6.dropna();\n",
    "Momen6[:6]"
   ]
  },
  {
   "cell_type": "code",
   "execution_count": 9,
   "metadata": {},
   "outputs": [],
   "source": [
    "#divide\n",
    "Momen6=Close/lag6Close-1\n",
    "Momen6=Momen6.dropna();\n",
    "Momen6[:6]\n",
    "#momentum function\n",
    "def momentum(price,periond):\n",
    "    lagPrice=price.shift(periond)\n",
    "    momen=price-lagPrice\n",
    "    momen= momen.dropna()\n",
    "    return(momen)"
   ]
  },
  {
   "cell_type": "code",
   "execution_count": 10,
   "metadata": {},
   "outputs": [
    {
     "data": {
      "text/plain": [
       "Date\n",
       "2016-12-26    0.5\n",
       "2016-12-27   -0.2\n",
       "2016-12-28    0.7\n",
       "2016-12-29    0.8\n",
       "2016-12-30    1.5\n",
       "Name: Close, dtype: float64"
      ]
     },
     "execution_count": 10,
     "metadata": {},
     "output_type": "execute_result"
    }
   ],
   "source": [
    "momentum(Close,5).tail(n=5)"
   ]
  },
  {
   "cell_type": "code",
   "execution_count": 11,
   "metadata": {},
   "outputs": [],
   "source": [
    "momen6=momentum(Close,6)"
   ]
  },
  {
   "cell_type": "code",
   "execution_count": 12,
   "metadata": {},
   "outputs": [
    {
     "name": "stderr",
     "output_type": "stream",
     "text": [
      "c:\\users\\a9025\\appdata\\local\\programs\\python\\python37\\lib\\site-packages\\mpl_finance.py:22: DeprecationWarning: \n",
      "\n",
      "  =================================================================\n",
      "\n",
      "   WARNING: `mpl_finance` is deprecated:\n",
      "\n",
      "    Please use `mplfinance` instead (no hyphen, no underscore).\n",
      "\n",
      "    To install: `pip install --upgrade mplfinance` \n",
      "\n",
      "   For more information, see: https://pypi.org/project/mplfinance/\n",
      "\n",
      "  =================================================================\n",
      "\n",
      "  category=DeprecationWarning)\n"
     ]
    }
   ],
   "source": [
    "import pandas as pd\n",
    "import matplotlib.pyplot as plt\n",
    "from matplotlib.dates import DateFormatter, WeekdayLocator, \\\n",
    "                                DayLocator, MONDAY, date2num\n",
    "import mpl_finance \n",
    "plt.rcParams['font.sans-serif'] = ['SimHei']\n",
    "plt.rcParams['axes.unicode_minus'] = False"
   ]
  },
  {
   "cell_type": "code",
   "execution_count": 13,
   "metadata": {},
   "outputs": [],
   "source": [
    "\"\"\"\n",
    "A collection of functions for analyzing and plotting\n",
    "financial data.   User contributions welcome!\n",
    "\n",
    "\"\"\"\n",
    "from __future__ import (absolute_import, division, print_function,\n",
    "                        unicode_literals)\n",
    "\n",
    "import numpy as np\n",
    "from matplotlib import colors as mcolors\n",
    "from matplotlib.collections import LineCollection, PolyCollection\n",
    "from matplotlib.lines import TICKLEFT, TICKRIGHT, Line2D\n",
    "from matplotlib.patches import Rectangle\n",
    "from matplotlib.transforms import Affine2D\n",
    "\n",
    "from six.moves import xrange, zip\n",
    "\n",
    "\n",
    "def plot_day_summary_oclh(ax, quotes, ticksize=3,\n",
    "                          colorup='k', colordown='r'):\n",
    "    \"\"\"Plots day summary\n",
    "\n",
    "        Represent the time, open, close, high, low as a vertical line\n",
    "        ranging from low to high.  The left tick is the open and the right\n",
    "        tick is the close.\n",
    "\n",
    "\n",
    "\n",
    "    Parameters\n",
    "    ----------\n",
    "    ax : `Axes`\n",
    "        an `Axes` instance to plot to\n",
    "    quotes : sequence of (time, open, close, high, low, ...) sequences\n",
    "        data to plot.  time must be in float date format - see date2num\n",
    "    ticksize : int\n",
    "        open/close tick marker in points\n",
    "    colorup : color\n",
    "        the color of the lines where close >= open\n",
    "    colordown : color\n",
    "        the color of the lines where close <  open\n",
    "\n",
    "    Returns\n",
    "    -------\n",
    "    lines : list\n",
    "        list of tuples of the lines added (one tuple per quote)\n",
    "    \"\"\"\n",
    "    return _plot_day_summary(ax, quotes, ticksize=ticksize,\n",
    "                             colorup=colorup, colordown=colordown,\n",
    "                             ochl=True)\n",
    "\n",
    "\n",
    "def plot_day_summary_ohlc(ax, quotes, ticksize=3,\n",
    "                          colorup='k', colordown='r'):\n",
    "    \"\"\"Plots day summary\n",
    "\n",
    "        Represent the time, open, high, low, close as a vertical line\n",
    "        ranging from low to high.  The left tick is the open and the right\n",
    "        tick is the close.\n",
    "\n",
    "\n",
    "\n",
    "    Parameters\n",
    "    ----------\n",
    "    ax : `Axes`\n",
    "        an `Axes` instance to plot to\n",
    "    quotes : sequence of (time, open, high, low, close, ...) sequences\n",
    "        data to plot.  time must be in float date format - see date2num\n",
    "    ticksize : int\n",
    "        open/close tick marker in points\n",
    "    colorup : color\n",
    "        the color of the lines where close >= open\n",
    "    colordown : color\n",
    "        the color of the lines where close <  open\n",
    "\n",
    "    Returns\n",
    "    -------\n",
    "    lines : list\n",
    "        list of tuples of the lines added (one tuple per quote)\n",
    "    \"\"\"\n",
    "    return _plot_day_summary(ax, quotes, ticksize=ticksize,\n",
    "                             colorup=colorup, colordown=colordown,\n",
    "                             ochl=False)\n",
    "\n",
    "\n",
    "def _plot_day_summary(ax, quotes, ticksize=3,\n",
    "                      colorup='k', colordown='r',\n",
    "                      ochl=True):\n",
    "    \"\"\"Plots day summary\n",
    "\n",
    "\n",
    "        Represent the time, open, high, low, close as a vertical line\n",
    "        ranging from low to high.  The left tick is the open and the right\n",
    "        tick is the close.\n",
    "\n",
    "\n",
    "\n",
    "    Parameters\n",
    "    ----------\n",
    "    ax : `Axes`\n",
    "        an `Axes` instance to plot to\n",
    "    quotes : sequence of quote sequences\n",
    "        data to plot.  time must be in float date format - see date2num\n",
    "        (time, open, high, low, close, ...) vs\n",
    "        (time, open, close, high, low, ...)\n",
    "        set by `ochl`\n",
    "    ticksize : int\n",
    "        open/close tick marker in points\n",
    "    colorup : color\n",
    "        the color of the lines where close >= open\n",
    "    colordown : color\n",
    "        the color of the lines where close <  open\n",
    "    ochl: bool\n",
    "        argument to select between ochl and ohlc ordering of quotes\n",
    "\n",
    "    Returns\n",
    "    -------\n",
    "    lines : list\n",
    "        list of tuples of the lines added (one tuple per quote)\n",
    "    \"\"\"\n",
    "    # unfortunately this has a different return type than plot_day_summary2_*\n",
    "    lines = []\n",
    "    for q in quotes:\n",
    "        if ochl:\n",
    "            t, open, close, high, low = q[:5]\n",
    "        else:\n",
    "            t, open, high, low, close = q[:5]\n",
    "\n",
    "        if close >= open:\n",
    "            color = colorup\n",
    "        else:\n",
    "            color = colordown\n",
    "\n",
    "        vline = Line2D(xdata=(t, t), ydata=(low, high),\n",
    "                       color=color,\n",
    "                       antialiased=False,   # no need to antialias vert lines\n",
    "                       )\n",
    "\n",
    "        oline = Line2D(xdata=(t, t), ydata=(open, open),\n",
    "                       color=color,\n",
    "                       antialiased=False,\n",
    "                       marker=TICKLEFT,\n",
    "                       markersize=ticksize,\n",
    "                       )\n",
    "\n",
    "        cline = Line2D(xdata=(t, t), ydata=(close, close),\n",
    "                       color=color,\n",
    "                       antialiased=False,\n",
    "                       markersize=ticksize,\n",
    "                       marker=TICKRIGHT)\n",
    "\n",
    "        lines.extend((vline, oline, cline))\n",
    "        ax.add_line(vline)\n",
    "        ax.add_line(oline)\n",
    "        ax.add_line(cline)\n",
    "\n",
    "    ax.autoscale_view()\n",
    "\n",
    "    return lines\n",
    "\n",
    "\n",
    "def candlestick_ochl(ax, quotes, width=0.2, colorup='k', colordown='r',\n",
    "                     alpha=1.0):\n",
    "    \"\"\"\n",
    "    Plot the time, open, close, high, low as a vertical line ranging\n",
    "    from low to high.  Use a rectangular bar to represent the\n",
    "    open-close span.  If close >= open, use colorup to color the bar,\n",
    "    otherwise use colordown\n",
    "\n",
    "    Parameters\n",
    "    ----------\n",
    "    ax : `Axes`\n",
    "        an Axes instance to plot to\n",
    "    quotes : sequence of (time, open, close, high, low, ...) sequences\n",
    "        As long as the first 5 elements are these values,\n",
    "        the record can be as long as you want (e.g., it may store volume).\n",
    "\n",
    "        time must be in float days format - see date2num\n",
    "\n",
    "    width : float\n",
    "        fraction of a day for the rectangle width\n",
    "    colorup : color\n",
    "        the color of the rectangle where close >= open\n",
    "    colordown : color\n",
    "         the color of the rectangle where close <  open\n",
    "    alpha : float\n",
    "        the rectangle alpha level\n",
    "\n",
    "    Returns\n",
    "    -------\n",
    "    ret : tuple\n",
    "        returns (lines, patches) where lines is a list of lines\n",
    "        added and patches is a list of the rectangle patches added\n",
    "\n",
    "    \"\"\"\n",
    "    return _candlestick(ax, quotes, width=width, colorup=colorup,\n",
    "                        colordown=colordown,\n",
    "                        alpha=alpha, ochl=True)\n",
    "\n",
    "\n",
    "def candlestick_ohlc(ax, quotes, width=0.2, colorup='k', colordown='r',\n",
    "                     alpha=1.0):\n",
    "    \"\"\"\n",
    "    Plot the time, open, high, low, close as a vertical line ranging\n",
    "    from low to high.  Use a rectangular bar to represent the\n",
    "    open-close span.  If close >= open, use colorup to color the bar,\n",
    "    otherwise use colordown\n",
    "\n",
    "    Parameters\n",
    "    ----------\n",
    "    ax : `Axes`\n",
    "        an Axes instance to plot to\n",
    "    quotes : sequence of (time, open, high, low, close, ...) sequences\n",
    "        As long as the first 5 elements are these values,\n",
    "        the record can be as long as you want (e.g., it may store volume).\n",
    "\n",
    "        time must be in float days format - see date2num\n",
    "\n",
    "    width : float\n",
    "        fraction of a day for the rectangle width\n",
    "    colorup : color\n",
    "        the color of the rectangle where close >= open\n",
    "    colordown : color\n",
    "         the color of the rectangle where close <  open\n",
    "    alpha : float\n",
    "        the rectangle alpha level\n",
    "\n",
    "    Returns\n",
    "    -------\n",
    "    ret : tuple\n",
    "        returns (lines, patches) where lines is a list of lines\n",
    "        added and patches is a list of the rectangle patches added\n",
    "\n",
    "    \"\"\"\n",
    "    return _candlestick(ax, quotes, width=width, colorup=colorup,\n",
    "                        colordown=colordown,\n",
    "                        alpha=alpha, ochl=False)\n",
    "\n",
    "\n",
    "def _candlestick(ax, quotes, width=0.2, colorup='k', colordown='r',\n",
    "                 alpha=1.0, ochl=True):\n",
    "    \"\"\"\n",
    "    Plot the time, open, high, low, close as a vertical line ranging\n",
    "    from low to high.  Use a rectangular bar to represent the\n",
    "    open-close span.  If close >= open, use colorup to color the bar,\n",
    "    otherwise use colordown\n",
    "\n",
    "    Parameters\n",
    "    ----------\n",
    "    ax : `Axes`\n",
    "        an Axes instance to plot to\n",
    "    quotes : sequence of quote sequences\n",
    "        data to plot.  time must be in float date format - see date2num\n",
    "        (time, open, high, low, close, ...) vs\n",
    "        (time, open, close, high, low, ...)\n",
    "        set by `ochl`\n",
    "    width : float\n",
    "        fraction of a day for the rectangle width\n",
    "    colorup : color\n",
    "        the color of the rectangle where close >= open\n",
    "    colordown : color\n",
    "         the color of the rectangle where close <  open\n",
    "    alpha : float\n",
    "        the rectangle alpha level\n",
    "    ochl: bool\n",
    "        argument to select between ochl and ohlc ordering of quotes\n",
    "\n",
    "    Returns\n",
    "    -------\n",
    "    ret : tuple\n",
    "        returns (lines, patches) where lines is a list of lines\n",
    "        added and patches is a list of the rectangle patches added\n",
    "\n",
    "    \"\"\"\n",
    "\n",
    "    OFFSET = width / 2.0\n",
    "\n",
    "    lines = []\n",
    "    patches = []\n",
    "    for q in quotes:\n",
    "        if ochl:\n",
    "            t, open, close, high, low = q[:5]\n",
    "        else:\n",
    "            t, open, high, low, close = q[:5]\n",
    "\n",
    "        if close >= open:\n",
    "            color = colorup\n",
    "            lower = open\n",
    "            height = close - open\n",
    "        else:\n",
    "            color = colordown\n",
    "            lower = close\n",
    "            height = open - close\n",
    "\n",
    "        vline = Line2D(\n",
    "            xdata=(t, t), ydata=(low, high),\n",
    "            color=color,\n",
    "            linewidth=0.5,\n",
    "            antialiased=True,\n",
    "        )\n",
    "\n",
    "        rect = Rectangle(\n",
    "            xy=(t - OFFSET, lower),\n",
    "            width=width,\n",
    "            height=height,\n",
    "            facecolor=color,\n",
    "            edgecolor=color,\n",
    "        )\n",
    "        rect.set_alpha(alpha)\n",
    "\n",
    "        lines.append(vline)\n",
    "        patches.append(rect)\n",
    "        ax.add_line(vline)\n",
    "        ax.add_patch(rect)\n",
    "    ax.autoscale_view()\n",
    "\n",
    "    return lines, patches\n",
    "\n",
    "\n",
    "def _check_input(opens, closes, highs, lows, miss=-1):\n",
    "    \"\"\"Checks that *opens*, *highs*, *lows* and *closes* have the same length.\n",
    "    NOTE: this code assumes if any value open, high, low, close is\n",
    "    missing (*-1*) they all are missing\n",
    "\n",
    "    Parameters\n",
    "    ----------\n",
    "    ax : `Axes`\n",
    "        an Axes instance to plot to\n",
    "    opens : sequence\n",
    "        sequence of opening values\n",
    "    highs : sequence\n",
    "        sequence of high values\n",
    "    lows : sequence\n",
    "        sequence of low values\n",
    "    closes : sequence\n",
    "        sequence of closing values\n",
    "    miss : int\n",
    "        identifier of the missing data\n",
    "\n",
    "    Raises\n",
    "    ------\n",
    "    ValueError\n",
    "        if the input sequences don't have the same length\n",
    "    \"\"\"\n",
    "\n",
    "    def _missing(sequence, miss=-1):\n",
    "        \"\"\"Returns the index in *sequence* of the missing data, identified by\n",
    "        *miss*\n",
    "\n",
    "        Parameters\n",
    "        ----------\n",
    "        sequence :\n",
    "            sequence to evaluate\n",
    "        miss :\n",
    "            identifier of the missing data\n",
    "\n",
    "        Returns\n",
    "        -------\n",
    "        where_miss: numpy.ndarray\n",
    "            indices of the missing data\n",
    "        \"\"\"\n",
    "        return np.where(np.array(sequence) == miss)[0]\n",
    "\n",
    "    same_length = len(opens) == len(highs) == len(lows) == len(closes)\n",
    "    _missopens = _missing(opens)\n",
    "    same_missing = ((_missopens == _missing(highs)).all() and\n",
    "                    (_missopens == _missing(lows)).all() and\n",
    "                    (_missopens == _missing(closes)).all())\n",
    "\n",
    "    if not (same_length and same_missing):\n",
    "        msg = (\"*opens*, *highs*, *lows* and *closes* must have the same\"\n",
    "               \" length. NOTE: this code assumes if any value open, high,\"\n",
    "               \" low, close is missing (*-1*) they all must be missing.\")\n",
    "        raise ValueError(msg)\n",
    "\n",
    "\n",
    "def plot_day_summary2_ochl(ax, opens, closes, highs, lows, ticksize=4,\n",
    "                           colorup='k', colordown='r'):\n",
    "    \"\"\"Represent the time, open, close, high, low,  as a vertical line\n",
    "    ranging from low to high.  The left tick is the open and the right\n",
    "    tick is the close.\n",
    "\n",
    "    Parameters\n",
    "    ----------\n",
    "    ax : `Axes`\n",
    "        an Axes instance to plot to\n",
    "    opens : sequence\n",
    "        sequence of opening values\n",
    "    closes : sequence\n",
    "        sequence of closing values\n",
    "    highs : sequence\n",
    "        sequence of high values\n",
    "    lows : sequence\n",
    "        sequence of low values\n",
    "    ticksize : int\n",
    "        size of open and close ticks in points\n",
    "    colorup : color\n",
    "        the color of the lines where close >= open\n",
    "    colordown : color\n",
    "         the color of the lines where close <  open\n",
    "\n",
    "    Returns\n",
    "    -------\n",
    "    ret : list\n",
    "        a list of lines added to the axes\n",
    "    \"\"\"\n",
    "\n",
    "    return plot_day_summary2_ohlc(ax, opens, highs, lows, closes, ticksize,\n",
    "                                  colorup, colordown)\n",
    "\n",
    "\n",
    "def plot_day_summary2_ohlc(ax, opens, highs, lows, closes, ticksize=4,\n",
    "                           colorup='k', colordown='r'):\n",
    "    \"\"\"Represent the time, open, high, low, close as a vertical line\n",
    "    ranging from low to high.  The left tick is the open and the right\n",
    "    tick is the close.\n",
    "    *opens*, *highs*, *lows* and *closes* must have the same length.\n",
    "    NOTE: this code assumes if any value open, high, low, close is\n",
    "    missing (*-1*) they all are missing\n",
    "\n",
    "    Parameters\n",
    "    ----------\n",
    "    ax : `Axes`\n",
    "        an Axes instance to plot to\n",
    "    opens : sequence\n",
    "        sequence of opening values\n",
    "    highs : sequence\n",
    "        sequence of high values\n",
    "    lows : sequence\n",
    "        sequence of low values\n",
    "    closes : sequence\n",
    "        sequence of closing values\n",
    "    ticksize : int\n",
    "        size of open and close ticks in points\n",
    "    colorup : color\n",
    "        the color of the lines where close >= open\n",
    "    colordown : color\n",
    "         the color of the lines where close <  open\n",
    "\n",
    "    Returns\n",
    "    -------\n",
    "    ret : list\n",
    "        a list of lines added to the axes\n",
    "    \"\"\"\n",
    "\n",
    "    _check_input(opens, highs, lows, closes)\n",
    "\n",
    "    rangeSegments = [((i, low), (i, high)) for i, low, high in\n",
    "                     zip(xrange(len(lows)), lows, highs) if low != -1]\n",
    "\n",
    "    # the ticks will be from ticksize to 0 in points at the origin and\n",
    "    # we'll translate these to the i, close location\n",
    "    openSegments = [((-ticksize, 0), (0, 0))]\n",
    "\n",
    "    # the ticks will be from 0 to ticksize in points at the origin and\n",
    "    # we'll translate these to the i, close location\n",
    "    closeSegments = [((0, 0), (ticksize, 0))]\n",
    "\n",
    "    offsetsOpen = [(i, open) for i, open in\n",
    "                   zip(xrange(len(opens)), opens) if open != -1]\n",
    "\n",
    "    offsetsClose = [(i, close) for i, close in\n",
    "                    zip(xrange(len(closes)), closes) if close != -1]\n",
    "\n",
    "    scale = ax.figure.dpi * (1.0 / 72.0)\n",
    "\n",
    "    tickTransform = Affine2D().scale(scale, 0.0)\n",
    "\n",
    "    colorup = mcolors.to_rgba(colorup)\n",
    "    colordown = mcolors.to_rgba(colordown)\n",
    "    colord = {True: colorup, False: colordown}\n",
    "    colors = [colord[open < close] for open, close in\n",
    "              zip(opens, closes) if open != -1 and close != -1]\n",
    "\n",
    "    useAA = 0,   # use tuple here\n",
    "    lw = 1,      # and here\n",
    "    rangeCollection = LineCollection(rangeSegments,\n",
    "                                     colors=colors,\n",
    "                                     linewidths=lw,\n",
    "                                     antialiaseds=useAA,\n",
    "                                     )\n",
    "\n",
    "    openCollection = LineCollection(openSegments,\n",
    "                                    colors=colors,\n",
    "                                    antialiaseds=useAA,\n",
    "                                    linewidths=lw,\n",
    "                                    offsets=offsetsOpen,\n",
    "                                    transOffset=ax.transData,\n",
    "                                    )\n",
    "    openCollection.set_transform(tickTransform)\n",
    "\n",
    "    closeCollection = LineCollection(closeSegments,\n",
    "                                     colors=colors,\n",
    "                                     antialiaseds=useAA,\n",
    "                                     linewidths=lw,\n",
    "                                     offsets=offsetsClose,\n",
    "                                     transOffset=ax.transData,\n",
    "                                     )\n",
    "    closeCollection.set_transform(tickTransform)\n",
    "\n",
    "    minpy, maxx = (0, len(rangeSegments))\n",
    "    miny = min([low for low in lows if low != -1])\n",
    "    maxy = max([high for high in highs if high != -1])\n",
    "    corners = (minpy, miny), (maxx, maxy)\n",
    "    ax.update_datalim(corners)\n",
    "    ax.autoscale_view()\n",
    "\n",
    "    # add these last\n",
    "    ax.add_collection(rangeCollection)\n",
    "    ax.add_collection(openCollection)\n",
    "    ax.add_collection(closeCollection)\n",
    "    return rangeCollection, openCollection, closeCollection\n",
    "\n",
    "\n",
    "def candlestick2_ochl(ax, opens, closes, highs, lows, width=4,\n",
    "                      colorup='k', colordown='r',\n",
    "                      alpha=0.75):\n",
    "    \"\"\"Represent the open, close as a bar line and high low range as a\n",
    "    vertical line.\n",
    "\n",
    "    Preserves the original argument order.\n",
    "\n",
    "\n",
    "    Parameters\n",
    "    ----------\n",
    "    ax : `Axes`\n",
    "        an Axes instance to plot to\n",
    "    opens : sequence\n",
    "        sequence of opening values\n",
    "    closes : sequence\n",
    "        sequence of closing values\n",
    "    highs : sequence\n",
    "        sequence of high values\n",
    "    lows : sequence\n",
    "        sequence of low values\n",
    "    width : int\n",
    "        size of open and close ticks in points\n",
    "    colorup : color\n",
    "        the color of the lines where close >= open\n",
    "    colordown : color\n",
    "        the color of the lines where close <  open\n",
    "    alpha : float\n",
    "        bar transparency\n",
    "\n",
    "    Returns\n",
    "    -------\n",
    "    ret : tuple\n",
    "        (lineCollection, barCollection)\n",
    "    \"\"\"\n",
    "\n",
    "    return candlestick2_ohlc(ax, opens, highs, lows, closes, width=width,\n",
    "                             colorup=colorup, colordown=colordown,\n",
    "                             alpha=alpha)\n",
    "\n",
    "\n",
    "def candlestick2_ohlc(ax, opens, highs, lows, closes, width=4,\n",
    "                      colorup='k', colordown='r',\n",
    "                      alpha=0.75):\n",
    "    \"\"\"Represent the open, close as a bar line and high low range as a\n",
    "    vertical line.\n",
    "\n",
    "    NOTE: this code assumes if any value open, low, high, close is\n",
    "    missing they all are missing\n",
    "\n",
    "\n",
    "    Parameters\n",
    "    ----------\n",
    "    ax : `Axes`\n",
    "        an Axes instance to plot to\n",
    "    opens : sequence\n",
    "        sequence of opening values\n",
    "    highs : sequence\n",
    "        sequence of high values\n",
    "    lows : sequence\n",
    "        sequence of low values\n",
    "    closes : sequence\n",
    "        sequence of closing values\n",
    "    width : int\n",
    "        size of open and close ticks in points\n",
    "    colorup : color\n",
    "        the color of the lines where close >= open\n",
    "    colordown : color\n",
    "        the color of the lines where close <  open\n",
    "    alpha : float\n",
    "        bar transparency\n",
    "\n",
    "    Returns\n",
    "    -------\n",
    "    ret : tuple\n",
    "        (lineCollection, barCollection)\n",
    "    \"\"\"\n",
    "\n",
    "    _check_input(opens, highs, lows, closes)\n",
    "\n",
    "    delta = width / 2.\n",
    "    barVerts = [((i - delta, open),\n",
    "                 (i - delta, close),\n",
    "                 (i + delta, close),\n",
    "                 (i + delta, open))\n",
    "                for i, open, close in zip(xrange(len(opens)), opens, closes)\n",
    "                if open != -1 and close != -1]\n",
    "\n",
    "    rangeSegments = [((i, low), (i, high))\n",
    "                     for i, low, high in zip(xrange(len(lows)), lows, highs)\n",
    "                     if low != -1]\n",
    "\n",
    "    colorup = mcolors.to_rgba(colorup, alpha)\n",
    "    colordown = mcolors.to_rgba(colordown, alpha)\n",
    "    colord = {True: colorup, False: colordown}\n",
    "    colors = [colord[open < close]\n",
    "              for open, close in zip(opens, closes)\n",
    "              if open != -1 and close != -1]\n",
    "\n",
    "    useAA = 0,  # use tuple here\n",
    "    lw = 0.5,   # and here\n",
    "    rangeCollection = LineCollection(rangeSegments,\n",
    "                                     colors=colors,\n",
    "                                     linewidths=lw,\n",
    "                                     antialiaseds=useAA,\n",
    "                                     )\n",
    "\n",
    "    barCollection = PolyCollection(barVerts,\n",
    "                                   facecolors=colors,\n",
    "                                   edgecolors=colors,\n",
    "                                   antialiaseds=useAA,\n",
    "                                   linewidths=lw,\n",
    "                                   )\n",
    "\n",
    "    minx, maxx = 0, len(rangeSegments)\n",
    "    miny = min([low for low in lows if low != -1])\n",
    "    maxy = max([high for high in highs if high != -1])\n",
    "\n",
    "    corners = (minx, miny), (maxx, maxy)\n",
    "    ax.update_datalim(corners)\n",
    "    ax.autoscale_view()\n",
    "\n",
    "    # add these last\n",
    "    ax.add_collection(rangeCollection)\n",
    "    ax.add_collection(barCollection)\n",
    "    return rangeCollection, barCollection\n",
    "\n",
    "\n",
    "def volume_overlay(ax, opens, closes, volumes,\n",
    "                   colorup='k', colordown='r',\n",
    "                   width=4, alpha=1.0):\n",
    "    \"\"\"Add a volume overlay to the current axes.  The opens and closes\n",
    "    are used to determine the color of the bar.  -1 is missing.  If a\n",
    "    value is missing on one it must be missing on all\n",
    "\n",
    "    Parameters\n",
    "    ----------\n",
    "    ax : `Axes`\n",
    "        an Axes instance to plot to\n",
    "    opens : sequence\n",
    "        a sequence of opens\n",
    "    closes : sequence\n",
    "        a sequence of closes\n",
    "    volumes : sequence\n",
    "        a sequence of volumes\n",
    "    width : int\n",
    "        the bar width in points\n",
    "    colorup : color\n",
    "        the color of the lines where close >= open\n",
    "    colordown : color\n",
    "        the color of the lines where close <  open\n",
    "    alpha : float\n",
    "        bar transparency\n",
    "\n",
    "    Returns\n",
    "    -------\n",
    "    ret : `barCollection`\n",
    "        The `barrCollection` added to the axes\n",
    "\n",
    "    \"\"\"\n",
    "\n",
    "    colorup = mcolors.to_rgba(colorup, alpha)\n",
    "    colordown = mcolors.to_rgba(colordown, alpha)\n",
    "    colord = {True: colorup, False: colordown}\n",
    "    colors = [colord[open < close]\n",
    "              for open, close in zip(opens, closes)\n",
    "              if open != -1 and close != -1]\n",
    "\n",
    "    delta = width / 2.\n",
    "    bars = [((i - delta, 0), (i - delta, v), (i + delta, v), (i + delta, 0))\n",
    "            for i, v in enumerate(volumes)\n",
    "            if v != -1]\n",
    "\n",
    "    barCollection = PolyCollection(bars,\n",
    "                                   facecolors=colors,\n",
    "                                   edgecolors=((0, 0, 0, 1), ),\n",
    "                                   antialiaseds=(0,),\n",
    "                                   linewidths=(0.5,),\n",
    "                                   )\n",
    "\n",
    "    ax.add_collection(barCollection)\n",
    "    corners = (0, 0), (len(bars), max(volumes))\n",
    "    ax.update_datalim(corners)\n",
    "    ax.autoscale_view()\n",
    "\n",
    "    # add these last\n",
    "    return barCollection\n",
    "\n",
    "\n",
    "def volume_overlay2(ax, closes, volumes,\n",
    "                    colorup='k', colordown='r',\n",
    "                    width=4, alpha=1.0):\n",
    "    \"\"\"\n",
    "    Add a volume overlay to the current axes.  The closes are used to\n",
    "    determine the color of the bar.  -1 is missing.  If a value is\n",
    "    missing on one it must be missing on all\n",
    "\n",
    "    nb: first point is not displayed - it is used only for choosing the\n",
    "    right color\n",
    "\n",
    "\n",
    "    Parameters\n",
    "    ----------\n",
    "    ax : `Axes`\n",
    "        an Axes instance to plot to\n",
    "    closes : sequence\n",
    "        a sequence of closes\n",
    "    volumes : sequence\n",
    "        a sequence of volumes\n",
    "    width : int\n",
    "        the bar width in points\n",
    "    colorup : color\n",
    "        the color of the lines where close >= open\n",
    "    colordown : color\n",
    "        the color of the lines where close <  open\n",
    "    alpha : float\n",
    "        bar transparency\n",
    "\n",
    "    Returns\n",
    "    -------\n",
    "    ret : `barCollection`\n",
    "        The `barrCollection` added to the axes\n",
    "\n",
    "    \"\"\"\n",
    "\n",
    "    return volume_overlay(ax, closes[:-1], closes[1:], volumes[1:],\n",
    "                          colorup, colordown, width, alpha)\n",
    "\n",
    "\n",
    "def volume_overlay3(ax, quotes,\n",
    "                    colorup='k', colordown='r',\n",
    "                    width=4, alpha=1.0):\n",
    "    \"\"\"Add a volume overlay to the current axes.  quotes is a list of (d,\n",
    "    open, high, low, close, volume) and close-open is used to\n",
    "    determine the color of the bar\n",
    "\n",
    "    Parameters\n",
    "    ----------\n",
    "    ax : `Axes`\n",
    "        an Axes instance to plot to\n",
    "    quotes : sequence of (time, open, high, low, close, ...) sequences\n",
    "        data to plot.  time must be in float date format - see date2num\n",
    "    width : int\n",
    "        the bar width in points\n",
    "    colorup : color\n",
    "        the color of the lines where close1 >= close0\n",
    "    colordown : color\n",
    "        the color of the lines where close1 <  close0\n",
    "    alpha : float\n",
    "         bar transparency\n",
    "\n",
    "    Returns\n",
    "    -------\n",
    "    ret : `barCollection`\n",
    "        The `barrCollection` added to the axes\n",
    "\n",
    "\n",
    "    \"\"\"\n",
    "\n",
    "    colorup = mcolors.to_rgba(colorup, alpha)\n",
    "    colordown = mcolors.to_rgba(colordown, alpha)\n",
    "    colord = {True: colorup, False: colordown}\n",
    "\n",
    "    dates, opens, highs, lows, closes, volumes = list(zip(*quotes))\n",
    "    colors = [colord[close1 >= close0]\n",
    "              for close0, close1 in zip(closes[:-1], closes[1:])\n",
    "              if close0 != -1 and close1 != -1]\n",
    "    colors.insert(0, colord[closes[0] >= opens[0]])\n",
    "\n",
    "    right = width / 2.0\n",
    "    left = -width / 2.0\n",
    "\n",
    "    bars = [((left, 0), (left, volume), (right, volume), (right, 0))\n",
    "            for d, open, high, low, close, volume in quotes]\n",
    "\n",
    "    sx = ax.figure.dpi * (1.0 / 72.0)  # scale for points\n",
    "    sy = ax.bbox.height / ax.viewLim.height\n",
    "\n",
    "    barTransform = Affine2D().scale(sx, sy)\n",
    "\n",
    "    dates = [d for d, open, high, low, close, volume in quotes]\n",
    "    offsetsBars = [(d, 0) for d in dates]\n",
    "\n",
    "    useAA = 0,  # use tuple here\n",
    "    lw = 0.5,   # and here\n",
    "    barCollection = PolyCollection(bars,\n",
    "                                   facecolors=colors,\n",
    "                                   edgecolors=((0, 0, 0, 1),),\n",
    "                                   antialiaseds=useAA,\n",
    "                                   linewidths=lw,\n",
    "                                   offsets=offsetsBars,\n",
    "                                   transOffset=ax.transData,\n",
    "                                   )\n",
    "    barCollection.set_transform(barTransform)\n",
    "\n",
    "    minpy, maxx = (min(dates), max(dates))\n",
    "    miny = 0\n",
    "    maxy = max([volume for d, open, high, low, close, volume in quotes])\n",
    "    corners = (minpy, miny), (maxx, maxy)\n",
    "    ax.update_datalim(corners)\n",
    "    # print 'datalim', ax.dataLim.bounds\n",
    "    # print 'viewlim', ax.viewLim.bounds\n",
    "\n",
    "    ax.add_collection(barCollection)\n",
    "    ax.autoscale_view()\n",
    "\n",
    "    return barCollection\n",
    "\n",
    "\n",
    "def index_bar(ax, vals,\n",
    "              facecolor='b', edgecolor='l',\n",
    "              width=4, alpha=1.0, ):\n",
    "    \"\"\"Add a bar collection graph with height vals (-1 is missing).\n",
    "\n",
    "    Parameters\n",
    "    ----------\n",
    "    ax : `Axes`\n",
    "        an Axes instance to plot to\n",
    "    vals : sequence\n",
    "        a sequence of values\n",
    "    facecolor : color\n",
    "        the color of the bar face\n",
    "    edgecolor : color\n",
    "        the color of the bar edges\n",
    "    width : int\n",
    "        the bar width in points\n",
    "    alpha : float\n",
    "       bar transparency\n",
    "\n",
    "    Returns\n",
    "    -------\n",
    "    ret : `barCollection`\n",
    "        The `barrCollection` added to the axes\n",
    "\n",
    "    \"\"\"\n",
    "\n",
    "    facecolors = (mcolors.to_rgba(facecolor, alpha),)\n",
    "    edgecolors = (mcolors.to_rgba(edgecolor, alpha),)\n",
    "\n",
    "    right = width / 2.0\n",
    "    left = -width / 2.0\n",
    "\n",
    "    bars = [((left, 0), (left, v), (right, v), (right, 0))\n",
    "            for v in vals if v != -1]\n",
    "\n",
    "    sx = ax.figure.dpi * (1.0 / 72.0)  # scale for points\n",
    "    sy = ax.bbox.height / ax.viewLim.height\n",
    "\n",
    "    barTransform = Affine2D().scale(sx, sy)\n",
    "\n",
    "    offsetsBars = [(i, 0) for i, v in enumerate(vals) if v != -1]\n",
    "\n",
    "    barCollection = PolyCollection(bars,\n",
    "                                   facecolors=facecolors,\n",
    "                                   edgecolors=edgecolors,\n",
    "                                   antialiaseds=(0,),\n",
    "                                   linewidths=(0.5,),\n",
    "                                   offsets=offsetsBars,\n",
    "                                   transOffset=ax.transData,\n",
    "                                   )\n",
    "    barCollection.set_transform(barTransform)\n",
    "\n",
    "    minpy, maxx = (0, len(offsetsBars))\n",
    "    miny = 0\n",
    "    maxy = max([v for v in vals if v != -1])\n",
    "    corners = (minpy, miny), (maxx, maxy)\n",
    "    ax.update_datalim(corners)\n",
    "    ax.autoscale_view()\n",
    "\n",
    "    # add these last\n",
    "    ax.add_collection(barCollection)\n",
    "    return barCollection"
   ]
  },
  {
   "cell_type": "code",
   "execution_count": 14,
   "metadata": {},
   "outputs": [],
   "source": [
    "def candleLinePlots(candleData, candleTitle='a', **kwargs):\n",
    "    Date = [date2num(date) for date in candleData.index]\n",
    "    candleData.loc[:,'Date'] = Date\n",
    "    listData = []    \n",
    "    for i in range(len(candleData)):\n",
    "        a = [candleData.Date[i],\\\n",
    "            candleData.Open[i],candleData.High[i],\\\n",
    "            candleData.Low[i],candleData.Close[i]]\n",
    "        listData.append(a)\n",
    "    # 如 果 不 定 長 參 數 無 取 值 ， 只 畫 蠟 燭 圖\n",
    "    ax = plt.subplot()\n",
    "    \n",
    "    # 如 果 不 定 長 參 數 有 值 ， 則 分 成 兩 個 子 圖\n",
    "    flag=0\n",
    "    if kwargs:\n",
    "        if kwargs['splitFigures']:\n",
    "            ax = plt.subplot(211)\n",
    "            ax2= plt.subplot(212)\n",
    "            flag=1;\n",
    "        # 如 果 無 參 數 splitFigures ， 則 只 畫 一 個 圖 形 框\n",
    "        # 如 果 有 參 數 splitFigures ， 則 畫 出 兩 個 圖 形 框        \n",
    "        for key in kwargs:\n",
    "            if key=='title':\n",
    "                ax2.set_title(kwargs[key])\n",
    "            if key=='ylabel':\n",
    "                ax2.set_ylabel(kwargs[key])\n",
    "            if key=='grid':\n",
    "                ax2.grid(kwargs[key])\n",
    "            if key=='Data':\n",
    "                plt.sca(ax)\n",
    "                if flag:\n",
    "                    plt.sca(ax2)\n",
    "                    \n",
    "                #一維數據\n",
    "                if kwargs[key].ndim==1:\n",
    "                    plt.plot(kwargs[key],\\\n",
    "                             color='k',\\\n",
    "                             label=kwargs[key].name)\n",
    "                    plt.legend(loc='best')\n",
    "                #二維數據有兩個columns\n",
    "                elif all([kwargs[key].ndim==2,\\\n",
    "                          len(kwargs[key].columns)==2]):\n",
    "                    plt.plot(kwargs[key].iloc[:,0], color='k', \n",
    "                             label=kwargs[key].iloc[:,0].name)\n",
    "                    plt.plot(kwargs[key].iloc[:,1],\\\n",
    "                             linestyle='dashed',\\\n",
    "                             label=kwargs[key].iloc[:,1].name)\n",
    "                    plt.legend(loc='best')\n",
    "    \n",
    "    mondays = WeekdayLocator(MONDAY)\n",
    "    weekFormatter = DateFormatter('%y %b %d')\n",
    "    ax.xaxis.set_major_locator(mondays)\n",
    "    ax.xaxis.set_minor_locator(DayLocator())\n",
    "    ax.xaxis.set_major_formatter(weekFormatter)\n",
    "    plt.sca(ax)\n",
    "    \n",
    "    candlestick_ohlc(ax,listData, width=0.7,\\\n",
    "                     colorup='r',colordown='g')\n",
    "    ax.set_title(candleTitle)\n",
    "    plt.setp(ax.get_xticklabels(),\\\n",
    "             rotation=20,\\\n",
    "             horizontalalignment='center')\n",
    "    ax.autoscale_view()   \n",
    "    return(plt.show())\n",
    "                "
   ]
  },
  {
   "cell_type": "code",
   "execution_count": 15,
   "metadata": {},
   "outputs": [],
   "source": [
    "def candlePlot(seriesData,title=\"a\"):\n",
    "\t#設定日期格式\n",
    "    Date=[date2num(date) for date in seriesData.index]\n",
    "    seriesData.loc[:,'Date']=Date\n",
    "    listData=[]\n",
    "    for i in range(len(seriesData)):\n",
    "        a=[seriesData.Date[i],\\\n",
    "        seriesData.Open[i],seriesData.High[i],\\\n",
    "        seriesData.Low[i],seriesData.Close[i]]\n",
    "        listData.append(a)\n",
    "\n",
    "\t#設定繪圖相關參數\n",
    "    ax = plt.subplot()\n",
    "    mondays = WeekdayLocator(MONDAY)\n",
    "    #日期格式為‘15-Mar-09’形式\n",
    "    weekFormatter = DateFormatter('%y %b %d')\n",
    "    ax.xaxis.set_major_locator(mondays)\n",
    "    ax.xaxis.set_minor_locator(DayLocator())\n",
    "    ax.xaxis.set_major_formatter(weekFormatter)\n",
    "\n",
    "\t#調用candlestick_ohlc函數\n",
    "    candlestick_ohlc(ax,listData, width=0.7,\\\n",
    "                     colorup='r',colordown='g')\n",
    "    ax.set_title(title) #設定標題\n",
    "    #設定x軸日期顯示角度\n",
    "    plt.setp(plt.gca().get_xticklabels(), \\\n",
    "    rotation=50,horizontalalignment='center')\n",
    "    return(plt.show())\n",
    "\n",
    "#蠟燭圖與線圖\n",
    "def candleLinePlots(candleData, candleTitle='a', **kwargs):\n",
    "    Date = [date2num(date) for date in candleData.index]\n",
    "    candleData.loc[:,'Date'] = Date\n",
    "    listData = []\n",
    "    \n",
    "    for i in range(len(candleData)):\n",
    "        a = [candleData.Date[i],\\\n",
    "            candleData.Open[i],candleData.High[i],\\\n",
    "            candleData.Low[i],candleData.Close[i]]\n",
    "        listData.append(a)\n",
    "    # 如 果 不 定 長 參 數 無 取 值 ， 只 畫 蠟 燭 圖\n",
    "    ax = plt.subplot()\n",
    "    \n",
    "    # 如 果 不 定 長 參 數 有 值 ， 則 分 成 兩 個 子 圖\n",
    "    flag=0\n",
    "    if kwargs:\n",
    "        if kwargs['splitFigures']:\n",
    "            ax = plt.subplot(211)\n",
    "            ax2= plt.subplot(212)\n",
    "            flag=1;        \n",
    "        for key in kwargs:\n",
    "            if key=='title':\n",
    "                ax2.set_title(kwargs[key])\n",
    "            if key=='ylabel':\n",
    "                ax2.set_ylabel(kwargs[key])\n",
    "            if key=='grid':\n",
    "                ax2.grid(kwargs[key])\n",
    "            if key=='Data':\n",
    "                plt.sca(ax)\n",
    "                if flag:\n",
    "                    plt.sca(ax2)\n",
    "                    \n",
    "                #一維數據\n",
    "                if kwargs[key].ndim==1:\n",
    "                    plt.plot(kwargs[key],\\\n",
    "                             color='k',\\\n",
    "                             label=kwargs[key].name)\n",
    "                    plt.legend(loc='best')\n",
    "                #二維數據有兩個columns\n",
    "                elif all([kwargs[key].ndim==2,\\\n",
    "                          len(kwargs[key].columns)==2]):\n",
    "                    plt.plot(kwargs[key].iloc[:,0], color='k', \n",
    "                             label=kwargs[key].iloc[:,0].name)\n",
    "                    plt.plot(kwargs[key].iloc[:,1],\\\n",
    "                             linestyle='dashed',\\\n",
    "                             label=kwargs[key].iloc[:,1].name)\n",
    "                    plt.legend(loc='best')\n",
    "    \n",
    "    mondays = WeekdayLocator(MONDAY)\n",
    "    weekFormatter = DateFormatter('%y %b %d')\n",
    "    ax.xaxis.set_major_locator(mondays)\n",
    "    ax.xaxis.set_minor_locator(DayLocator())\n",
    "    ax.xaxis.set_major_formatter(weekFormatter)\n",
    "    plt.sca(ax)\n",
    "    candlestick_ohlc(ax,listData, width=0.7,\\\n",
    "                     colorup='r',colordown='g')\n",
    "    ax.set_title(candleTitle)\n",
    "    plt.setp(ax.get_xticklabels(),\\\n",
    "             rotation=20,\\\n",
    "             horizontalalignment='center')\n",
    "    ax.autoscale_view()\n",
    "    \n",
    "    return(plt.show())"
   ]
  },
  {
   "cell_type": "code",
   "execution_count": 16,
   "metadata": {},
   "outputs": [
    {
     "name": "stderr",
     "output_type": "stream",
     "text": [
      "findfont: Font family ['sans-serif'] not found. Falling back to DejaVu Sans.\n",
      "findfont: Generic family 'sans-serif' not found because none of the following families were found: SimHei\n",
      "findfont: Font family ['sans-serif'] not found. Falling back to DejaVu Sans.\n",
      "findfont: Generic family 'sans-serif' not found because none of the following families were found: SimHei\n"
     ]
    },
    {
     "data": {
      "image/png": "[encoded data removed]",
      "text/plain": [
       "<Figure size 432x288 with 2 Axes>"
      ]
     },
     "metadata": {
      "needs_background": "light"
     },
     "output_type": "display_data"
    }
   ],
   "source": [
    "Foxconn15=Foxconn['2015']\n",
    "candleLinePlots(Foxconn15,\\\n",
    "               candleTitle='2015 daily K candlesticks',\\\n",
    "               splitFigures=True,Data=momen6['2015'],\\\n",
    "               title='6Mon',ylabel='35Mon')"
   ]
  },
  {
   "cell_type": "markdown",
   "metadata": {},
   "source": [
    "### 動能交易策略"
   ]
  },
  {
   "cell_type": "code",
   "execution_count": 17,
   "metadata": {},
   "outputs": [
    {
     "data": {
      "text/plain": [
       "0.45595854922279794"
      ]
     },
     "execution_count": 17,
     "metadata": {},
     "output_type": "execute_result"
    }
   ],
   "source": [
    "signal=[1 if momen6Value>0 else -1 for momen6Value in momen6]\n",
    "signal=pd.Series(signal,index=momen6.index)\n",
    "signal.head()\n",
    "\n",
    "tradeSig = signal.shift(1)\n",
    "ret=Close/Close.shift(1)-1\n",
    "Mom6Ret=(ret*(signal.shift(1))).dropna()\n",
    "Mom6Ret[:5]\n",
    "\n",
    "win=Mom6Ret[Mom6Ret>0]\n",
    "winrate=len(win)/len(Mom6Ret)\n",
    "winrate"
   ]
  },
  {
   "cell_type": "code",
   "execution_count": 18,
   "metadata": {},
   "outputs": [
    {
     "data": {
      "image/png": "[encoded data removed]",
      "text/plain": [
       "<Figure size 432x288 with 2 Axes>"
      ]
     },
     "metadata": {
      "needs_background": "light"
     },
     "output_type": "display_data"
    }
   ],
   "source": [
    "plt.subplot(2,1,1)\n",
    "plt.plot(ret[Mom6Ret.index],'b')\n",
    "plt.ylabel('return')\n",
    "plt.title('鴻海收益率時序圖')\n",
    "\n",
    "plt.subplot(2,1,2)\n",
    "plt.plot(Mom6Ret,'r')\n",
    "plt.ylabel('Mom6Ret')\n",
    "plt.title('鴻海動量交易收益率時序圖')\n",
    "plt.show()"
   ]
  },
  {
   "cell_type": "code",
   "execution_count": 19,
   "metadata": {},
   "outputs": [],
   "source": [
    "loss=-Mom6Ret[Mom6Ret<0]"
   ]
  },
  {
   "cell_type": "code",
   "execution_count": 20,
   "metadata": {},
   "outputs": [
    {
     "data": {
      "image/png": "[encoded data removed]",
      "text/plain": [
       "<Figure size 432x288 with 2 Axes>"
      ]
     },
     "metadata": {
      "needs_background": "light"
     },
     "output_type": "display_data"
    }
   ],
   "source": [
    "plt.subplot(2,1,1)\n",
    "win.hist()\n",
    "plt.title(\"盈利直方圖\")\n",
    "plt.subplot(2,1,2)\n",
    "loss.hist()\n",
    "plt.title(\"損失直方圖\")\n",
    "plt.show()"
   ]
  },
  {
   "cell_type": "code",
   "execution_count": 21,
   "metadata": {},
   "outputs": [
    {
     "data": {
      "text/html": [
       "<div>\n",
       "<style scoped>\n",
       "    .dataframe tbody tr th:only-of-type {\n",
       "        vertical-align: middle;\n",
       "    }\n",
       "\n",
       "    .dataframe tbody tr th {\n",
       "        vertical-align: top;\n",
       "    }\n",
       "\n",
       "    .dataframe thead th {\n",
       "        text-align: right;\n",
       "    }\n",
       "</style>\n",
       "<table border=\"1\" class=\"dataframe\">\n",
       "  <thead>\n",
       "    <tr style=\"text-align: right;\">\n",
       "      <th></th>\n",
       "      <th>win</th>\n",
       "      <th>loss</th>\n",
       "    </tr>\n",
       "  </thead>\n",
       "  <tbody>\n",
       "    <tr>\n",
       "      <th>count</th>\n",
       "      <td>176.000000</td>\n",
       "      <td>187.000000</td>\n",
       "    </tr>\n",
       "    <tr>\n",
       "      <th>mean</th>\n",
       "      <td>0.010175</td>\n",
       "      <td>0.010890</td>\n",
       "    </tr>\n",
       "    <tr>\n",
       "      <th>std</th>\n",
       "      <td>0.008437</td>\n",
       "      <td>0.009372</td>\n",
       "    </tr>\n",
       "    <tr>\n",
       "      <th>min</th>\n",
       "      <td>0.001043</td>\n",
       "      <td>0.001040</td>\n",
       "    </tr>\n",
       "    <tr>\n",
       "      <th>25%</th>\n",
       "      <td>0.004028</td>\n",
       "      <td>0.003722</td>\n",
       "    </tr>\n",
       "    <tr>\n",
       "      <th>50%</th>\n",
       "      <td>0.008357</td>\n",
       "      <td>0.008206</td>\n",
       "    </tr>\n",
       "    <tr>\n",
       "      <th>75%</th>\n",
       "      <td>0.012956</td>\n",
       "      <td>0.015179</td>\n",
       "    </tr>\n",
       "    <tr>\n",
       "      <th>max</th>\n",
       "      <td>0.045957</td>\n",
       "      <td>0.047349</td>\n",
       "    </tr>\n",
       "  </tbody>\n",
       "</table>\n",
       "</div>"
      ],
      "text/plain": [
       "              win        loss\n",
       "count  176.000000  187.000000\n",
       "mean     0.010175    0.010890\n",
       "std      0.008437    0.009372\n",
       "min      0.001043    0.001040\n",
       "25%      0.004028    0.003722\n",
       "50%      0.008357    0.008206\n",
       "75%      0.012956    0.015179\n",
       "max      0.045957    0.047349"
      ]
     },
     "execution_count": 21,
     "metadata": {},
     "output_type": "execute_result"
    }
   ],
   "source": [
    "performance=pd.DataFrame({\"win\":win.describe(),\\\n",
    "\"loss\":loss.describe()})\n",
    "\n",
    "performance"
   ]
  },
  {
   "cell_type": "markdown",
   "metadata": {},
   "source": [
    "# (a、b) 30日動量值"
   ]
  },
  {
   "cell_type": "code",
   "execution_count": 22,
   "metadata": {},
   "outputs": [],
   "source": [
    "lag30Close=Close.shift(30)"
   ]
  },
  {
   "cell_type": "code",
   "execution_count": 23,
   "metadata": {},
   "outputs": [
    {
     "data": {
      "text/plain": [
       "Date\n",
       "2016-12-26    4.3\n",
       "2016-12-27    4.5\n",
       "2016-12-28    5.0\n",
       "2016-12-29    3.0\n",
       "2016-12-30    3.3\n",
       "Name: Close, dtype: float64"
      ]
     },
     "execution_count": 23,
     "metadata": {},
     "output_type": "execute_result"
    }
   ],
   "source": [
    "momentum30=Close-lag30Close\n",
    "momentum30.tail()"
   ]
  },
  {
   "cell_type": "code",
   "execution_count": 24,
   "metadata": {},
   "outputs": [
    {
     "data": {
      "image/png": "[encoded data removed]",
      "text/plain": [
       "<Figure size 432x288 with 2 Axes>"
      ]
     },
     "metadata": {
      "needs_background": "light"
     },
     "output_type": "display_data"
    }
   ],
   "source": [
    "#plot\n",
    "plt.subplot(211)\n",
    "plt.plot(Close['2016-08-01':'2016-12-31'],'b*')\n",
    "plt.xlabel('date')\n",
    "plt.ylabel('Close')\n",
    "plt.title('Close price and Momentum5')\n",
    "plt.subplot(212)\n",
    "plt.plot(momentum30['2016-08-01':'2016-12-31'],'r-*')\n",
    "plt.xlabel('date')\n",
    "plt.ylabel('Momentum30')\n",
    "plt.show()"
   ]
  },
  {
   "cell_type": "code",
   "execution_count": 25,
   "metadata": {},
   "outputs": [
    {
     "data": {
      "text/plain": [
       "Date\n",
       "2015-07-15   -0.016494\n",
       "2015-07-16   -0.018475\n",
       "2015-07-17   -0.019541\n",
       "2015-07-20    0.006419\n",
       "2015-07-21    0.021171\n",
       "2015-07-22   -0.001065\n",
       "2015-07-23   -0.029013\n",
       "2015-07-24   -0.053397\n",
       "2015-07-27   -0.059491\n",
       "2015-07-28   -0.052674\n",
       "2015-07-29   -0.026616\n",
       "2015-07-30   -0.041056\n",
       "2015-07-31   -0.039218\n",
       "2015-08-03   -0.057040\n",
       "2015-08-04   -0.079173\n",
       "2015-08-05   -0.083420\n",
       "2015-08-06   -0.093216\n",
       "2015-08-07   -0.106063\n",
       "2015-08-10   -0.107771\n",
       "2015-08-11   -0.086594\n",
       "2015-08-12   -0.108260\n",
       "2015-08-13   -0.108059\n",
       "2015-08-14   -0.094907\n",
       "2015-08-17   -0.093506\n",
       "2015-08-18   -0.083060\n",
       "2015-08-19   -0.094545\n",
       "2015-08-20   -0.075020\n",
       "2015-08-21   -0.084562\n",
       "2015-08-24   -0.151714\n",
       "2015-08-25   -0.102349\n",
       "Name: Close, dtype: float64"
      ]
     },
     "execution_count": 25,
     "metadata": {},
     "output_type": "execute_result"
    }
   ],
   "source": [
    "#divide\n",
    "Momen30=Close/lag30Close-1\n",
    "Momen30=Momen30.dropna();\n",
    "Momen30[:30]"
   ]
  },
  {
   "cell_type": "code",
   "execution_count": 26,
   "metadata": {},
   "outputs": [
    {
     "data": {
      "text/plain": [
       "Date\n",
       "2015-07-15   -0.016494\n",
       "2015-07-16   -0.018475\n",
       "2015-07-17   -0.019541\n",
       "2015-07-20    0.006419\n",
       "2015-07-21    0.021171\n",
       "2015-07-22   -0.001065\n",
       "2015-07-23   -0.029013\n",
       "2015-07-24   -0.053397\n",
       "2015-07-27   -0.059491\n",
       "2015-07-28   -0.052674\n",
       "2015-07-29   -0.026616\n",
       "2015-07-30   -0.041056\n",
       "2015-07-31   -0.039218\n",
       "2015-08-03   -0.057040\n",
       "2015-08-04   -0.079173\n",
       "2015-08-05   -0.083420\n",
       "2015-08-06   -0.093216\n",
       "2015-08-07   -0.106063\n",
       "2015-08-10   -0.107771\n",
       "2015-08-11   -0.086594\n",
       "2015-08-12   -0.108260\n",
       "2015-08-13   -0.108059\n",
       "2015-08-14   -0.094907\n",
       "2015-08-17   -0.093506\n",
       "2015-08-18   -0.083060\n",
       "2015-08-19   -0.094545\n",
       "2015-08-20   -0.075020\n",
       "2015-08-21   -0.084562\n",
       "2015-08-24   -0.151714\n",
       "2015-08-25   -0.102349\n",
       "Name: Close, dtype: float64"
      ]
     },
     "execution_count": 26,
     "metadata": {},
     "output_type": "execute_result"
    }
   ],
   "source": [
    "#divide\n",
    "Momen30=Close/lag30Close-1\n",
    "Momen30=Momen30.dropna();\n",
    "Momen30[:30]"
   ]
  },
  {
   "cell_type": "code",
   "execution_count": 27,
   "metadata": {},
   "outputs": [
    {
     "data": {
      "text/plain": [
       "Date\n",
       "2016-12-26    0.5\n",
       "2016-12-27   -0.2\n",
       "2016-12-28    0.7\n",
       "2016-12-29    0.8\n",
       "2016-12-30    1.5\n",
       "Name: Close, dtype: float64"
      ]
     },
     "execution_count": 27,
     "metadata": {},
     "output_type": "execute_result"
    }
   ],
   "source": [
    "momentum(Close,5).tail(n=5)"
   ]
  },
  {
   "cell_type": "code",
   "execution_count": 28,
   "metadata": {},
   "outputs": [],
   "source": [
    "momen30=momentum(Close,30)"
   ]
  },
  {
   "cell_type": "code",
   "execution_count": 29,
   "metadata": {},
   "outputs": [
    {
     "data": {
      "image/png": "[encoded data removed]",
      "text/plain": [
       "<Figure size 432x288 with 2 Axes>"
      ]
     },
     "metadata": {
      "needs_background": "light"
     },
     "output_type": "display_data"
    }
   ],
   "source": [
    "Foxconn15=Foxconn['2015']\n",
    "candleLinePlots(Foxconn15,\\\n",
    "               candleTitle='2015 daily K candlesticks',\\\n",
    "               splitFigures=True,Data=momen30['2015'],\\\n",
    "               title='30Mon',ylabel='30Mon')"
   ]
  },
  {
   "cell_type": "markdown",
   "metadata": {},
   "source": [
    "### 動能交易策略"
   ]
  },
  {
   "cell_type": "code",
   "execution_count": 30,
   "metadata": {},
   "outputs": [
    {
     "data": {
      "text/plain": [
       "0.511049723756906"
      ]
     },
     "execution_count": 30,
     "metadata": {},
     "output_type": "execute_result"
    }
   ],
   "source": [
    "signal=[1 if momen30Value>0 else -1 for momen30Value in momen30]\n",
    "signal=pd.Series(signal,index=momen30.index)\n",
    "signal.head()\n",
    "\n",
    "tradeSig = signal.shift(1)\n",
    "ret=Close/Close.shift(1)-1\n",
    "Mom30Ret=(ret*(signal.shift(1))).dropna()\n",
    "Mom30Ret[:5]\n",
    "\n",
    "win=Mom30Ret[Mom30Ret>0]\n",
    "winrate=len(win)/len(Mom30Ret)\n",
    "winrate"
   ]
  },
  {
   "cell_type": "code",
   "execution_count": 31,
   "metadata": {},
   "outputs": [
    {
     "data": {
      "image/png": "[encoded data removed]",
      "text/plain": [
       "<Figure size 432x288 with 2 Axes>"
      ]
     },
     "metadata": {
      "needs_background": "light"
     },
     "output_type": "display_data"
    }
   ],
   "source": [
    "plt.subplot(2,1,1)\n",
    "plt.plot(ret[Mom30Ret.index],'b')\n",
    "plt.ylabel('return')\n",
    "plt.title('鴻海收益率時序圖')\n",
    "\n",
    "plt.subplot(2,1,2)\n",
    "plt.plot(Mom30Ret,'r')\n",
    "plt.ylabel('Mom30Ret')\n",
    "plt.title('鴻海動量交易收益率時序圖')\n",
    "plt.show()"
   ]
  },
  {
   "cell_type": "code",
   "execution_count": 32,
   "metadata": {},
   "outputs": [],
   "source": [
    "loss=-Mom30Ret[Mom30Ret<0]"
   ]
  },
  {
   "cell_type": "code",
   "execution_count": 33,
   "metadata": {},
   "outputs": [
    {
     "data": {
      "image/png": "[encoded data removed]",
      "text/plain": [
       "<Figure size 432x288 with 2 Axes>"
      ]
     },
     "metadata": {
      "needs_background": "light"
     },
     "output_type": "display_data"
    }
   ],
   "source": [
    "plt.subplot(2,1,1)\n",
    "win.hist()\n",
    "plt.title(\"盈利直方圖\")\n",
    "plt.subplot(2,1,2)\n",
    "loss.hist()\n",
    "plt.title(\"損失直方圖\")\n",
    "plt.show()"
   ]
  },
  {
   "cell_type": "code",
   "execution_count": 34,
   "metadata": {},
   "outputs": [
    {
     "data": {
      "text/html": [
       "<div>\n",
       "<style scoped>\n",
       "    .dataframe tbody tr th:only-of-type {\n",
       "        vertical-align: middle;\n",
       "    }\n",
       "\n",
       "    .dataframe tbody tr th {\n",
       "        vertical-align: top;\n",
       "    }\n",
       "\n",
       "    .dataframe thead th {\n",
       "        text-align: right;\n",
       "    }\n",
       "</style>\n",
       "<table border=\"1\" class=\"dataframe\">\n",
       "  <thead>\n",
       "    <tr style=\"text-align: right;\">\n",
       "      <th></th>\n",
       "      <th>win</th>\n",
       "      <th>loss</th>\n",
       "    </tr>\n",
       "  </thead>\n",
       "  <tbody>\n",
       "    <tr>\n",
       "      <th>count</th>\n",
       "      <td>185.000000</td>\n",
       "      <td>155.000000</td>\n",
       "    </tr>\n",
       "    <tr>\n",
       "      <th>mean</th>\n",
       "      <td>0.009788</td>\n",
       "      <td>0.011266</td>\n",
       "    </tr>\n",
       "    <tr>\n",
       "      <th>std</th>\n",
       "      <td>0.008101</td>\n",
       "      <td>0.009754</td>\n",
       "    </tr>\n",
       "    <tr>\n",
       "      <th>min</th>\n",
       "      <td>0.001122</td>\n",
       "      <td>0.001111</td>\n",
       "    </tr>\n",
       "    <tr>\n",
       "      <th>25%</th>\n",
       "      <td>0.003828</td>\n",
       "      <td>0.003855</td>\n",
       "    </tr>\n",
       "    <tr>\n",
       "      <th>50%</th>\n",
       "      <td>0.007398</td>\n",
       "      <td>0.008610</td>\n",
       "    </tr>\n",
       "    <tr>\n",
       "      <th>75%</th>\n",
       "      <td>0.012953</td>\n",
       "      <td>0.015401</td>\n",
       "    </tr>\n",
       "    <tr>\n",
       "      <th>max</th>\n",
       "      <td>0.045522</td>\n",
       "      <td>0.047349</td>\n",
       "    </tr>\n",
       "  </tbody>\n",
       "</table>\n",
       "</div>"
      ],
      "text/plain": [
       "              win        loss\n",
       "count  185.000000  155.000000\n",
       "mean     0.009788    0.011266\n",
       "std      0.008101    0.009754\n",
       "min      0.001122    0.001111\n",
       "25%      0.003828    0.003855\n",
       "50%      0.007398    0.008610\n",
       "75%      0.012953    0.015401\n",
       "max      0.045522    0.047349"
      ]
     },
     "execution_count": 34,
     "metadata": {},
     "output_type": "execute_result"
    }
   ],
   "source": [
    "performance=pd.DataFrame({\"win\":win.describe(),\\\n",
    "\"loss\":loss.describe()})\n",
    "\n",
    "performance"
   ]
  },
  {
   "cell_type": "markdown",
   "metadata": {},
   "source": [
    "# (a、b) 90日動量值"
   ]
  },
  {
   "cell_type": "code",
   "execution_count": 35,
   "metadata": {},
   "outputs": [],
   "source": [
    "lag90Close=Close.shift(90)"
   ]
  },
  {
   "cell_type": "code",
   "execution_count": 36,
   "metadata": {},
   "outputs": [
    {
     "data": {
      "text/plain": [
       "Date\n",
       "2016-12-26     8.53\n",
       "2016-12-27     9.77\n",
       "2016-12-28     9.66\n",
       "2016-12-29     9.61\n",
       "2016-12-30    10.12\n",
       "Name: Close, dtype: float64"
      ]
     },
     "execution_count": 36,
     "metadata": {},
     "output_type": "execute_result"
    }
   ],
   "source": [
    "momentum90=Close-lag90Close\n",
    "momentum90.tail()"
   ]
  },
  {
   "cell_type": "code",
   "execution_count": 37,
   "metadata": {},
   "outputs": [
    {
     "data": {
      "image/png": "[encoded data removed]",
      "text/plain": [
       "<Figure size 432x288 with 2 Axes>"
      ]
     },
     "metadata": {
      "needs_background": "light"
     },
     "output_type": "display_data"
    }
   ],
   "source": [
    "#plot\n",
    "plt.subplot(211)\n",
    "plt.plot(Close['2016-08-01':'2016-12-31'],'b*')\n",
    "plt.xlabel('date')\n",
    "plt.ylabel('Close')\n",
    "plt.title('Close price and Momentum90')\n",
    "plt.subplot(212)\n",
    "plt.plot(momentum90['2016-08-01':'2016-12-31'],'r-*')\n",
    "plt.xlabel('date')\n",
    "plt.ylabel('Momentum90')\n",
    "plt.show()"
   ]
  },
  {
   "cell_type": "code",
   "execution_count": 38,
   "metadata": {},
   "outputs": [
    {
     "data": {
      "text/plain": [
       "Date\n",
       "2015-10-12   -0.007532\n",
       "2015-10-13   -0.019380\n",
       "2015-10-14   -0.027097\n",
       "2015-10-15    0.005616\n",
       "2015-10-16    0.020501\n",
       "                ...   \n",
       "2016-02-17   -0.105058\n",
       "2016-02-18   -0.096515\n",
       "2016-02-19   -0.112223\n",
       "2016-02-22   -0.117405\n",
       "2016-02-23   -0.111835\n",
       "Name: Close, Length: 90, dtype: float64"
      ]
     },
     "execution_count": 38,
     "metadata": {},
     "output_type": "execute_result"
    }
   ],
   "source": [
    "#divide\n",
    "Momen90=Close/lag90Close-1\n",
    "Momen90=Momen90.dropna();\n",
    "Momen90[:90]"
   ]
  },
  {
   "cell_type": "code",
   "execution_count": 39,
   "metadata": {},
   "outputs": [
    {
     "data": {
      "text/plain": [
       "Date\n",
       "2015-10-12   -0.007532\n",
       "2015-10-13   -0.019380\n",
       "2015-10-14   -0.027097\n",
       "2015-10-15    0.005616\n",
       "2015-10-16    0.020501\n",
       "                ...   \n",
       "2016-02-17   -0.105058\n",
       "2016-02-18   -0.096515\n",
       "2016-02-19   -0.112223\n",
       "2016-02-22   -0.117405\n",
       "2016-02-23   -0.111835\n",
       "Name: Close, Length: 90, dtype: float64"
      ]
     },
     "execution_count": 39,
     "metadata": {},
     "output_type": "execute_result"
    }
   ],
   "source": [
    "#divide\n",
    "Momen90=Close/lag90Close-1\n",
    "Momen90=Momen90.dropna();\n",
    "Momen90[:90]"
   ]
  },
  {
   "cell_type": "code",
   "execution_count": 40,
   "metadata": {},
   "outputs": [
    {
     "data": {
      "text/plain": [
       "Date\n",
       "2016-12-26    0.5\n",
       "2016-12-27   -0.2\n",
       "2016-12-28    0.7\n",
       "2016-12-29    0.8\n",
       "2016-12-30    1.5\n",
       "Name: Close, dtype: float64"
      ]
     },
     "execution_count": 40,
     "metadata": {},
     "output_type": "execute_result"
    }
   ],
   "source": [
    "momentum(Close,5).tail(n=5)"
   ]
  },
  {
   "cell_type": "code",
   "execution_count": 41,
   "metadata": {},
   "outputs": [],
   "source": [
    "momen90=momentum(Close,90)"
   ]
  },
  {
   "cell_type": "code",
   "execution_count": 42,
   "metadata": {},
   "outputs": [
    {
     "data": {
      "image/png": "[encoded data removed]",
      "text/plain": [
       "<Figure size 432x288 with 2 Axes>"
      ]
     },
     "metadata": {
      "needs_background": "light"
     },
     "output_type": "display_data"
    }
   ],
   "source": [
    "Foxconn15=Foxconn['2015']\n",
    "candleLinePlots(Foxconn15,\\\n",
    "               candleTitle='2015 daily K candlesticks',\\\n",
    "               splitFigures=True,Data=momen90['2015'],\\\n",
    "               title='90Mon',ylabel='90Mon')"
   ]
  },
  {
   "cell_type": "markdown",
   "metadata": {},
   "source": [
    "### 動能交易策略"
   ]
  },
  {
   "cell_type": "code",
   "execution_count": 43,
   "metadata": {},
   "outputs": [
    {
     "data": {
      "text/plain": [
       "0.5132450331125827"
      ]
     },
     "execution_count": 43,
     "metadata": {},
     "output_type": "execute_result"
    }
   ],
   "source": [
    "signal=[1 if momen90Value>0 else -1 for momen90Value in momen90]\n",
    "signal=pd.Series(signal,index=momen90.index)\n",
    "signal.head()\n",
    "\n",
    "tradeSig = signal.shift(1)\n",
    "ret=Close/Close.shift(1)-1\n",
    "Mom90Ret=(ret*(signal.shift(1))).dropna()\n",
    "Mom90Ret[:5]\n",
    "\n",
    "win=Mom90Ret[Mom90Ret>0]\n",
    "winrate=len(win)/len(Mom90Ret)\n",
    "winrate"
   ]
  },
  {
   "cell_type": "code",
   "execution_count": 44,
   "metadata": {},
   "outputs": [
    {
     "data": {
      "image/png": "[encoded data removed]",
      "text/plain": [
       "<Figure size 432x288 with 2 Axes>"
      ]
     },
     "metadata": {
      "needs_background": "light"
     },
     "output_type": "display_data"
    }
   ],
   "source": [
    "plt.subplot(2,1,1)\n",
    "plt.plot(ret[Mom90Ret.index],'b')\n",
    "plt.ylabel('return')\n",
    "plt.title('鴻海收益率時序圖')\n",
    "\n",
    "plt.subplot(2,1,2)\n",
    "plt.plot(Mom90Ret,'r')\n",
    "plt.ylabel('Mom90Ret')\n",
    "plt.title('鴻海動量交易收益率時序圖')\n",
    "plt.show()"
   ]
  },
  {
   "cell_type": "code",
   "execution_count": 45,
   "metadata": {},
   "outputs": [],
   "source": [
    "loss=-Mom90Ret[Mom90Ret<0]"
   ]
  },
  {
   "cell_type": "code",
   "execution_count": 46,
   "metadata": {},
   "outputs": [
    {
     "data": {
      "image/png": "[encoded data removed]",
      "text/plain": [
       "<Figure size 432x288 with 2 Axes>"
      ]
     },
     "metadata": {
      "needs_background": "light"
     },
     "output_type": "display_data"
    }
   ],
   "source": [
    "plt.subplot(2,1,1)\n",
    "win.hist()\n",
    "plt.title(\"盈利直方圖\")\n",
    "plt.subplot(2,1,2)\n",
    "loss.hist()\n",
    "plt.title(\"損失直方圖\")\n",
    "plt.show()"
   ]
  },
  {
   "cell_type": "code",
   "execution_count": 47,
   "metadata": {},
   "outputs": [
    {
     "data": {
      "text/html": [
       "<div>\n",
       "<style scoped>\n",
       "    .dataframe tbody tr th:only-of-type {\n",
       "        vertical-align: middle;\n",
       "    }\n",
       "\n",
       "    .dataframe tbody tr th {\n",
       "        vertical-align: top;\n",
       "    }\n",
       "\n",
       "    .dataframe thead th {\n",
       "        text-align: right;\n",
       "    }\n",
       "</style>\n",
       "<table border=\"1\" class=\"dataframe\">\n",
       "  <thead>\n",
       "    <tr style=\"text-align: right;\">\n",
       "      <th></th>\n",
       "      <th>win</th>\n",
       "      <th>loss</th>\n",
       "    </tr>\n",
       "  </thead>\n",
       "  <tbody>\n",
       "    <tr>\n",
       "      <th>count</th>\n",
       "      <td>155.000000</td>\n",
       "      <td>131.000000</td>\n",
       "    </tr>\n",
       "    <tr>\n",
       "      <th>mean</th>\n",
       "      <td>0.009419</td>\n",
       "      <td>0.010826</td>\n",
       "    </tr>\n",
       "    <tr>\n",
       "      <th>std</th>\n",
       "      <td>0.006892</td>\n",
       "      <td>0.009139</td>\n",
       "    </tr>\n",
       "    <tr>\n",
       "      <th>min</th>\n",
       "      <td>0.001154</td>\n",
       "      <td>0.001140</td>\n",
       "    </tr>\n",
       "    <tr>\n",
       "      <th>25%</th>\n",
       "      <td>0.003770</td>\n",
       "      <td>0.003990</td>\n",
       "    </tr>\n",
       "    <tr>\n",
       "      <th>50%</th>\n",
       "      <td>0.007541</td>\n",
       "      <td>0.008254</td>\n",
       "    </tr>\n",
       "    <tr>\n",
       "      <th>75%</th>\n",
       "      <td>0.013217</td>\n",
       "      <td>0.013869</td>\n",
       "    </tr>\n",
       "    <tr>\n",
       "      <th>max</th>\n",
       "      <td>0.038760</td>\n",
       "      <td>0.045957</td>\n",
       "    </tr>\n",
       "  </tbody>\n",
       "</table>\n",
       "</div>"
      ],
      "text/plain": [
       "              win        loss\n",
       "count  155.000000  131.000000\n",
       "mean     0.009419    0.010826\n",
       "std      0.006892    0.009139\n",
       "min      0.001154    0.001140\n",
       "25%      0.003770    0.003990\n",
       "50%      0.007541    0.008254\n",
       "75%      0.013217    0.013869\n",
       "max      0.038760    0.045957"
      ]
     },
     "execution_count": 47,
     "metadata": {},
     "output_type": "execute_result"
    }
   ],
   "source": [
    "performance=pd.DataFrame({\"win\":win.describe(),\\\n",
    "\"loss\":loss.describe()})\n",
    "\n",
    "performance"
   ]
  }
 ],
 "metadata": {
  "kernelspec": {
   "display_name": "Python 3",
   "language": "python",
   "name": "python3"
  },
  "language_info": {
   "codemirror_mode": {
    "name": "ipython",
    "version": 3
   },
   "file_extension": ".py",
   "mimetype": "text/x-python",
   "name": "python",
   "nbconvert_exporter": "python",
   "pygments_lexer": "ipython3",
   "version": "3.7.9"
  }
 },
 "nbformat": 4,
 "nbformat_minor": 4
}
