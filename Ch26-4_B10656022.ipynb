{
 "cells": [
  {
   "cell_type": "markdown",
   "metadata": {},
   "source": [
    "# 使用Google股票月度收益率資料分析"
   ]
  },
  {
   "cell_type": "code",
   "execution_count": 1,
   "metadata": {},
   "outputs": [],
   "source": [
    "import pandas as pd\n",
    "from statsmodels.graphics.tsaplots import *\n",
    "from statsmodels.tsa import stattools\n",
    "import matplotlib.pyplot as plt\n",
    "import numpy as np\n",
    "from arch import arch_model"
   ]
  },
  {
   "cell_type": "code",
   "execution_count": 2,
   "metadata": {},
   "outputs": [
    {
     "data": {
      "text/html": [
       "<div>\n",
       "<style scoped>\n",
       "    .dataframe tbody tr th:only-of-type {\n",
       "        vertical-align: middle;\n",
       "    }\n",
       "\n",
       "    .dataframe tbody tr th {\n",
       "        vertical-align: top;\n",
       "    }\n",
       "\n",
       "    .dataframe thead th {\n",
       "        text-align: right;\n",
       "    }\n",
       "</style>\n",
       "<table border=\"1\" class=\"dataframe\">\n",
       "  <thead>\n",
       "    <tr style=\"text-align: right;\">\n",
       "      <th></th>\n",
       "      <th>CO_ID</th>\n",
       "      <th>CoName</th>\n",
       "      <th>Date</th>\n",
       "      <th>ROI</th>\n",
       "    </tr>\n",
       "    <tr>\n",
       "      <th>Date</th>\n",
       "      <th></th>\n",
       "      <th></th>\n",
       "      <th></th>\n",
       "      <th></th>\n",
       "    </tr>\n",
       "  </thead>\n",
       "  <tbody>\n",
       "    <tr>\n",
       "      <th>2014-01-02</th>\n",
       "      <td>Y9999</td>\n",
       "      <td>TSE Taiex</td>\n",
       "      <td>2014/01/02</td>\n",
       "      <td>0.0120</td>\n",
       "    </tr>\n",
       "    <tr>\n",
       "      <th>2014-01-02</th>\n",
       "      <td>TWN50</td>\n",
       "      <td>TW 50 INDEX</td>\n",
       "      <td>2014/01/02</td>\n",
       "      <td>-0.3534</td>\n",
       "    </tr>\n",
       "    <tr>\n",
       "      <th>2014-01-02</th>\n",
       "      <td>TM100</td>\n",
       "      <td>TW MID-CAP INDEX</td>\n",
       "      <td>2014/01/02</td>\n",
       "      <td>0.6243</td>\n",
       "    </tr>\n",
       "    <tr>\n",
       "      <th>2014-01-03</th>\n",
       "      <td>Y9999</td>\n",
       "      <td>TSE Taiex</td>\n",
       "      <td>2014/01/03</td>\n",
       "      <td>-0.7663</td>\n",
       "    </tr>\n",
       "    <tr>\n",
       "      <th>2014-01-03</th>\n",
       "      <td>TWN50</td>\n",
       "      <td>TW 50 INDEX</td>\n",
       "      <td>2014/01/03</td>\n",
       "      <td>-1.1200</td>\n",
       "    </tr>\n",
       "    <tr>\n",
       "      <th>...</th>\n",
       "      <td>...</td>\n",
       "      <td>...</td>\n",
       "      <td>...</td>\n",
       "      <td>...</td>\n",
       "    </tr>\n",
       "    <tr>\n",
       "      <th>2016-12-30</th>\n",
       "      <td>Y9999</td>\n",
       "      <td>TSE Taiex</td>\n",
       "      <td>2016/12/30</td>\n",
       "      <td>1.0970</td>\n",
       "    </tr>\n",
       "    <tr>\n",
       "      <th>2016-12-30</th>\n",
       "      <td>TWN50</td>\n",
       "      <td>TW 50 INDEX</td>\n",
       "      <td>2016/12/30</td>\n",
       "      <td>1.0403</td>\n",
       "    </tr>\n",
       "    <tr>\n",
       "      <th>2016-12-30</th>\n",
       "      <td>CR100</td>\n",
       "      <td>TWSE CG100 TR Index</td>\n",
       "      <td>2016/12/30</td>\n",
       "      <td>1.1900</td>\n",
       "    </tr>\n",
       "    <tr>\n",
       "      <th>2016-12-30</th>\n",
       "      <td>TM100</td>\n",
       "      <td>TW MID-CAP INDEX</td>\n",
       "      <td>2016/12/30</td>\n",
       "      <td>0.8642</td>\n",
       "    </tr>\n",
       "    <tr>\n",
       "      <th>2016-12-30</th>\n",
       "      <td>HC100</td>\n",
       "      <td>Taiwan HC 100</td>\n",
       "      <td>2016/12/30</td>\n",
       "      <td>0.9881</td>\n",
       "    </tr>\n",
       "  </tbody>\n",
       "</table>\n",
       "<p>3181 rows × 4 columns</p>\n",
       "</div>"
      ],
      "text/plain": [
       "              CO_ID               CoName        Date        ROI\n",
       "Date                                                           \n",
       "2014-01-02  Y9999          TSE Taiex      2014/01/02     0.0120\n",
       "2014-01-02  TWN50          TW 50 INDEX    2014/01/02    -0.3534\n",
       "2014-01-02  TM100       TW MID-CAP INDEX  2014/01/02     0.6243\n",
       "2014-01-03  Y9999          TSE Taiex      2014/01/03    -0.7663\n",
       "2014-01-03  TWN50          TW 50 INDEX    2014/01/03    -1.1200\n",
       "...             ...                  ...         ...        ...\n",
       "2016-12-30  Y9999          TSE Taiex      2016/12/30     1.0970\n",
       "2016-12-30  TWN50          TW 50 INDEX    2016/12/30     1.0403\n",
       "2016-12-30  CR100    TWSE CG100 TR Index  2016/12/30     1.1900\n",
       "2016-12-30  TM100       TW MID-CAP INDEX  2016/12/30     0.8642\n",
       "2016-12-30  HC100          Taiwan HC 100  2016/12/30     0.9881\n",
       "\n",
       "[3181 rows x 4 columns]"
      ]
     },
     "execution_count": 2,
     "metadata": {},
     "output_type": "execute_result"
    }
   ],
   "source": [
    "indexRet = pd.read_csv('index.csv',sep='\\t')\n",
    "indexRet.index=pd.to_datetime(indexRet.Date)\n",
    "indexRet"
   ]
  },
  {
   "cell_type": "code",
   "execution_count": 3,
   "metadata": {},
   "outputs": [
    {
     "data": {
      "text/plain": [
       "array(['TSE Taiex    ', 'TW 50 INDEX  ', 'TW MID-CAP INDEX',\n",
       "       'TWSE CG100 TR Index', 'Taiwan HC 100'], dtype=object)"
      ]
     },
     "execution_count": 3,
     "metadata": {},
     "output_type": "execute_result"
    }
   ],
   "source": [
    "np.unique(indexRet.CoName)"
   ]
  },
  {
   "cell_type": "code",
   "execution_count": 4,
   "metadata": {},
   "outputs": [
    {
     "data": {
      "text/plain": [
       "Date\n",
       "2014-01-02       0.0120\n",
       "2014-01-03      -0.7663\n",
       "2014-01-06      -0.5444\n",
       "2014-01-07       0.1446\n",
       "2014-01-08       0.5135\n",
       "                ...    \n",
       "2016-12-26       0.3514\n",
       "2016-12-27      -0.0139\n",
       "2016-12-28       1.0114\n",
       "2016-12-29      -0.5250\n",
       "2016-12-30       1.0970\n",
       "Name: ROI, Length: 736, dtype: object"
      ]
     },
     "execution_count": 4,
     "metadata": {},
     "output_type": "execute_result"
    }
   ],
   "source": [
    "taiexRet = indexRet.loc[indexRet.CoName=='TSE Taiex    '].ROI\n",
    "taiexRet"
   ]
  },
  {
   "cell_type": "code",
   "execution_count": 5,
   "metadata": {},
   "outputs": [
    {
     "name": "stderr",
     "output_type": "stream",
     "text": [
      "c:\\users\\a9025\\appdata\\local\\programs\\python\\python37\\lib\\site-packages\\ipykernel_launcher.py:1: DeprecationWarning: `np.float` is a deprecated alias for the builtin `float`. To silence this warning, use `float` by itself. Doing this will not modify any behavior and is safe. If you specifically wanted the numpy scalar type, use `np.float64` here.\n",
      "Deprecated in NumPy 1.20; for more details and guidance: https://numpy.org/devdocs/release/1.20.0-notes.html#deprecations\n",
      "  \"\"\"Entry point for launching an IPython kernel.\n"
     ]
    }
   ],
   "source": [
    "taiexRet = taiexRet.astype(np.float).dropna()"
   ]
  },
  {
   "cell_type": "code",
   "execution_count": 6,
   "metadata": {},
   "outputs": [
    {
     "data": {
      "text/plain": [
       "Text(0.5, 1.0, 'Squared Daily Return of taiex')"
      ]
     },
     "execution_count": 6,
     "metadata": {},
     "output_type": "execute_result"
    },
    {
     "data": {
      "image/png": "[encoded data removed]",
      "text/plain": [
       "<Figure size 432x288 with 1 Axes>"
      ]
     },
     "metadata": {
      "needs_background": "light"
     },
     "output_type": "display_data"
    }
   ],
   "source": [
    "#繪制收益率平方序列圖\n",
    "plt.subplot(211)\n",
    "plt.plot(taiexRet**2)\n",
    "plt.xticks([])\n",
    "plt.title('Squared Daily Return of taiex')"
   ]
  },
  {
   "cell_type": "code",
   "execution_count": 7,
   "metadata": {},
   "outputs": [
    {
     "data": {
      "text/plain": [
       "Text(0.5, 1.0, 'Absolute Daily Return of taiex')"
      ]
     },
     "execution_count": 7,
     "metadata": {},
     "output_type": "execute_result"
    },
    {
     "data": {
      "image/png": "[encoded data removed]",
      "text/plain": [
       "<Figure size 432x288 with 1 Axes>"
      ]
     },
     "metadata": {
      "needs_background": "light"
     },
     "output_type": "display_data"
    }
   ],
   "source": [
    "plt.subplot(212)\n",
    "plt.plot(np.abs(taiexRet))\n",
    "plt.title('Absolute Daily Return of taiex')"
   ]
  },
  {
   "cell_type": "markdown",
   "metadata": {},
   "source": [
    "### LjungBox檢定"
   ]
  },
  {
   "cell_type": "code",
   "execution_count": 8,
   "metadata": {},
   "outputs": [
    {
     "name": "stderr",
     "output_type": "stream",
     "text": [
      "c:\\users\\a9025\\appdata\\local\\programs\\python\\python37\\lib\\site-packages\\statsmodels\\tsa\\stattools.py:662: FutureWarning: The default number of lags is changing from 40 tomin(int(10 * np.log10(nobs)), nobs - 1) after 0.12is released. Set the number of lags to an integer to  silence this warning.\n",
      "  FutureWarning,\n",
      "c:\\users\\a9025\\appdata\\local\\programs\\python\\python37\\lib\\site-packages\\statsmodels\\tsa\\stattools.py:671: FutureWarning: fft=True will become the default after the release of the 0.12 release of statsmodels. To suppress this warning, explicitly set fft=False.\n",
      "  FutureWarning,\n"
     ]
    },
    {
     "data": {
      "text/plain": [
       "1.449575599842014e-19"
      ]
     },
     "execution_count": 8,
     "metadata": {},
     "output_type": "execute_result"
    }
   ],
   "source": [
    "LjungBox=stattools.q_stat(stattools.acf(taiexRet**2)[1:13],len(taiexRet))\n",
    "LjungBox[1][-1]"
   ]
  },
  {
   "cell_type": "markdown",
   "metadata": {},
   "source": [
    "### 寫出擬合的模型"
   ]
  },
  {
   "cell_type": "code",
   "execution_count": 9,
   "metadata": {},
   "outputs": [
    {
     "name": "stdout",
     "output_type": "stream",
     "text": [
      "Optimization terminated successfully    (Exit mode 0)\n",
      "            Current function value: 895.0641468735382\n",
      "            Iterations: 11\n",
      "            Function evaluations: 67\n",
      "            Gradient evaluations: 11\n",
      "                     Constant Mean - GARCH Model Results                      \n",
      "==============================================================================\n",
      "Dep. Variable:                    ROI   R-squared:                       0.000\n",
      "Mean Model:             Constant Mean   Adj. R-squared:                  0.000\n",
      "Vol Model:                      GARCH   Log-Likelihood:               -895.064\n",
      "Distribution:                  Normal   AIC:                           1798.13\n",
      "Method:            Maximum Likelihood   BIC:                           1816.53\n",
      "                                        No. Observations:                  736\n",
      "Date:                Mon, May 17 2021   Df Residuals:                      735\n",
      "Time:                        04:31:19   Df Model:                            1\n",
      "                                  Mean Model                                 \n",
      "=============================================================================\n",
      "                 coef    std err          t      P>|t|       95.0% Conf. Int.\n",
      "-----------------------------------------------------------------------------\n",
      "mu             0.0240  2.946e-02      0.815      0.415 [-3.375e-02,8.175e-02]\n",
      "                              Volatility Model                             \n",
      "===========================================================================\n",
      "                 coef    std err          t      P>|t|     95.0% Conf. Int.\n",
      "---------------------------------------------------------------------------\n",
      "omega          0.0451  3.566e-02      1.265      0.206 [-2.479e-02,  0.115]\n",
      "alpha[1]       0.0736  3.965e-02      1.857  6.333e-02 [-4.089e-03,  0.151]\n",
      "beta[1]        0.8636  7.983e-02     10.818  2.841e-27    [  0.707,  1.020]\n",
      "===========================================================================\n",
      "\n",
      "Covariance estimator: robust\n"
     ]
    }
   ],
   "source": [
    "# 設定模型\n",
    "am = arch_model(taiexRet)\n",
    "\n",
    "# 估計參數，update_freq=0是匯出最終結果\n",
    "model = am.fit(update_freq=0)\n",
    "print(model.summary())"
   ]
  }
 ],
 "metadata": {
  "kernelspec": {
   "display_name": "Python 3",
   "language": "python",
   "name": "python3"
  },
  "language_info": {
   "codemirror_mode": {
    "name": "ipython",
    "version": 3
   },
   "file_extension": ".py",
   "mimetype": "text/x-python",
   "name": "python",
   "nbconvert_exporter": "python",
   "pygments_lexer": "ipython3",
   "version": "3.7.9"
  }
 },
 "nbformat": 4,
 "nbformat_minor": 4
}
