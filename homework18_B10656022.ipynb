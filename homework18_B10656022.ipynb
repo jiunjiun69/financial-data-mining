{
 "cells": [
  {
   "cell_type": "code",
   "execution_count": 1,
   "metadata": {},
   "outputs": [],
   "source": [
    "# 第二題\n",
    "import pandas as pd\n",
    "import numpy as np\n",
    "import statsmodels.api as sm\n",
    "import matplotlib.pyplot as plt"
   ]
  },
  {
   "cell_type": "code",
   "execution_count": 2,
   "metadata": {},
   "outputs": [],
   "source": [
    "EuStockMarkets = pd.read_table('EuStockMarkets.csv',sep = ',')\n",
    "EuStockMarkets.head()\n",
    "DAX = EuStockMarkets.DAX\n",
    "FTSE = EuStockMarkets.FTSE"
   ]
  },
  {
   "cell_type": "code",
   "execution_count": 3,
   "metadata": {},
   "outputs": [
    {
     "data": {
      "image/png": "[encoded data removed]",
      "text/plain": [
       "<Figure size 432x288 with 1 Axes>"
      ]
     },
     "metadata": {
      "needs_background": "light"
     },
     "output_type": "display_data"
    }
   ],
   "source": [
    "# 繪圖並設定線條顏色、寬度、圖例\n",
    "line1, = plt.plot(DAX, color = 'red', linewidth = 3, label = 'DAX')             \n",
    "line2, = plt.plot(FTSE, color = 'blue', linewidth = 3, label = 'FTSE')\n",
    "plt.legend(handles = [line1, line2], loc='upper right')\n",
    "plt.show()                           "
   ]
  },
  {
   "cell_type": "code",
   "execution_count": null,
   "metadata": {},
   "outputs": [],
   "source": []
  },
  {
   "cell_type": "code",
   "execution_count": 4,
   "metadata": {},
   "outputs": [],
   "source": [
    "# 第三題"
   ]
  },
  {
   "cell_type": "code",
   "execution_count": 5,
   "metadata": {},
   "outputs": [
    {
     "data": {
      "text/html": [
       "<div>\n",
       "<style scoped>\n",
       "    .dataframe tbody tr th:only-of-type {\n",
       "        vertical-align: middle;\n",
       "    }\n",
       "\n",
       "    .dataframe tbody tr th {\n",
       "        vertical-align: top;\n",
       "    }\n",
       "\n",
       "    .dataframe thead th {\n",
       "        text-align: right;\n",
       "    }\n",
       "</style>\n",
       "<table border=\"1\" class=\"dataframe\">\n",
       "  <thead>\n",
       "    <tr style=\"text-align: right;\">\n",
       "      <th></th>\n",
       "      <th>DAX</th>\n",
       "      <th>SMI</th>\n",
       "      <th>CAC</th>\n",
       "      <th>FTSE</th>\n",
       "    </tr>\n",
       "  </thead>\n",
       "  <tbody>\n",
       "    <tr>\n",
       "      <th>0</th>\n",
       "      <td>1628.75</td>\n",
       "      <td>1678.1</td>\n",
       "      <td>1772.8</td>\n",
       "      <td>2443.6</td>\n",
       "    </tr>\n",
       "    <tr>\n",
       "      <th>1</th>\n",
       "      <td>1613.63</td>\n",
       "      <td>1688.5</td>\n",
       "      <td>1750.5</td>\n",
       "      <td>2460.2</td>\n",
       "    </tr>\n",
       "    <tr>\n",
       "      <th>2</th>\n",
       "      <td>1606.51</td>\n",
       "      <td>1678.6</td>\n",
       "      <td>1718.0</td>\n",
       "      <td>2448.2</td>\n",
       "    </tr>\n",
       "    <tr>\n",
       "      <th>3</th>\n",
       "      <td>1621.04</td>\n",
       "      <td>1684.1</td>\n",
       "      <td>1708.1</td>\n",
       "      <td>2470.4</td>\n",
       "    </tr>\n",
       "    <tr>\n",
       "      <th>4</th>\n",
       "      <td>1618.16</td>\n",
       "      <td>1686.6</td>\n",
       "      <td>1723.1</td>\n",
       "      <td>2484.7</td>\n",
       "    </tr>\n",
       "  </tbody>\n",
       "</table>\n",
       "</div>"
      ],
      "text/plain": [
       "       DAX     SMI     CAC    FTSE\n",
       "0  1628.75  1678.1  1772.8  2443.6\n",
       "1  1613.63  1688.5  1750.5  2460.2\n",
       "2  1606.51  1678.6  1718.0  2448.2\n",
       "3  1621.04  1684.1  1708.1  2470.4\n",
       "4  1618.16  1686.6  1723.1  2484.7"
      ]
     },
     "execution_count": 5,
     "metadata": {},
     "output_type": "execute_result"
    }
   ],
   "source": [
    "EuStockMarkets = pd.read_table('EuStockMarkets.csv',sep = ',')\n",
    "EuStockMarkets.head()"
   ]
  },
  {
   "cell_type": "code",
   "execution_count": 6,
   "metadata": {},
   "outputs": [],
   "source": [
    "DAX = EuStockMarkets.DAX\n",
    "FTSE = EuStockMarkets.FTSE"
   ]
  },
  {
   "cell_type": "code",
   "execution_count": 7,
   "metadata": {},
   "outputs": [
    {
     "name": "stderr",
     "output_type": "stream",
     "text": [
      "c:\\users\\a9025\\appdata\\local\\programs\\python\\python37\\lib\\site-packages\\ipykernel_launcher.py:1: DeprecationWarning: `np.float` is a deprecated alias for the builtin `float`. To silence this warning, use `float` by itself. Doing this will not modify any behavior and is safe. If you specifically wanted the numpy scalar type, use `np.float64` here.\n",
      "Deprecated in NumPy 1.20; for more details and guidance: https://numpy.org/devdocs/release/1.20.0-notes.html#deprecations\n",
      "  \"\"\"Entry point for launching an IPython kernel.\n"
     ]
    },
    {
     "data": {
      "text/html": [
       "<div>\n",
       "<style scoped>\n",
       "    .dataframe tbody tr th:only-of-type {\n",
       "        vertical-align: middle;\n",
       "    }\n",
       "\n",
       "    .dataframe tbody tr th {\n",
       "        vertical-align: top;\n",
       "    }\n",
       "\n",
       "    .dataframe thead th {\n",
       "        text-align: right;\n",
       "    }\n",
       "</style>\n",
       "<table border=\"1\" class=\"dataframe\">\n",
       "  <thead>\n",
       "    <tr style=\"text-align: right;\">\n",
       "      <th></th>\n",
       "      <th>DAX</th>\n",
       "      <th>FTSE</th>\n",
       "    </tr>\n",
       "  </thead>\n",
       "  <tbody>\n",
       "    <tr>\n",
       "      <th>0</th>\n",
       "      <td>1628.75</td>\n",
       "      <td>2443.6</td>\n",
       "    </tr>\n",
       "    <tr>\n",
       "      <th>1</th>\n",
       "      <td>1613.63</td>\n",
       "      <td>2460.2</td>\n",
       "    </tr>\n",
       "    <tr>\n",
       "      <th>2</th>\n",
       "      <td>1606.51</td>\n",
       "      <td>2448.2</td>\n",
       "    </tr>\n",
       "    <tr>\n",
       "      <th>3</th>\n",
       "      <td>1621.04</td>\n",
       "      <td>2470.4</td>\n",
       "    </tr>\n",
       "    <tr>\n",
       "      <th>4</th>\n",
       "      <td>1618.16</td>\n",
       "      <td>2484.7</td>\n",
       "    </tr>\n",
       "  </tbody>\n",
       "</table>\n",
       "</div>"
      ],
      "text/plain": [
       "       DAX    FTSE\n",
       "0  1628.75  2443.6\n",
       "1  1613.63  2460.2\n",
       "2  1606.51  2448.2\n",
       "3  1621.04  2470.4\n",
       "4  1618.16  2484.7"
      ]
     },
     "execution_count": 7,
     "metadata": {},
     "output_type": "execute_result"
    }
   ],
   "source": [
    "retData = pd.concat([DAX,FTSE],axis = 1).astype(np.float)\n",
    "retData = retData.dropna()\n",
    "retData.head()"
   ]
  },
  {
   "cell_type": "code",
   "execution_count": 8,
   "metadata": {},
   "outputs": [],
   "source": [
    "# (a)\n",
    "# 建構迴歸模型\n",
    "model = sm.OLS(retData.DAX,sm.add_constant(retData.FTSE)).fit()"
   ]
  },
  {
   "cell_type": "code",
   "execution_count": 9,
   "metadata": {},
   "outputs": [
    {
     "name": "stdout",
     "output_type": "stream",
     "text": [
      "                            OLS Regression Results                            \n",
      "==============================================================================\n",
      "Dep. Variable:                    DAX   R-squared:                       0.951\n",
      "Model:                            OLS   Adj. R-squared:                  0.951\n",
      "Method:                 Least Squares   F-statistic:                 3.604e+04\n",
      "Date:                Fri, 09 Apr 2021   Prob (F-statistic):               0.00\n",
      "Time:                        12:51:18   Log-Likelihood:                -12834.\n",
      "No. Observations:                1860   AIC:                         2.567e+04\n",
      "Df Residuals:                    1858   BIC:                         2.568e+04\n",
      "Df Model:                           1                                         \n",
      "Covariance Type:            nonrobust                                         \n",
      "==============================================================================\n",
      "                 coef    std err          t      P>|t|      [0.025      0.975]\n",
      "------------------------------------------------------------------------------\n",
      "const      -1331.2374     21.092    -63.115      0.000   -1372.604   -1289.871\n",
      "FTSE           1.0831      0.006    189.838      0.000       1.072       1.094\n",
      "==============================================================================\n",
      "Omnibus:                      329.509   Durbin-Watson:                   0.012\n",
      "Prob(Omnibus):                  0.000   Jarque-Bera (JB):              612.319\n",
      "Skew:                           1.084   Prob(JB):                    1.09e-133\n",
      "Kurtosis:                       4.789   Cond. No.                     1.40e+04\n",
      "==============================================================================\n",
      "\n",
      "Notes:\n",
      "[1] Standard Errors assume that the covariance matrix of the errors is correctly specified.\n",
      "[2] The condition number is large, 1.4e+04. This might indicate that there are\n",
      "strong multicollinearity or other numerical problems.\n"
     ]
    }
   ],
   "source": [
    "# 查詢迴歸模型結果\n",
    "print(model.summary())"
   ]
  },
  {
   "cell_type": "code",
   "execution_count": 10,
   "metadata": {},
   "outputs": [],
   "source": [
    "# (b)\n",
    "# R-squared = 0.95 模型可以解釋95%的變異量\n",
    "# p值為 0.000 < 0.05 接受信心水準為0.05的假設檢定\n",
    "# 斜率的估計值為 1.0831，顯著不為0(其p值也為0，小於0.05的顯著性水平 )\n",
    "# 根據以上結果可以得到以下模型:\n",
    "# DAX = -1331.2374 + 1.0831 * FTSE + εi"
   ]
  },
  {
   "cell_type": "code",
   "execution_count": 11,
   "metadata": {},
   "outputs": [
    {
     "name": "stderr",
     "output_type": "stream",
     "text": [
      "c:\\users\\a9025\\appdata\\local\\programs\\python\\python37\\lib\\site-packages\\statsmodels\\graphics\\gofplots.py:993: UserWarning: marker is redundantly defined by the 'marker' keyword argument and the fmt string \"bo\" (-> marker='o'). The keyword argument will take precedence.\n",
      "  ax.plot(x, y, fmt, **plot_style)\n"
     ]
    },
    {
     "data": {
      "image/png": "[encoded data removed]",
      "text/plain": [
       "<Figure size 432x288 with 1 Axes>"
      ]
     },
     "execution_count": 11,
     "metadata": {},
     "output_type": "execute_result"
    },
    {
     "data": {
      "image/png": "[encoded data removed]",
      "text/plain": [
       "<Figure size 432x288 with 1 Axes>"
      ]
     },
     "metadata": {
      "needs_background": "light"
     },
     "output_type": "display_data"
    }
   ],
   "source": [
    "# (c)\n",
    "import scipy.stats as stats\n",
    "sm.qqplot(model.resid_pearson,\n",
    "          stats.norm,line='45')"
   ]
  },
  {
   "cell_type": "code",
   "execution_count": 12,
   "metadata": {},
   "outputs": [],
   "source": [
    "# 圖上大部分的點在直線上或在直線附近，大致可以推論數據滿足常態性的假設"
   ]
  }
 ],
 "metadata": {
  "kernelspec": {
   "display_name": "Python 3",
   "language": "python",
   "name": "python3"
  },
  "language_info": {
   "codemirror_mode": {
    "name": "ipython",
    "version": 3
   },
   "file_extension": ".py",
   "mimetype": "text/x-python",
   "name": "python",
   "nbconvert_exporter": "python",
   "pygments_lexer": "ipython3",
   "version": "3.7.9"
  }
 },
 "nbformat": 4,
 "nbformat_minor": 4
}
