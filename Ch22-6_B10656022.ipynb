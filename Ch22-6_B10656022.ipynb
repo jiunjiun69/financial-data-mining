{
 "cells": [
  {
   "cell_type": "markdown",
   "metadata": {},
   "source": [
    "# 讀取宏達電(2498) 的2014年資料以及三因子資料"
   ]
  },
  {
   "cell_type": "markdown",
   "metadata": {},
   "source": [
    "## (a)利用2014年度的數據建立CAPM模型"
   ]
  },
  {
   "cell_type": "code",
   "execution_count": 1,
   "metadata": {},
   "outputs": [],
   "source": [
    "import pandas as pd\n",
    "import numpy as np"
   ]
  },
  {
   "cell_type": "code",
   "execution_count": 2,
   "metadata": {},
   "outputs": [
    {
     "data": {
      "text/plain": [
       "array(['TSE Taiex    ', 'TW 50 INDEX  ', 'TW MID-CAP INDEX',\n",
       "       'TWSE CG100 TR Index', 'Taiwan HC 100'], dtype=object)"
      ]
     },
     "execution_count": 2,
     "metadata": {},
     "output_type": "execute_result"
    }
   ],
   "source": [
    "# 獲取指數資料\n",
    "indexData = pd.read_csv('003/index.csv', sep = '\\t')\n",
    "np.unique(indexData.CoName)"
   ]
  },
  {
   "cell_type": "code",
   "execution_count": 3,
   "metadata": {},
   "outputs": [
    {
     "data": {
      "text/html": [
       "<div>\n",
       "<style scoped>\n",
       "    .dataframe tbody tr th:only-of-type {\n",
       "        vertical-align: middle;\n",
       "    }\n",
       "\n",
       "    .dataframe tbody tr th {\n",
       "        vertical-align: top;\n",
       "    }\n",
       "\n",
       "    .dataframe thead th {\n",
       "        text-align: right;\n",
       "    }\n",
       "</style>\n",
       "<table border=\"1\" class=\"dataframe\">\n",
       "  <thead>\n",
       "    <tr style=\"text-align: right;\">\n",
       "      <th></th>\n",
       "      <th>CO_ID</th>\n",
       "      <th>CoName</th>\n",
       "      <th>Date</th>\n",
       "      <th>ROI</th>\n",
       "    </tr>\n",
       "  </thead>\n",
       "  <tbody>\n",
       "    <tr>\n",
       "      <th>0</th>\n",
       "      <td>Y9999</td>\n",
       "      <td>TSE Taiex</td>\n",
       "      <td>2014/01/02</td>\n",
       "      <td>0.0120</td>\n",
       "    </tr>\n",
       "    <tr>\n",
       "      <th>3</th>\n",
       "      <td>Y9999</td>\n",
       "      <td>TSE Taiex</td>\n",
       "      <td>2014/01/03</td>\n",
       "      <td>-0.7663</td>\n",
       "    </tr>\n",
       "    <tr>\n",
       "      <th>6</th>\n",
       "      <td>Y9999</td>\n",
       "      <td>TSE Taiex</td>\n",
       "      <td>2014/01/06</td>\n",
       "      <td>-0.5444</td>\n",
       "    </tr>\n",
       "    <tr>\n",
       "      <th>9</th>\n",
       "      <td>Y9999</td>\n",
       "      <td>TSE Taiex</td>\n",
       "      <td>2014/01/07</td>\n",
       "      <td>0.1446</td>\n",
       "    </tr>\n",
       "    <tr>\n",
       "      <th>12</th>\n",
       "      <td>Y9999</td>\n",
       "      <td>TSE Taiex</td>\n",
       "      <td>2014/01/08</td>\n",
       "      <td>0.5135</td>\n",
       "    </tr>\n",
       "  </tbody>\n",
       "</table>\n",
       "</div>"
      ],
      "text/plain": [
       "      CO_ID         CoName        Date        ROI\n",
       "0   Y9999    TSE Taiex      2014/01/02     0.0120\n",
       "3   Y9999    TSE Taiex      2014/01/03    -0.7663\n",
       "6   Y9999    TSE Taiex      2014/01/06    -0.5444\n",
       "9   Y9999    TSE Taiex      2014/01/07     0.1446\n",
       "12  Y9999    TSE Taiex      2014/01/08     0.5135"
      ]
     },
     "execution_count": 3,
     "metadata": {},
     "output_type": "execute_result"
    }
   ],
   "source": [
    "mktData = indexData[indexData.CoName == 'TSE Taiex    ']\n",
    "mktData.head()"
   ]
  },
  {
   "cell_type": "code",
   "execution_count": 4,
   "metadata": {},
   "outputs": [
    {
     "data": {
      "text/plain": [
       "Date\n",
       "2014-01-02       0.0120\n",
       "2014-01-03      -0.7663\n",
       "2014-01-06      -0.5444\n",
       "2014-01-07       0.1446\n",
       "2014-01-08       0.5135\n",
       "Name: mktret, dtype: object"
      ]
     },
     "execution_count": 4,
     "metadata": {},
     "output_type": "execute_result"
    }
   ],
   "source": [
    "mktret = pd.Series(mktData.ROI.values,index = pd.to_datetime(mktData.Date))\n",
    "mktret.name = 'mktret'\n",
    "mktret.head()"
   ]
  },
  {
   "cell_type": "code",
   "execution_count": 5,
   "metadata": {},
   "outputs": [],
   "source": [
    "# 獲取宏達電(2498)收益率資料\n",
    "HTC = pd.read_csv('2498.csv', sep = ',')\n",
    "HTC.index = pd.to_datetime(HTC.Date)\n",
    "HTCret = HTC.ROI\n",
    "HTCret.name = 'returns'"
   ]
  },
  {
   "cell_type": "code",
   "execution_count": 6,
   "metadata": {},
   "outputs": [
    {
     "data": {
      "text/html": [
       "<div>\n",
       "<style scoped>\n",
       "    .dataframe tbody tr th:only-of-type {\n",
       "        vertical-align: middle;\n",
       "    }\n",
       "\n",
       "    .dataframe tbody tr th {\n",
       "        vertical-align: top;\n",
       "    }\n",
       "\n",
       "    .dataframe thead th {\n",
       "        text-align: right;\n",
       "    }\n",
       "</style>\n",
       "<table border=\"1\" class=\"dataframe\">\n",
       "  <thead>\n",
       "    <tr style=\"text-align: right;\">\n",
       "      <th></th>\n",
       "      <th>Date</th>\n",
       "      <th>Date.1</th>\n",
       "      <th>Close</th>\n",
       "      <th>Open</th>\n",
       "      <th>High</th>\n",
       "      <th>Low</th>\n",
       "      <th>Volume</th>\n",
       "      <th>ROI</th>\n",
       "    </tr>\n",
       "    <tr>\n",
       "      <th>Date</th>\n",
       "      <th></th>\n",
       "      <th></th>\n",
       "      <th></th>\n",
       "      <th></th>\n",
       "      <th></th>\n",
       "      <th></th>\n",
       "      <th></th>\n",
       "      <th></th>\n",
       "    </tr>\n",
       "  </thead>\n",
       "  <tbody>\n",
       "    <tr>\n",
       "      <th>2014-01-02</th>\n",
       "      <td>2014-01-02</td>\n",
       "      <td>2014-01-02</td>\n",
       "      <td>137.58</td>\n",
       "      <td>140.56</td>\n",
       "      <td>141.06</td>\n",
       "      <td>137.09</td>\n",
       "      <td>7964</td>\n",
       "      <td>-1.7730</td>\n",
       "    </tr>\n",
       "    <tr>\n",
       "      <th>2014-01-03</th>\n",
       "      <td>2014-01-03</td>\n",
       "      <td>2014-01-03</td>\n",
       "      <td>137.58</td>\n",
       "      <td>137.58</td>\n",
       "      <td>140.07</td>\n",
       "      <td>137.09</td>\n",
       "      <td>6599</td>\n",
       "      <td>0.0000</td>\n",
       "    </tr>\n",
       "    <tr>\n",
       "      <th>2014-01-06</th>\n",
       "      <td>2014-01-06</td>\n",
       "      <td>2014-01-06</td>\n",
       "      <td>132.62</td>\n",
       "      <td>137.58</td>\n",
       "      <td>138.58</td>\n",
       "      <td>132.12</td>\n",
       "      <td>14005</td>\n",
       "      <td>-3.6101</td>\n",
       "    </tr>\n",
       "    <tr>\n",
       "      <th>2014-01-07</th>\n",
       "      <td>2014-01-07</td>\n",
       "      <td>2014-01-07</td>\n",
       "      <td>130.13</td>\n",
       "      <td>131.62</td>\n",
       "      <td>132.62</td>\n",
       "      <td>128.64</td>\n",
       "      <td>13705</td>\n",
       "      <td>-1.8727</td>\n",
       "    </tr>\n",
       "    <tr>\n",
       "      <th>2014-01-08</th>\n",
       "      <td>2014-01-08</td>\n",
       "      <td>2014-01-08</td>\n",
       "      <td>129.14</td>\n",
       "      <td>130.13</td>\n",
       "      <td>131.62</td>\n",
       "      <td>129.14</td>\n",
       "      <td>7623</td>\n",
       "      <td>-0.7634</td>\n",
       "    </tr>\n",
       "  </tbody>\n",
       "</table>\n",
       "</div>"
      ],
      "text/plain": [
       "                  Date      Date.1   Close    Open    High     Low  Volume  \\\n",
       "Date                                                                         \n",
       "2014-01-02  2014-01-02  2014-01-02  137.58  140.56  141.06  137.09    7964   \n",
       "2014-01-03  2014-01-03  2014-01-03  137.58  137.58  140.07  137.09    6599   \n",
       "2014-01-06  2014-01-06  2014-01-06  132.62  137.58  138.58  132.12   14005   \n",
       "2014-01-07  2014-01-07  2014-01-07  130.13  131.62  132.62  128.64   13705   \n",
       "2014-01-08  2014-01-08  2014-01-08  129.14  130.13  131.62  129.14    7623   \n",
       "\n",
       "               ROI  \n",
       "Date                \n",
       "2014-01-02 -1.7730  \n",
       "2014-01-03  0.0000  \n",
       "2014-01-06 -3.6101  \n",
       "2014-01-07 -1.8727  \n",
       "2014-01-08 -0.7634  "
      ]
     },
     "execution_count": 6,
     "metadata": {},
     "output_type": "execute_result"
    }
   ],
   "source": [
    "HTC.head()"
   ]
  },
  {
   "cell_type": "code",
   "execution_count": 7,
   "metadata": {},
   "outputs": [],
   "source": [
    "retData = pd.concat([HTCret,mktret],axis=1).dropna()"
   ]
  },
  {
   "cell_type": "code",
   "execution_count": 8,
   "metadata": {},
   "outputs": [
    {
     "name": "stderr",
     "output_type": "stream",
     "text": [
      "c:\\users\\a9025\\appdata\\local\\programs\\python\\python37\\lib\\site-packages\\ipykernel_launcher.py:2: DeprecationWarning: `np.float` is a deprecated alias for the builtin `float`. To silence this warning, use `float` by itself. Doing this will not modify any behavior and is safe. If you specifically wanted the numpy scalar type, use `np.float64` here.\n",
      "Deprecated in NumPy 1.20; for more details and guidance: https://numpy.org/devdocs/release/1.20.0-notes.html#deprecations\n",
      "  \n"
     ]
    }
   ],
   "source": [
    "# ROI數據的單位是%，所以乘以0.01轉變成實際收益率\n",
    "retData = retData.astype(np.float) * 0.01"
   ]
  },
  {
   "cell_type": "code",
   "execution_count": 9,
   "metadata": {},
   "outputs": [
    {
     "data": {
      "text/html": [
       "<div>\n",
       "<style scoped>\n",
       "    .dataframe tbody tr th:only-of-type {\n",
       "        vertical-align: middle;\n",
       "    }\n",
       "\n",
       "    .dataframe tbody tr th {\n",
       "        vertical-align: top;\n",
       "    }\n",
       "\n",
       "    .dataframe thead th {\n",
       "        text-align: right;\n",
       "    }\n",
       "</style>\n",
       "<table border=\"1\" class=\"dataframe\">\n",
       "  <thead>\n",
       "    <tr style=\"text-align: right;\">\n",
       "      <th></th>\n",
       "      <th>returns</th>\n",
       "      <th>mktret</th>\n",
       "    </tr>\n",
       "    <tr>\n",
       "      <th>Date</th>\n",
       "      <th></th>\n",
       "      <th></th>\n",
       "    </tr>\n",
       "  </thead>\n",
       "  <tbody>\n",
       "    <tr>\n",
       "      <th>2014-01-02</th>\n",
       "      <td>-0.017730</td>\n",
       "      <td>0.000120</td>\n",
       "    </tr>\n",
       "    <tr>\n",
       "      <th>2014-01-03</th>\n",
       "      <td>0.000000</td>\n",
       "      <td>-0.007663</td>\n",
       "    </tr>\n",
       "    <tr>\n",
       "      <th>2014-01-06</th>\n",
       "      <td>-0.036101</td>\n",
       "      <td>-0.005444</td>\n",
       "    </tr>\n",
       "    <tr>\n",
       "      <th>2014-01-07</th>\n",
       "      <td>-0.018727</td>\n",
       "      <td>0.001446</td>\n",
       "    </tr>\n",
       "    <tr>\n",
       "      <th>2014-01-08</th>\n",
       "      <td>-0.007634</td>\n",
       "      <td>0.005135</td>\n",
       "    </tr>\n",
       "  </tbody>\n",
       "</table>\n",
       "</div>"
      ],
      "text/plain": [
       "             returns    mktret\n",
       "Date                          \n",
       "2014-01-02 -0.017730  0.000120\n",
       "2014-01-03  0.000000 -0.007663\n",
       "2014-01-06 -0.036101 -0.005444\n",
       "2014-01-07 -0.018727  0.001446\n",
       "2014-01-08 -0.007634  0.005135"
      ]
     },
     "execution_count": 9,
     "metadata": {},
     "output_type": "execute_result"
    }
   ],
   "source": [
    "retData.head()"
   ]
  },
  {
   "cell_type": "code",
   "execution_count": 10,
   "metadata": {},
   "outputs": [
    {
     "data": {
      "text/plain": [
       "1.053560616215421e-05"
      ]
     },
     "execution_count": 10,
     "metadata": {},
     "output_type": "execute_result"
    }
   ],
   "source": [
    "# 計算風險收益率\n",
    "rf = 1.0038 ** (1/360) - 1\n",
    "rf"
   ]
  },
  {
   "cell_type": "code",
   "execution_count": 11,
   "metadata": {},
   "outputs": [
    {
     "name": "stderr",
     "output_type": "stream",
     "text": [
      "c:\\users\\a9025\\appdata\\local\\programs\\python\\python37\\lib\\site-packages\\ipykernel_launcher.py:2: FutureWarning: Indexing a DataFrame with a datetimelike index using a single string to slice the rows, like `frame[string]`, is deprecated and will be removed in a future version. Use `frame.loc[string]` instead.\n",
      "  \n"
     ]
    },
    {
     "data": {
      "text/html": [
       "<div>\n",
       "<style scoped>\n",
       "    .dataframe tbody tr th:only-of-type {\n",
       "        vertical-align: middle;\n",
       "    }\n",
       "\n",
       "    .dataframe tbody tr th {\n",
       "        vertical-align: top;\n",
       "    }\n",
       "\n",
       "    .dataframe thead th {\n",
       "        text-align: right;\n",
       "    }\n",
       "</style>\n",
       "<table border=\"1\" class=\"dataframe\">\n",
       "  <thead>\n",
       "    <tr style=\"text-align: right;\">\n",
       "      <th></th>\n",
       "      <th>returns</th>\n",
       "      <th>mktret</th>\n",
       "    </tr>\n",
       "    <tr>\n",
       "      <th>Date</th>\n",
       "      <th></th>\n",
       "      <th></th>\n",
       "    </tr>\n",
       "  </thead>\n",
       "  <tbody>\n",
       "    <tr>\n",
       "      <th>2014-12-26</th>\n",
       "      <td>0.018508</td>\n",
       "      <td>0.006035</td>\n",
       "    </tr>\n",
       "    <tr>\n",
       "      <th>2014-12-27</th>\n",
       "      <td>-0.000011</td>\n",
       "      <td>0.000470</td>\n",
       "    </tr>\n",
       "    <tr>\n",
       "      <th>2014-12-29</th>\n",
       "      <td>-0.000011</td>\n",
       "      <td>0.007342</td>\n",
       "    </tr>\n",
       "    <tr>\n",
       "      <th>2014-12-30</th>\n",
       "      <td>0.021807</td>\n",
       "      <td>-0.001933</td>\n",
       "    </tr>\n",
       "    <tr>\n",
       "      <th>2014-12-31</th>\n",
       "      <td>0.010665</td>\n",
       "      <td>0.004178</td>\n",
       "    </tr>\n",
       "  </tbody>\n",
       "</table>\n",
       "</div>"
      ],
      "text/plain": [
       "             returns    mktret\n",
       "Date                          \n",
       "2014-12-26  0.018508  0.006035\n",
       "2014-12-27 -0.000011  0.000470\n",
       "2014-12-29 -0.000011  0.007342\n",
       "2014-12-30  0.021807 -0.001933\n",
       "2014-12-31  0.010665  0.004178"
      ]
     },
     "execution_count": 11,
     "metadata": {},
     "output_type": "execute_result"
    }
   ],
   "source": [
    "# 計算股票超額收益率和市場風險溢酬\n",
    "Excess_ret = retData['2014'] - rf\n",
    "Excess_ret.tail()"
   ]
  },
  {
   "cell_type": "code",
   "execution_count": 12,
   "metadata": {},
   "outputs": [
    {
     "data": {
      "text/plain": [
       "<matplotlib.collections.PathCollection at 0x28a65156c08>"
      ]
     },
     "execution_count": 12,
     "metadata": {},
     "output_type": "execute_result"
    },
    {
     "data": {
      "image/png": "[encoded data removed]",
      "text/plain": [
       "<Figure size 432x288 with 1 Axes>"
      ]
     },
     "metadata": {
      "needs_background": "light"
     },
     "output_type": "display_data"
    }
   ],
   "source": [
    "# 畫出散佈圖\n",
    "import matplotlib.pyplot as plt\n",
    "plt.title('SPIL return and market return')\n",
    "plt.scatter(Excess_ret.values[:,0],Excess_ret.values[:,1])"
   ]
  },
  {
   "cell_type": "code",
   "execution_count": 13,
   "metadata": {},
   "outputs": [
    {
     "data": {
      "text/html": [
       "<table class=\"simpletable\">\n",
       "<caption>OLS Regression Results</caption>\n",
       "<tr>\n",
       "  <th>Dep. Variable:</th>         <td>returns</td>     <th>  R-squared:         </th> <td>   0.104</td>\n",
       "</tr>\n",
       "<tr>\n",
       "  <th>Model:</th>                   <td>OLS</td>       <th>  Adj. R-squared:    </th> <td>   0.100</td>\n",
       "</tr>\n",
       "<tr>\n",
       "  <th>Method:</th>             <td>Least Squares</td>  <th>  F-statistic:       </th> <td>   28.37</td>\n",
       "</tr>\n",
       "<tr>\n",
       "  <th>Date:</th>             <td>Fri, 07 May 2021</td> <th>  Prob (F-statistic):</th> <td>2.27e-07</td>\n",
       "</tr>\n",
       "<tr>\n",
       "  <th>Time:</th>                 <td>14:14:04</td>     <th>  Log-Likelihood:    </th> <td>  621.72</td>\n",
       "</tr>\n",
       "<tr>\n",
       "  <th>No. Observations:</th>      <td>   247</td>      <th>  AIC:               </th> <td>  -1239.</td>\n",
       "</tr>\n",
       "<tr>\n",
       "  <th>Df Residuals:</th>          <td>   245</td>      <th>  BIC:               </th> <td>  -1232.</td>\n",
       "</tr>\n",
       "<tr>\n",
       "  <th>Df Model:</th>              <td>     1</td>      <th>                     </th>     <td> </td>   \n",
       "</tr>\n",
       "<tr>\n",
       "  <th>Covariance Type:</th>      <td>nonrobust</td>    <th>                     </th>     <td> </td>   \n",
       "</tr>\n",
       "</table>\n",
       "<table class=\"simpletable\">\n",
       "<tr>\n",
       "     <td></td>       <th>coef</th>     <th>std err</th>      <th>t</th>      <th>P>|t|</th>  <th>[0.025</th>    <th>0.975]</th>  \n",
       "</tr>\n",
       "<tr>\n",
       "  <th>const</th>  <td>-1.308e-05</td> <td>    0.001</td> <td>   -0.010</td> <td> 0.992</td> <td>   -0.002</td> <td>    0.002</td>\n",
       "</tr>\n",
       "<tr>\n",
       "  <th>mktret</th> <td>    0.9634</td> <td>    0.181</td> <td>    5.326</td> <td> 0.000</td> <td>    0.607</td> <td>    1.320</td>\n",
       "</tr>\n",
       "</table>\n",
       "<table class=\"simpletable\">\n",
       "<tr>\n",
       "  <th>Omnibus:</th>       <td>15.204</td> <th>  Durbin-Watson:     </th> <td>   2.190</td>\n",
       "</tr>\n",
       "<tr>\n",
       "  <th>Prob(Omnibus):</th> <td> 0.000</td> <th>  Jarque-Bera (JB):  </th> <td>  29.797</td>\n",
       "</tr>\n",
       "<tr>\n",
       "  <th>Skew:</th>          <td> 0.295</td> <th>  Prob(JB):          </th> <td>3.39e-07</td>\n",
       "</tr>\n",
       "<tr>\n",
       "  <th>Kurtosis:</th>      <td> 4.596</td> <th>  Cond. No.          </th> <td>    145.</td>\n",
       "</tr>\n",
       "</table><br/><br/>Notes:<br/>[1] Standard Errors assume that the covariance matrix of the errors is correctly specified."
      ],
      "text/plain": [
       "<class 'statsmodels.iolib.summary.Summary'>\n",
       "\"\"\"\n",
       "                            OLS Regression Results                            \n",
       "==============================================================================\n",
       "Dep. Variable:                returns   R-squared:                       0.104\n",
       "Model:                            OLS   Adj. R-squared:                  0.100\n",
       "Method:                 Least Squares   F-statistic:                     28.37\n",
       "Date:                Fri, 07 May 2021   Prob (F-statistic):           2.27e-07\n",
       "Time:                        14:14:04   Log-Likelihood:                 621.72\n",
       "No. Observations:                 247   AIC:                            -1239.\n",
       "Df Residuals:                     245   BIC:                            -1232.\n",
       "Df Model:                           1                                         \n",
       "Covariance Type:            nonrobust                                         \n",
       "==============================================================================\n",
       "                 coef    std err          t      P>|t|      [0.025      0.975]\n",
       "------------------------------------------------------------------------------\n",
       "const      -1.308e-05      0.001     -0.010      0.992      -0.002       0.002\n",
       "mktret         0.9634      0.181      5.326      0.000       0.607       1.320\n",
       "==============================================================================\n",
       "Omnibus:                       15.204   Durbin-Watson:                   2.190\n",
       "Prob(Omnibus):                  0.000   Jarque-Bera (JB):               29.797\n",
       "Skew:                           0.295   Prob(JB):                     3.39e-07\n",
       "Kurtosis:                       4.596   Cond. No.                         145.\n",
       "==============================================================================\n",
       "\n",
       "Notes:\n",
       "[1] Standard Errors assume that the covariance matrix of the errors is correctly specified.\n",
       "\"\"\""
      ]
     },
     "execution_count": 13,
     "metadata": {},
     "output_type": "execute_result"
    }
   ],
   "source": [
    "# 擬合CAMP模型\n",
    "import statsmodels.api as sm\n",
    "model = sm.OLS(Excess_ret.returns[1:], sm.add_constant(Excess_ret.mktret[1:]))\n",
    "result = model.fit()\n",
    "result.summary()"
   ]
  },
  {
   "cell_type": "markdown",
   "metadata": {},
   "source": [
    "## (b)利用2014年度的數據建立三因子模型"
   ]
  },
  {
   "cell_type": "code",
   "execution_count": 14,
   "metadata": {
    "scrolled": true
   },
   "outputs": [
    {
     "data": {
      "text/html": [
       "<div>\n",
       "<style scoped>\n",
       "    .dataframe tbody tr th:only-of-type {\n",
       "        vertical-align: middle;\n",
       "    }\n",
       "\n",
       "    .dataframe tbody tr th {\n",
       "        vertical-align: top;\n",
       "    }\n",
       "\n",
       "    .dataframe thead th {\n",
       "        text-align: right;\n",
       "    }\n",
       "</style>\n",
       "<table border=\"1\" class=\"dataframe\">\n",
       "  <thead>\n",
       "    <tr style=\"text-align: right;\">\n",
       "      <th></th>\n",
       "      <th>Date</th>\n",
       "      <th>Hon Hai Precision</th>\n",
       "      <th>TSMC</th>\n",
       "      <th>Uni-President</th>\n",
       "    </tr>\n",
       "  </thead>\n",
       "  <tbody>\n",
       "    <tr>\n",
       "      <th>0</th>\n",
       "      <td>2014-01-02</td>\n",
       "      <td>0.3745</td>\n",
       "      <td>-0.9479</td>\n",
       "      <td>0.5587</td>\n",
       "    </tr>\n",
       "    <tr>\n",
       "      <th>1</th>\n",
       "      <td>2014-01-03</td>\n",
       "      <td>-1.2438</td>\n",
       "      <td>-1.9139</td>\n",
       "      <td>-0.9259</td>\n",
       "    </tr>\n",
       "    <tr>\n",
       "      <th>2</th>\n",
       "      <td>2014-01-06</td>\n",
       "      <td>-0.5038</td>\n",
       "      <td>0.0000</td>\n",
       "      <td>0.0000</td>\n",
       "    </tr>\n",
       "  </tbody>\n",
       "</table>\n",
       "</div>"
      ],
      "text/plain": [
       "         Date  Hon Hai Precision  TSMC           Uni-President\n",
       "0  2014-01-02             0.3745        -0.9479         0.5587\n",
       "1  2014-01-03            -1.2438        -1.9139        -0.9259\n",
       "2  2014-01-06            -0.5038         0.0000         0.0000"
      ]
     },
     "execution_count": 14,
     "metadata": {},
     "output_type": "execute_result"
    }
   ],
   "source": [
    "stock=pd.read_csv('retdata.csv',sep='\\t')\n",
    "stock.head(n=3)"
   ]
  },
  {
   "cell_type": "code",
   "execution_count": 15,
   "metadata": {},
   "outputs": [
    {
     "data": {
      "text/plain": [
       "Date\n",
       "2014-01-02    0.5587\n",
       "2014-01-03   -0.9259\n",
       "2014-01-06    0.0000\n",
       "Name: Uni-President, dtype: float64"
      ]
     },
     "execution_count": 15,
     "metadata": {},
     "output_type": "execute_result"
    }
   ],
   "source": [
    "stock.index = pd.to_datetime(stock.Date)\n",
    "UniPresident = stock.iloc[:,3]\n",
    "UniPresident.head(n=3)"
   ]
  },
  {
   "cell_type": "code",
   "execution_count": 16,
   "metadata": {},
   "outputs": [
    {
     "data": {
      "text/html": [
       "<div>\n",
       "<style scoped>\n",
       "    .dataframe tbody tr th:only-of-type {\n",
       "        vertical-align: middle;\n",
       "    }\n",
       "\n",
       "    .dataframe tbody tr th {\n",
       "        vertical-align: top;\n",
       "    }\n",
       "\n",
       "    .dataframe thead th {\n",
       "        text-align: right;\n",
       "    }\n",
       "</style>\n",
       "<table border=\"1\" class=\"dataframe\">\n",
       "  <thead>\n",
       "    <tr style=\"text-align: right;\">\n",
       "      <th></th>\n",
       "      <th>Security Name</th>\n",
       "      <th>CoName</th>\n",
       "      <th>YY/MM/DD</th>\n",
       "      <th>Market Risk Premium</th>\n",
       "      <th>Size Factor (3 Factor)</th>\n",
       "      <th>Book to Market Factor</th>\n",
       "      <th>Risk-free Interest Rate</th>\n",
       "    </tr>\n",
       "  </thead>\n",
       "  <tbody>\n",
       "    <tr>\n",
       "      <th>0</th>\n",
       "      <td>Z8888</td>\n",
       "      <td>TSEC+GreTai Non-Banking index</td>\n",
       "      <td>2014/01/02</td>\n",
       "      <td>0.0145</td>\n",
       "      <td>0.7197</td>\n",
       "      <td>0.3039</td>\n",
       "      <td>1.355</td>\n",
       "    </tr>\n",
       "    <tr>\n",
       "      <th>1</th>\n",
       "      <td>Z8888</td>\n",
       "      <td>TSEC+GreTai Non-Banking index</td>\n",
       "      <td>2014/01/03</td>\n",
       "      <td>-0.5858</td>\n",
       "      <td>0.6868</td>\n",
       "      <td>1.0533</td>\n",
       "      <td>1.355</td>\n",
       "    </tr>\n",
       "    <tr>\n",
       "      <th>2</th>\n",
       "      <td>Z8888</td>\n",
       "      <td>TSEC+GreTai Non-Banking index</td>\n",
       "      <td>2014/01/06</td>\n",
       "      <td>-0.4534</td>\n",
       "      <td>0.5783</td>\n",
       "      <td>0.4498</td>\n",
       "      <td>1.355</td>\n",
       "    </tr>\n",
       "  </tbody>\n",
       "</table>\n",
       "</div>"
      ],
      "text/plain": [
       "  Security Name                         CoName    YY/MM/DD  \\\n",
       "0       Z8888    TSEC+GreTai Non-Banking index  2014/01/02   \n",
       "1       Z8888    TSEC+GreTai Non-Banking index  2014/01/03   \n",
       "2       Z8888    TSEC+GreTai Non-Banking index  2014/01/06   \n",
       "\n",
       "   Market Risk Premium  Size Factor (3 Factor)  Book to Market Factor  \\\n",
       "0               0.0145                  0.7197                 0.3039   \n",
       "1              -0.5858                  0.6868                 1.0533   \n",
       "2              -0.4534                  0.5783                 0.4498   \n",
       "\n",
       "   Risk-free Interest Rate  \n",
       "0                    1.355  \n",
       "1                    1.355  \n",
       "2                    1.355  "
      ]
     },
     "execution_count": 16,
     "metadata": {},
     "output_type": "execute_result"
    }
   ],
   "source": [
    "factors=pd.read_csv('factors.csv',sep=',')\n",
    "factors.head(n=3)"
   ]
  },
  {
   "cell_type": "code",
   "execution_count": 17,
   "metadata": {},
   "outputs": [
    {
     "data": {
      "text/plain": [
       "Index(['Security Name', 'CoName', 'YY/MM/DD', 'Market Risk Premium',\n",
       "       'Size Factor (3 Factor)', 'Book to Market Factor',\n",
       "       'Risk-free Interest Rate'],\n",
       "      dtype='object')"
      ]
     },
     "execution_count": 17,
     "metadata": {},
     "output_type": "execute_result"
    }
   ],
   "source": [
    "factors.index =pd.to_datetime(factors['YY/MM/DD']) \n",
    "factors.columns"
   ]
  },
  {
   "cell_type": "code",
   "execution_count": 18,
   "metadata": {},
   "outputs": [
    {
     "data": {
      "text/html": [
       "<div>\n",
       "<style scoped>\n",
       "    .dataframe tbody tr th:only-of-type {\n",
       "        vertical-align: middle;\n",
       "    }\n",
       "\n",
       "    .dataframe tbody tr th {\n",
       "        vertical-align: top;\n",
       "    }\n",
       "\n",
       "    .dataframe thead th {\n",
       "        text-align: right;\n",
       "    }\n",
       "</style>\n",
       "<table border=\"1\" class=\"dataframe\">\n",
       "  <thead>\n",
       "    <tr style=\"text-align: right;\">\n",
       "      <th></th>\n",
       "      <th>Security Name</th>\n",
       "      <th>CoName</th>\n",
       "      <th>YY/MM/DD</th>\n",
       "      <th>Market Risk Premium</th>\n",
       "      <th>Size Factor (3 Factor)</th>\n",
       "      <th>Book to Market Factor</th>\n",
       "      <th>Risk-free Interest Rate</th>\n",
       "    </tr>\n",
       "    <tr>\n",
       "      <th>YY/MM/DD</th>\n",
       "      <th></th>\n",
       "      <th></th>\n",
       "      <th></th>\n",
       "      <th></th>\n",
       "      <th></th>\n",
       "      <th></th>\n",
       "      <th></th>\n",
       "    </tr>\n",
       "  </thead>\n",
       "  <tbody>\n",
       "    <tr>\n",
       "      <th>2014-01-02</th>\n",
       "      <td>Z8888</td>\n",
       "      <td>TSEC+GreTai Non-Banking index</td>\n",
       "      <td>2014/01/02</td>\n",
       "      <td>0.0145</td>\n",
       "      <td>0.7197</td>\n",
       "      <td>0.3039</td>\n",
       "      <td>0.084425</td>\n",
       "    </tr>\n",
       "    <tr>\n",
       "      <th>2014-01-03</th>\n",
       "      <td>Z8888</td>\n",
       "      <td>TSEC+GreTai Non-Banking index</td>\n",
       "      <td>2014/01/03</td>\n",
       "      <td>-0.5858</td>\n",
       "      <td>0.6868</td>\n",
       "      <td>1.0533</td>\n",
       "      <td>0.084425</td>\n",
       "    </tr>\n",
       "    <tr>\n",
       "      <th>2014-01-06</th>\n",
       "      <td>Z8888</td>\n",
       "      <td>TSEC+GreTai Non-Banking index</td>\n",
       "      <td>2014/01/06</td>\n",
       "      <td>-0.4534</td>\n",
       "      <td>0.5783</td>\n",
       "      <td>0.4498</td>\n",
       "      <td>0.084425</td>\n",
       "    </tr>\n",
       "  </tbody>\n",
       "</table>\n",
       "</div>"
      ],
      "text/plain": [
       "           Security Name                         CoName    YY/MM/DD  \\\n",
       "YY/MM/DD                                                              \n",
       "2014-01-02       Z8888    TSEC+GreTai Non-Banking index  2014/01/02   \n",
       "2014-01-03       Z8888    TSEC+GreTai Non-Banking index  2014/01/03   \n",
       "2014-01-06       Z8888    TSEC+GreTai Non-Banking index  2014/01/06   \n",
       "\n",
       "            Market Risk Premium  Size Factor (3 Factor)  \\\n",
       "YY/MM/DD                                                  \n",
       "2014-01-02               0.0145                  0.7197   \n",
       "2014-01-03              -0.5858                  0.6868   \n",
       "2014-01-06              -0.4534                  0.5783   \n",
       "\n",
       "            Book to Market Factor  Risk-free Interest Rate  \n",
       "YY/MM/DD                                                    \n",
       "2014-01-02                 0.3039                 0.084425  \n",
       "2014-01-03                 1.0533                 0.084425  \n",
       "2014-01-06                 0.4498                 0.084425  "
      ]
     },
     "execution_count": 18,
     "metadata": {},
     "output_type": "execute_result"
    }
   ],
   "source": [
    "factors['Risk-free Interest Rate']=(factors['Risk-free Interest Rate']**(1/360)-1)*100\n",
    "factors.head(n=3)"
   ]
  },
  {
   "cell_type": "code",
   "execution_count": 19,
   "metadata": {},
   "outputs": [
    {
     "data": {
      "text/html": [
       "<div>\n",
       "<style scoped>\n",
       "    .dataframe tbody tr th:only-of-type {\n",
       "        vertical-align: middle;\n",
       "    }\n",
       "\n",
       "    .dataframe tbody tr th {\n",
       "        vertical-align: top;\n",
       "    }\n",
       "\n",
       "    .dataframe thead th {\n",
       "        text-align: right;\n",
       "    }\n",
       "</style>\n",
       "<table border=\"1\" class=\"dataframe\">\n",
       "  <thead>\n",
       "    <tr style=\"text-align: right;\">\n",
       "      <th></th>\n",
       "      <th>Uni-President</th>\n",
       "      <th>CoName</th>\n",
       "      <th>YY/MM/DD</th>\n",
       "      <th>Market Risk Premium</th>\n",
       "      <th>Size Factor (3 Factor)</th>\n",
       "      <th>Book to Market Factor</th>\n",
       "      <th>Risk-free Interest Rate</th>\n",
       "    </tr>\n",
       "  </thead>\n",
       "  <tbody>\n",
       "    <tr>\n",
       "      <th>2014-12-29</th>\n",
       "      <td>1.1134</td>\n",
       "      <td>TSEC+GreTai Non-Banking index</td>\n",
       "      <td>2014/12/29</td>\n",
       "      <td>0.7341</td>\n",
       "      <td>-0.2407</td>\n",
       "      <td>-0.4195</td>\n",
       "      <td>0.084425</td>\n",
       "    </tr>\n",
       "    <tr>\n",
       "      <th>2014-12-30</th>\n",
       "      <td>0.1001</td>\n",
       "      <td>TSEC+GreTai Non-Banking index</td>\n",
       "      <td>2014/12/30</td>\n",
       "      <td>-0.1990</td>\n",
       "      <td>0.1720</td>\n",
       "      <td>-0.2125</td>\n",
       "      <td>0.084425</td>\n",
       "    </tr>\n",
       "    <tr>\n",
       "      <th>2014-12-31</th>\n",
       "      <td>0.4000</td>\n",
       "      <td>TSEC+GreTai Non-Banking index</td>\n",
       "      <td>2014/12/31</td>\n",
       "      <td>0.4774</td>\n",
       "      <td>0.0670</td>\n",
       "      <td>-0.2604</td>\n",
       "      <td>0.084425</td>\n",
       "    </tr>\n",
       "  </tbody>\n",
       "</table>\n",
       "</div>"
      ],
      "text/plain": [
       "            Uni-President                         CoName    YY/MM/DD  \\\n",
       "2014-12-29         1.1134  TSEC+GreTai Non-Banking index  2014/12/29   \n",
       "2014-12-30         0.1001  TSEC+GreTai Non-Banking index  2014/12/30   \n",
       "2014-12-31         0.4000  TSEC+GreTai Non-Banking index  2014/12/31   \n",
       "\n",
       "            Market Risk Premium  Size Factor (3 Factor)  \\\n",
       "2014-12-29               0.7341                 -0.2407   \n",
       "2014-12-30              -0.1990                  0.1720   \n",
       "2014-12-31               0.4774                  0.0670   \n",
       "\n",
       "            Book to Market Factor  Risk-free Interest Rate  \n",
       "2014-12-29                -0.4195                 0.084425  \n",
       "2014-12-30                -0.2125                 0.084425  \n",
       "2014-12-31                -0.2604                 0.084425  "
      ]
     },
     "execution_count": 19,
     "metadata": {},
     "output_type": "execute_result"
    }
   ],
   "source": [
    "data=pd.concat([UniPresident,factors.iloc[:,1:]],axis=1).dropna()\n",
    "data.tail(n=3)"
   ]
  },
  {
   "cell_type": "code",
   "execution_count": 20,
   "metadata": {},
   "outputs": [],
   "source": [
    "data['Uni-President'] = data['Uni-President'] - data['Risk-free Interest Rate']"
   ]
  },
  {
   "cell_type": "code",
   "execution_count": 21,
   "metadata": {},
   "outputs": [
    {
     "data": {
      "text/plain": [
       "2014-01-02    0.474275\n",
       "2014-01-03   -1.010325\n",
       "2014-01-06   -0.084425\n",
       "2014-01-07   -0.271325\n",
       "2014-01-08   -0.458925\n",
       "                ...   \n",
       "2014-12-26   -0.084425\n",
       "2014-12-27   -0.084425\n",
       "2014-12-29    1.028975\n",
       "2014-12-30    0.015675\n",
       "2014-12-31    0.315575\n",
       "Name: Uni-President, Length: 248, dtype: float64"
      ]
     },
     "execution_count": 21,
     "metadata": {},
     "output_type": "execute_result"
    }
   ],
   "source": [
    "data['Uni-President']"
   ]
  },
  {
   "cell_type": "code",
   "execution_count": 22,
   "metadata": {},
   "outputs": [
    {
     "data": {
      "text/html": [
       "<div>\n",
       "<style scoped>\n",
       "    .dataframe tbody tr th:only-of-type {\n",
       "        vertical-align: middle;\n",
       "    }\n",
       "\n",
       "    .dataframe tbody tr th {\n",
       "        vertical-align: top;\n",
       "    }\n",
       "\n",
       "    .dataframe thead th {\n",
       "        text-align: right;\n",
       "    }\n",
       "</style>\n",
       "<table border=\"1\" class=\"dataframe\">\n",
       "  <thead>\n",
       "    <tr style=\"text-align: right;\">\n",
       "      <th></th>\n",
       "      <th>Market Risk Premium</th>\n",
       "      <th>Size Factor (3 Factor)</th>\n",
       "      <th>Book to Market Factor</th>\n",
       "    </tr>\n",
       "  </thead>\n",
       "  <tbody>\n",
       "    <tr>\n",
       "      <th>2014-01-02</th>\n",
       "      <td>0.0145</td>\n",
       "      <td>0.7197</td>\n",
       "      <td>0.3039</td>\n",
       "    </tr>\n",
       "    <tr>\n",
       "      <th>2014-01-03</th>\n",
       "      <td>-0.5858</td>\n",
       "      <td>0.6868</td>\n",
       "      <td>1.0533</td>\n",
       "    </tr>\n",
       "    <tr>\n",
       "      <th>2014-01-06</th>\n",
       "      <td>-0.4534</td>\n",
       "      <td>0.5783</td>\n",
       "      <td>0.4498</td>\n",
       "    </tr>\n",
       "    <tr>\n",
       "      <th>2014-01-07</th>\n",
       "      <td>0.1950</td>\n",
       "      <td>0.4554</td>\n",
       "      <td>0.7056</td>\n",
       "    </tr>\n",
       "    <tr>\n",
       "      <th>2014-01-08</th>\n",
       "      <td>0.6204</td>\n",
       "      <td>-0.0295</td>\n",
       "      <td>0.2259</td>\n",
       "    </tr>\n",
       "    <tr>\n",
       "      <th>...</th>\n",
       "      <td>...</td>\n",
       "      <td>...</td>\n",
       "      <td>...</td>\n",
       "    </tr>\n",
       "    <tr>\n",
       "      <th>2014-12-26</th>\n",
       "      <td>0.6399</td>\n",
       "      <td>-0.2479</td>\n",
       "      <td>0.0360</td>\n",
       "    </tr>\n",
       "    <tr>\n",
       "      <th>2014-12-27</th>\n",
       "      <td>0.1055</td>\n",
       "      <td>0.5418</td>\n",
       "      <td>0.0852</td>\n",
       "    </tr>\n",
       "    <tr>\n",
       "      <th>2014-12-29</th>\n",
       "      <td>0.7341</td>\n",
       "      <td>-0.2407</td>\n",
       "      <td>-0.4195</td>\n",
       "    </tr>\n",
       "    <tr>\n",
       "      <th>2014-12-30</th>\n",
       "      <td>-0.1990</td>\n",
       "      <td>0.1720</td>\n",
       "      <td>-0.2125</td>\n",
       "    </tr>\n",
       "    <tr>\n",
       "      <th>2014-12-31</th>\n",
       "      <td>0.4774</td>\n",
       "      <td>0.0670</td>\n",
       "      <td>-0.2604</td>\n",
       "    </tr>\n",
       "  </tbody>\n",
       "</table>\n",
       "<p>248 rows × 3 columns</p>\n",
       "</div>"
      ],
      "text/plain": [
       "            Market Risk Premium  Size Factor (3 Factor)  Book to Market Factor\n",
       "2014-01-02               0.0145                  0.7197                 0.3039\n",
       "2014-01-03              -0.5858                  0.6868                 1.0533\n",
       "2014-01-06              -0.4534                  0.5783                 0.4498\n",
       "2014-01-07               0.1950                  0.4554                 0.7056\n",
       "2014-01-08               0.6204                 -0.0295                 0.2259\n",
       "...                         ...                     ...                    ...\n",
       "2014-12-26               0.6399                 -0.2479                 0.0360\n",
       "2014-12-27               0.1055                  0.5418                 0.0852\n",
       "2014-12-29               0.7341                 -0.2407                -0.4195\n",
       "2014-12-30              -0.1990                  0.1720                -0.2125\n",
       "2014-12-31               0.4774                  0.0670                -0.2604\n",
       "\n",
       "[248 rows x 3 columns]"
      ]
     },
     "execution_count": 22,
     "metadata": {},
     "output_type": "execute_result"
    }
   ],
   "source": [
    "# 選擇市場溢酬因子、規模因子、淨值市價比因子作為影響因子去輸入\n",
    "data.iloc[:,3:6]"
   ]
  },
  {
   "cell_type": "code",
   "execution_count": 23,
   "metadata": {},
   "outputs": [
    {
     "data": {
      "text/html": [
       "<table class=\"simpletable\">\n",
       "<caption>OLS Regression Results</caption>\n",
       "<tr>\n",
       "  <th>Dep. Variable:</th>      <td>Uni-President</td>  <th>  R-squared:         </th> <td>   0.293</td>\n",
       "</tr>\n",
       "<tr>\n",
       "  <th>Model:</th>                   <td>OLS</td>       <th>  Adj. R-squared:    </th> <td>   0.284</td>\n",
       "</tr>\n",
       "<tr>\n",
       "  <th>Method:</th>             <td>Least Squares</td>  <th>  F-statistic:       </th> <td>   33.68</td>\n",
       "</tr>\n",
       "<tr>\n",
       "  <th>Date:</th>             <td>Fri, 07 May 2021</td> <th>  Prob (F-statistic):</th> <td>2.99e-18</td>\n",
       "</tr>\n",
       "<tr>\n",
       "  <th>Time:</th>                 <td>14:14:04</td>     <th>  Log-Likelihood:    </th> <td> -393.91</td>\n",
       "</tr>\n",
       "<tr>\n",
       "  <th>No. Observations:</th>      <td>   248</td>      <th>  AIC:               </th> <td>   795.8</td>\n",
       "</tr>\n",
       "<tr>\n",
       "  <th>Df Residuals:</th>          <td>   244</td>      <th>  BIC:               </th> <td>   809.9</td>\n",
       "</tr>\n",
       "<tr>\n",
       "  <th>Df Model:</th>              <td>     3</td>      <th>                     </th>     <td> </td>   \n",
       "</tr>\n",
       "<tr>\n",
       "  <th>Covariance Type:</th>      <td>nonrobust</td>    <th>                     </th>     <td> </td>   \n",
       "</tr>\n",
       "</table>\n",
       "<table class=\"simpletable\">\n",
       "<tr>\n",
       "             <td></td>               <th>coef</th>     <th>std err</th>      <th>t</th>      <th>P>|t|</th>  <th>[0.025</th>    <th>0.975]</th>  \n",
       "</tr>\n",
       "<tr>\n",
       "  <th>const</th>                  <td>   -0.1174</td> <td>    0.076</td> <td>   -1.543</td> <td> 0.124</td> <td>   -0.267</td> <td>    0.032</td>\n",
       "</tr>\n",
       "<tr>\n",
       "  <th>Market Risk Premium</th>    <td>    1.0794</td> <td>    0.112</td> <td>    9.622</td> <td> 0.000</td> <td>    0.858</td> <td>    1.300</td>\n",
       "</tr>\n",
       "<tr>\n",
       "  <th>Size Factor (3 Factor)</th> <td>   -0.0568</td> <td>    0.159</td> <td>   -0.357</td> <td> 0.722</td> <td>   -0.371</td> <td>    0.257</td>\n",
       "</tr>\n",
       "<tr>\n",
       "  <th>Book to Market Factor</th>  <td>   -0.0142</td> <td>    0.208</td> <td>   -0.068</td> <td> 0.946</td> <td>   -0.424</td> <td>    0.396</td>\n",
       "</tr>\n",
       "</table>\n",
       "<table class=\"simpletable\">\n",
       "<tr>\n",
       "  <th>Omnibus:</th>       <td>46.399</td> <th>  Durbin-Watson:     </th> <td>   2.153</td>\n",
       "</tr>\n",
       "<tr>\n",
       "  <th>Prob(Omnibus):</th> <td> 0.000</td> <th>  Jarque-Bera (JB):  </th> <td> 344.846</td>\n",
       "</tr>\n",
       "<tr>\n",
       "  <th>Skew:</th>          <td> 0.435</td> <th>  Prob(JB):          </th> <td>1.31e-75</td>\n",
       "</tr>\n",
       "<tr>\n",
       "  <th>Kurtosis:</th>      <td> 8.711</td> <th>  Cond. No.          </th> <td>    2.88</td>\n",
       "</tr>\n",
       "</table><br/><br/>Notes:<br/>[1] Standard Errors assume that the covariance matrix of the errors is correctly specified."
      ],
      "text/plain": [
       "<class 'statsmodels.iolib.summary.Summary'>\n",
       "\"\"\"\n",
       "                            OLS Regression Results                            \n",
       "==============================================================================\n",
       "Dep. Variable:          Uni-President   R-squared:                       0.293\n",
       "Model:                            OLS   Adj. R-squared:                  0.284\n",
       "Method:                 Least Squares   F-statistic:                     33.68\n",
       "Date:                Fri, 07 May 2021   Prob (F-statistic):           2.99e-18\n",
       "Time:                        14:14:04   Log-Likelihood:                -393.91\n",
       "No. Observations:                 248   AIC:                             795.8\n",
       "Df Residuals:                     244   BIC:                             809.9\n",
       "Df Model:                           3                                         \n",
       "Covariance Type:            nonrobust                                         \n",
       "==========================================================================================\n",
       "                             coef    std err          t      P>|t|      [0.025      0.975]\n",
       "------------------------------------------------------------------------------------------\n",
       "const                     -0.1174      0.076     -1.543      0.124      -0.267       0.032\n",
       "Market Risk Premium        1.0794      0.112      9.622      0.000       0.858       1.300\n",
       "Size Factor (3 Factor)    -0.0568      0.159     -0.357      0.722      -0.371       0.257\n",
       "Book to Market Factor     -0.0142      0.208     -0.068      0.946      -0.424       0.396\n",
       "==============================================================================\n",
       "Omnibus:                       46.399   Durbin-Watson:                   2.153\n",
       "Prob(Omnibus):                  0.000   Jarque-Bera (JB):              344.846\n",
       "Skew:                           0.435   Prob(JB):                     1.31e-75\n",
       "Kurtosis:                       8.711   Cond. No.                         2.88\n",
       "==============================================================================\n",
       "\n",
       "Notes:\n",
       "[1] Standard Errors assume that the covariance matrix of the errors is correctly specified.\n",
       "\"\"\""
      ]
     },
     "execution_count": 23,
     "metadata": {},
     "output_type": "execute_result"
    }
   ],
   "source": [
    "import statsmodels.api as sm\n",
    "regThrFac=sm.OLS(data['Uni-President'],sm.add_constant(data.iloc[:,3:6]))\n",
    "result=regThrFac.fit()\n",
    "result.summary()"
   ]
  },
  {
   "cell_type": "code",
   "execution_count": 24,
   "metadata": {},
   "outputs": [
    {
     "data": {
      "text/plain": [
       "const                    -0.117379\n",
       "Market Risk Premium       1.079372\n",
       "Size Factor (3 Factor)   -0.056831\n",
       "Book to Market Factor    -0.014195\n",
       "dtype: float64"
      ]
     },
     "execution_count": 24,
     "metadata": {},
     "output_type": "execute_result"
    }
   ],
   "source": [
    "result.params"
   ]
  },
  {
   "cell_type": "markdown",
   "metadata": {},
   "source": [
    "## (c)分別使用建構的CAPM模型與三因子模型估計宏達電2015年1月的收益率，分別比較兩者的結果"
   ]
  },
  {
   "cell_type": "markdown",
   "metadata": {},
   "source": [
    "#### CAPM模型的R-squared是0.104，而三因子模型的R-squared為0.293，因此三因子模型的準確性相較CAPM模型要好些，對數據的擬合也較好"
   ]
  },
  {
   "cell_type": "code",
   "execution_count": null,
   "metadata": {},
   "outputs": [],
   "source": []
  }
 ],
 "metadata": {
  "kernelspec": {
   "display_name": "Python 3",
   "language": "python",
   "name": "python3"
  },
  "language_info": {
   "codemirror_mode": {
    "name": "ipython",
    "version": 3
   },
   "file_extension": ".py",
   "mimetype": "text/x-python",
   "name": "python",
   "nbconvert_exporter": "python",
   "pygments_lexer": "ipython3",
   "version": "3.7.9"
  }
 },
 "nbformat": 4,
 "nbformat_minor": 4
}
