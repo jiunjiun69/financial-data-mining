{
 "cells": [
  {
   "cell_type": "code",
   "execution_count": 1,
   "metadata": {},
   "outputs": [
    {
     "name": "stdout",
     "output_type": "stream",
     "text": [
      "{'1月13日': '7.31', '1月14日': '7.28', '1月15日': '7.40', '1月16日': '7.43', '1月17日': '7.41'}\n"
     ]
    }
   ],
   "source": [
    "# (a)\n",
    "data={\"1月13日\":\"7.31\",\"1月14日\":\"7.28\",\"1月15日\":\"7.40\",\"1月16日\":\"7.43\",\"1月17日\":\"7.41\"}\n",
    "print(data)"
   ]
  },
  {
   "cell_type": "code",
   "execution_count": 2,
   "metadata": {},
   "outputs": [
    {
     "name": "stdout",
     "output_type": "stream",
     "text": [
      "{'1月13日': '7.31', '1月14日': '7.28', '1月15日': '7.40', '1月16日': '7.43', '1月17日': '7.41', '1月20日': '7.44'}\n"
     ]
    }
   ],
   "source": [
    "# (b)\n",
    "data.setdefault('1月20日','7.44')\n",
    "print(data)"
   ]
  },
  {
   "cell_type": "code",
   "execution_count": 3,
   "metadata": {},
   "outputs": [
    {
     "data": {
      "text/plain": [
       "'7.41'"
      ]
     },
     "execution_count": 3,
     "metadata": {},
     "output_type": "execute_result"
    }
   ],
   "source": [
    "# (c)\n",
    "import datetime\n",
    "nowTime = datetime.datetime.strptime(\"1月21日\",\"%m月%d日\")\n",
    "time_range = datetime.timedelta(days = -4)\n",
    "newTime = nowTime + time_range \n",
    "timeString = str(newTime.month) + '月' + str(newTime.day) + '日'\n",
    "data[timeString]"
   ]
  },
  {
   "cell_type": "code",
   "execution_count": 4,
   "metadata": {},
   "outputs": [
    {
     "name": "stdout",
     "output_type": "stream",
     "text": [
      "{'1月13日': '7.31', '1月14日': '7.28', '1月15日': '7.40', '1月16日': '7.50', '1月17日': '7.41', '1月20日': '7.44'}\n"
     ]
    }
   ],
   "source": [
    "# (d)\n",
    "dic1={\"1月16日\":\"7.50\"}\n",
    "data.update(dic1)\n",
    "print(data)"
   ]
  },
  {
   "cell_type": "code",
   "execution_count": null,
   "metadata": {},
   "outputs": [],
   "source": []
  },
  {
   "cell_type": "code",
   "execution_count": 5,
   "metadata": {},
   "outputs": [
    {
     "name": "stdout",
     "output_type": "stream",
     "text": [
      "1月15日買進\n",
      "1月16日賣出\n",
      "1月16日買進\n",
      "1月17日賣出\n",
      "1月20日買進\n"
     ]
    }
   ],
   "source": [
    "# 5.\n",
    "# 假設總資產1月13日時為100\n",
    "assets = {'1月13日': '', '1月14日': '', '1月15日': '', '1月16日': '', '1月17日': '', '1月20日': ''}\n",
    "price = 100\n",
    "dic1 = {\"1月13日\":price}\n",
    "assets.update(dic1)\n",
    "\n",
    "n = 0\n",
    "sale = 0\n",
    "act = 0\n",
    "act_cpy = 0\n",
    "temp_assets = 0\n",
    "temp = data['1月13日']\n",
    "tempKey = '1月13日'\n",
    "\n",
    "for key in data.keys():\n",
    "    n += 1\n",
    "    if n == 1:\n",
    "        temp = data[key]\n",
    "        tempKey = key\n",
    "        act_cpy = 1\n",
    "        tempKey = '1月13日'\n",
    "    else:\n",
    "        if act == 0:\n",
    "            act_cpy = 1\n",
    "            \n",
    "        if act_cpy == 1 and sale!=1 and temp >= data[key]:\n",
    "            assets[key] = assets[tempKey] # 沒動作時，資產抓取前一天值\n",
    "            act_cpy = 0\n",
    "            \n",
    "        if sale==1:\n",
    "            print(key + '賣出')\n",
    "            assets[key] = assets[tempKey] - temp_assets\n",
    "            sale = 0\n",
    "            act = 1\n",
    "            \n",
    "        if temp < data[key]:\n",
    "            print(key + '買進')\n",
    "            temp_assets = assets[tempKey] * 0.5\n",
    "            assets[key] = assets[tempKey] + temp_assets\n",
    "            sale = 1\n",
    "            act = 1\n",
    "            temp = data[key]\n",
    "        else:\n",
    "            temp = data[key]\n",
    "        tempKey = key"
   ]
  },
  {
   "cell_type": "code",
   "execution_count": 6,
   "metadata": {},
   "outputs": [
    {
     "data": {
      "text/plain": [
       "{'1月13日': 100,\n",
       " '1月14日': 100,\n",
       " '1月15日': 150.0,\n",
       " '1月16日': 225.0,\n",
       " '1月17日': 150.0,\n",
       " '1月20日': 225.0}"
      ]
     },
     "execution_count": 6,
     "metadata": {},
     "output_type": "execute_result"
    }
   ],
   "source": [
    "assets"
   ]
  },
  {
   "cell_type": "code",
   "execution_count": null,
   "metadata": {},
   "outputs": [],
   "source": []
  }
 ],
 "metadata": {
  "kernelspec": {
   "display_name": "Python 3",
   "language": "python",
   "name": "python3"
  },
  "language_info": {
   "codemirror_mode": {
    "name": "ipython",
    "version": 3
   },
   "file_extension": ".py",
   "mimetype": "text/x-python",
   "name": "python",
   "nbconvert_exporter": "python",
   "pygments_lexer": "ipython3",
   "version": "3.7.9"
  }
 },
 "nbformat": 4,
 "nbformat_minor": 4
}
