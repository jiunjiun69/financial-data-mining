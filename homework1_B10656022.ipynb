{
 "cells": [
  {
   "cell_type": "code",
   "execution_count": 1,
   "metadata": {},
   "outputs": [],
   "source": [
    "# B10656022 林泓均\n",
    "# Homework 1\n",
    "# upload Ch5 Ipython exercise\n",
    "\n",
    "# 習題 1, 4\n",
    "\n",
    "# 1.使用if/else寫一個函數，如果輸入值是奇數，返回這個數本身，若為偶數，返回0，若非整數，則列印Error: please input an integer\n",
    "# 4. 使用for 迴圈和switch檢查向量(-1,0,2,39)是否和向量(1:4)有重合"
   ]
  },
  {
   "cell_type": "code",
   "execution_count": 2,
   "metadata": {},
   "outputs": [
    {
     "name": "stdout",
     "output_type": "stream",
     "text": [
      "Error: please input an integer\n",
      "0\n",
      "3\n"
     ]
    }
   ],
   "source": [
    "# 習題 1\n",
    "def numberChecker(number):\n",
    "    if number % 1 == 0:\n",
    "        if number % 2 == 0:\n",
    "            return 0\n",
    "        else:\n",
    "            return number\n",
    "    else:\n",
    "        return 'Error: please input an integer'\n",
    "\n",
    "print(numberChecker(0.69))\n",
    "print(numberChecker(2))\n",
    "print(numberChecker(3))"
   ]
  },
  {
   "cell_type": "code",
   "execution_count": 3,
   "metadata": {},
   "outputs": [
    {
     "name": "stdout",
     "output_type": "stream",
     "text": [
      "有重合\n"
     ]
    }
   ],
   "source": [
    "# 習題 4\n",
    "import numpy as np\n",
    "\n",
    "a = np.array([-1, 0, 2, 39])\n",
    "b = np.array([1, 2, 3, 4])\n",
    "n = 0\n",
    "\n",
    "for i in range(len(a)):\n",
    "    for j in range(len(b)):\n",
    "        if(a[i] == b[j]):\n",
    "            n += 1\n",
    "            \n",
    "def case1(num):\n",
    "    if num != 0:\n",
    "        print('有重合')\n",
    "    pass\n",
    "def case2(num):\n",
    "    if num == 0:\n",
    "        print('無重合')\n",
    "    pass\n",
    "\n",
    "switch={\n",
    "1: case1,\n",
    "2: case2,\n",
    "}\n",
    "\n",
    "switch[1](n)\n",
    "switch[2](n)"
   ]
  },
  {
   "cell_type": "code",
   "execution_count": null,
   "metadata": {},
   "outputs": [],
   "source": []
  },
  {
   "cell_type": "code",
   "execution_count": null,
   "metadata": {},
   "outputs": [],
   "source": []
  },
  {
   "cell_type": "code",
   "execution_count": null,
   "metadata": {},
   "outputs": [],
   "source": []
  }
 ],
 "metadata": {
  "kernelspec": {
   "display_name": "Python 3",
   "language": "python",
   "name": "python3"
  },
  "language_info": {
   "codemirror_mode": {
    "name": "ipython",
    "version": 3
   },
   "file_extension": ".py",
   "mimetype": "text/x-python",
   "name": "python",
   "nbconvert_exporter": "python",
   "pygments_lexer": "ipython3",
   "version": "3.7.9"
  }
 },
 "nbformat": 4,
 "nbformat_minor": 4
}
